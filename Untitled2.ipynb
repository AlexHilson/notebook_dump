{
 "cells": [
  {
   "cell_type": "code",
   "execution_count": 1,
   "metadata": {
    "collapsed": false
   },
   "outputs": [],
   "source": [
    "from dask.bytes import read_bytes, open_files\n",
    "import s3fs"
   ]
  },
  {
   "cell_type": "code",
   "execution_count": 2,
   "metadata": {
    "collapsed": false
   },
   "outputs": [
    {
     "data": {
      "text/plain": [
       "[<dask.bytes.core.OpenFile at 0x7f6f06ee84e0>]"
      ]
     },
     "execution_count": 2,
     "metadata": {},
     "output_type": "execute_result"
    }
   ],
   "source": [
    "files = open_files('s3://mogreps-g/prods_op_mogreps-g_20160101_00_00_003.nc', anon=True)\n",
    "files"
   ]
  },
  {
   "cell_type": "code",
   "execution_count": 3,
   "metadata": {
    "collapsed": false
   },
   "outputs": [],
   "source": [
    "f = files[0]"
   ]
  },
  {
   "cell_type": "code",
   "execution_count": 4,
   "metadata": {
    "collapsed": false
   },
   "outputs": [
    {
     "name": "stdout",
     "output_type": "stream",
     "text": [
      "<bound method DaskS3FileSystem.open of <dask.bytes.s3.DaskS3FileSystem object at 0x7f6f1c015198>>\n",
      "s3://mogreps-g/prods_op_mogreps-g_20160101_00_00_003.nc\n"
     ]
    }
   ],
   "source": [
    "print(f.myopen)\n",
    "print(f.path)"
   ]
  },
  {
   "cell_type": "code",
   "execution_count": 5,
   "metadata": {
    "collapsed": false
   },
   "outputs": [
    {
     "name": "stdout",
     "output_type": "stream",
     "text": [
      "b'\\x89HDF\\r\\n\\x1a\\n\\x02\\x08\\x08\\x00\\x00\\x00\\x00\\x00\\x00\\x00\\x00\\x00\\xff\\xff\\xff\\xff\\xff\\xff\\xff\\xff\\x98%\\x80\\x04\\x00\\x00\\x00\\x000\\x00\\x00\\x00\\x00\\x00\\x00\\x00\\x13\\x06\\xb4\\x03OHDR\\x02\\x0c\\xb4\\x02\"\\x00\\x00\\x00\\x00\\x00\\x03C\\x00\\x00\\x00\\x00\\x00\\x00\\x00o\\xfc\\x17\\x00\\x00\\x00\\x00\\x00\\x01\\xfd\\x17\\x00\\x00\\x00\\x00\\x00\\'\\xfd\\x17\\x00\\x00\\x00\\x00\\x00\\n\\x02\\x00\\x01\\x00\\x00\\x00\\x00\\x10\\x10\\x00\\x00\\x00\\x00&\\xf9\\x17\\x00\\x00\\x00\\x00\\x00\\x1b\\x01\\x00\\x00\\x00\\x00\\x00\\x00\\x15\\x1c\\x00\\x04\\x00\\x00\\x00\\x039\\x00\\xff\\xff\\xff\\xff\\xff\\xff\\xff\\xff\\xff\\xff\\xff\\xff\\xff\\xff\\xff\\xff\\xff\\xff\\xff\\xff\\xff\\xff\\xff\\xff\\x00F\\x00\\x00\\x00\\x00\\x00\\x00\\x00\\x00\\x00\\x00\\x00\\x00\\x00\\x00\\x00\\x00\\x00\\x00\\x00\\x00\\x00\\x00\\x00\\x00\\x00\\x00\\x00\\x00\\x00\\x00\\x00\\x00\\x00\\x00\\x00\\x00\\x00\\x00\\x00\\x00\\x00\\x00\\x00\\x00\\x00\\x00\\x00\\x00\\x00\\x00\\x00\\x00\\x0e\\x00\\x00\\x00\\x00\\x00\\x00*\\x00\\x00\\x00\\x00\\x00\\x00\\x00\\x00\\x00\\x00\\x00\\x00\\x00\\x00\\x03o\\xe0cOCHK\\x10\\x10\\x00\\x00\\x00\\x00A\\xfa\\x17\\x00\\x00\\x00\\x00\\x00u\\x00\\x00\\x00\\x00\\x00\\x00\\x00\\x0cG\\x00\\x00\\x04\\x00\\x03\\x00\\x06\\x00\\x14\\x00\\x14\\x00\\x00units\\x00\\x19\\x01\\x00\\x00\\x10\\x00\\x00\\x00\\x10\\x00\\x00\\x00\\x01\\x00\\x00\\x00\\x00\\x00\\x08\\x00\\x02\\x01\\x01\\x01\\x01\\x00\\x00\\x00\\x00\\x00\\x00\\x00\\x01\\x00\\x00\\x00\\x00\\x00\\x00\\x00\\x01\\x00\\x00\\x000\\x10\\x00\\x00\\x00\\x00\\x00\\x00\\x0f\\x00\\x00\\x00\\x0cQ\\x00\\x00\\x05\\x00\\x03\\x00\\x10\\x00\\x14\\x00\\x14\\x00\\x00um_stash_source\\x00\\x19\\x01\\x00\\x00\\x10\\x00\\x00\\x00\\x10\\x00\\x00\\x00\\x01\\x00\\x00\\x00\\x00\\x00\\x08\\x00\\x02\\x01\\x01\\x01\\x01\\x00\\x00\\x00\\x00\\x00\\x00\\x00\\x01\\x00\\x00\\x00\\x00\\x00\\x00\\x00\\n\\x00\\x00\\x000\\x10\\x00\\x00\\x00\\x00\\x00\\x00\\x10\\x00\\x00\\x00\\x00\\x00\\x00\\x00\\x8a\\xa8S\\xe0BTHD\\x00\\t\\x00\\x02\\x00\\x00\\r\\x00\\x00\\x00d(\\xb4{O\\x02\\x00\\x00\\x00\\x00\\t\\x00\\t\\x00\\x00\\x00\\x00\\x00\\x00\\x00~\\x86t\\x96e\\x19\\n\\x00\\x00\\x00\\x00\\x00\\x00\\xebO)\\x81OHDR\\x02\\r\\xa5\\x01\\x01\\x14\\x00\\x00\\x00\\x00\\x02\\x01\\x01\\x01\\x03\\x00\\x00\\x00\\x00\\x00\\x00\\x00\\x03\\x00\\x00\\x00\\x00\\x00\\x00\\x00\\x03\\x14\\x00\\x01\\x00\\x00\\x11 \\x1f\\x00\\x04\\x00\\x00\\x00\\x00\\x00 \\x00\\x17\\x08\\x00\\x17\\x7f\\x00\\x00\\x00\\x05\\n\\x00\\x01\\x00\\x00\\x03*\\x04\\x00\\x00\\x00\\x00\\x00\\xf0|\\x10\\x10\\x00\\x00\\x00\\x00\\xf6\\x07\\x00\\x00\\x00\\x00\\x00\\x00l\\x00\\x00\\x00\\x00\\x00\\x00\\x00\\x15\\x1c\\x00\\x04\\x00\\x00\\x00\\x03\\x07\\x00\\xff\\xff\\xff\\xff\\xff\\xff\\xff\\xff\\xff\\xff\\xff\\xff\\xff\\xff\\xff\\xff\\xff\\xff\\xff\\xff\\xff\\xff\\xff\\xff\\x0c+\\x00\\x00\\x00\\x00\\x03\\x00\\x06\\x00\\x08\\x00\\x04\\x00\\x00CLASS\\x00\\x13\\x00\\x00\\x00\\x10\\x00\\x00\\x00\\x02\\x00\\x00\\x00DIMENSION_SCALE\\x00\\x0c#\\x00\\x00\\x01\\x00\\x03\\x00\\x05\\x00\\x08\\x00\\x04\\x00\\x00NAME\\x00\\x13\\x00\\x00\\x00\\t\\x00\\x00\\x00\\x02\\x00\\x00\\x00pressure\\x00\\x0c+\\x00\\x00\\x02\\x00\\x03\\x00\\x0e\\x00\\x0c\\x00\\x04\\x00\\x00_Netcdf4Dimid\\x00\\x10\\x08\\x00\\x00\\x04\\x00\\x00\\x00\\x00\\x00 \\x00\\x02\\x00\\x00\\x00\\x01\\x00\\x00\\x00\\x0cG\\x00\\x00\\x05\\x00\\x03\\x00\\x06\\x00\\x14\\x00\\x14\\x00\\x00units\\x00\\x19\\x01\\x00\\x00\\x10\\x00\\x00\\x00\\x10\\x00\\x00\\x00\\x01\\x00\\x00\\x00\\x00\\x00\\x08\\x00\\x02\\x01\\x01\\x01\\x01\\x00\\x00\\x00\\x00\\x00\\x00\\x00\\x01\\x00\\x00\\x00\\x00\\x00\\x00\\x00\\x03\\x00\\x00\\x000\\x10\\x00\\x00\\x00\\x00\\x00\\x00&\\x00\\x00\\x00\\x0cK\\x00\\x00\\x06\\x00\\x03\\x00\\n\\x00\\x14\\x00\\x14\\x00\\x00long_name\\x00\\x19\\x01\\x00\\x00\\x10\\x00\\x00\\x00\\x10\\x00\\x00\\x00\\x01\\x00\\x00\\x00\\x00\\x00\\x08\\x00\\x02\\x01\\x01\\x01\\x01\\x00\\x00\\x00\\x00\\x00\\x00\\x00\\x01\\x00\\x00\\x00\\x00\\x00\\x00\\x00\\x08\\x00\\x00\\x000\\x10\\x00\\x00\\x00\\x00\\x00\\x00\\'\\x00\\x00\\x00j\\x04LHOHDR\\x02\\rV\\x01\\x01\\x14\\x00\\x00\\x00\\x00\\x02\\x01\\x01\\x01 \\x03\\x00\\x00\\x00\\x00\\x00\\x00 \\x03\\x00\\x00\\x00\\x00\\x00\\x00\\x03\\x14\\x00\\x01\\x00\\x00\\x11 \\x1f\\x00\\x04\\x00\\x00\\x00\\x00\\x00 \\x00\\x17\\x08\\x00\\x17\\x7f\\x00\\x00\\x00\\x05\\n\\x00\\x01\\x00\\x00\\x03*\\x04\\x00\\x00\\x00\\x00\\x00\\xf0|\\x10\\x10\\x00'\n",
      "CPU times: user 36 ms, sys: 8 ms, total: 44 ms\n",
      "Wall time: 153 ms\n"
     ]
    }
   ],
   "source": [
    "%%time\n",
    "with f as inf:\n",
    "    print(inf.read(1000))"
   ]
  },
  {
   "cell_type": "code",
   "execution_count": 27,
   "metadata": {
    "collapsed": true
   },
   "outputs": [],
   "source": [
    "import dask.bag as db"
   ]
  },
  {
   "cell_type": "code",
   "execution_count": 22,
   "metadata": {
    "collapsed": false
   },
   "outputs": [],
   "source": [
    "x = db.read_text('s3://mogreps-g/prods_op_mogreps-g_20160101_00_00_003.nc')"
   ]
  },
  {
   "cell_type": "code",
   "execution_count": 25,
   "metadata": {
    "collapsed": false
   },
   "outputs": [
    {
     "ename": "FileNotFoundError",
     "evalue": "mogreps-g/prods_op_mogreps-g_20160101_00_00_003.nc\n\nTraceback\n---------\n  File \"/opt/conda/lib/python3.5/site-packages/dask/async.py\", line 268, in execute_task\n    result = _execute_task(task, data)\n  File \"/opt/conda/lib/python3.5/site-packages/dask/async.py\", line 249, in _execute_task\n    return func(*args2)\n  File \"/opt/conda/lib/python3.5/site-packages/dask/bag/core.py\", line 1637, in safe_take\n    r = list(take(n, b))\n  File \"/opt/conda/lib/python3.5/site-packages/dask/bag/text.py\", line 96, in file_to_blocks\n    with lazy_file as f:\n  File \"/opt/conda/lib/python3.5/site-packages/dask/bytes/core.py\", line 313, in __enter__\n    f = f2 = self.myopen(self.path, mode=mode)\n  File \"/opt/conda/lib/python3.5/site-packages/dask/bytes/s3.py\", line 42, in open\n    return S3FileSystem.open(self, s3_path, mode=mode)\n  File \"/opt/conda/lib/python3.5/site-packages/s3fs/core.py\", line 258, in open\n    fill_cache=fill_cache)\n  File \"/opt/conda/lib/python3.5/site-packages/s3fs/core.py\", line 855, in __init__\n    self.size = self.info()['Size']\n  File \"/opt/conda/lib/python3.5/site-packages/s3fs/core.py\", line 861, in info\n    return self.s3.info(self.path)\n  File \"/opt/conda/lib/python3.5/site-packages/s3fs/core.py\", line 365, in info\n    raise FileNotFoundError(path)\n",
     "output_type": "error",
     "traceback": [
      "\u001b[0;31m---------------------------------------------------------------------------\u001b[0m",
      "\u001b[0;31mFileNotFoundError\u001b[0m                         Traceback (most recent call last)",
      "\u001b[0;32m<ipython-input-25-be4a10c4b844>\u001b[0m in \u001b[0;36m<module>\u001b[0;34m()\u001b[0m\n\u001b[0;32m----> 1\u001b[0;31m \u001b[0mx\u001b[0m\u001b[0;34m.\u001b[0m\u001b[0mtake\u001b[0m\u001b[0;34m(\u001b[0m\u001b[0;36m1\u001b[0m\u001b[0;34m)\u001b[0m\u001b[0;34m\u001b[0m\u001b[0m\n\u001b[0m",
      "\u001b[0;32m/opt/conda/lib/python3.5/site-packages/dask/bag/core.py\u001b[0m in \u001b[0;36mtake\u001b[0;34m(self, k, npartitions, compute)\u001b[0m\n\u001b[1;32m    975\u001b[0m \u001b[0;34m\u001b[0m\u001b[0m\n\u001b[1;32m    976\u001b[0m         \u001b[0;32mif\u001b[0m \u001b[0mcompute\u001b[0m\u001b[0;34m:\u001b[0m\u001b[0;34m\u001b[0m\u001b[0m\n\u001b[0;32m--> 977\u001b[0;31m             \u001b[0;32mreturn\u001b[0m \u001b[0mtuple\u001b[0m\u001b[0;34m(\u001b[0m\u001b[0mb\u001b[0m\u001b[0;34m.\u001b[0m\u001b[0mcompute\u001b[0m\u001b[0;34m(\u001b[0m\u001b[0;34m)\u001b[0m\u001b[0;34m)\u001b[0m\u001b[0;34m\u001b[0m\u001b[0m\n\u001b[0m\u001b[1;32m    978\u001b[0m         \u001b[0;32melse\u001b[0m\u001b[0;34m:\u001b[0m\u001b[0;34m\u001b[0m\u001b[0m\n\u001b[1;32m    979\u001b[0m             \u001b[0;32mreturn\u001b[0m \u001b[0mb\u001b[0m\u001b[0;34m\u001b[0m\u001b[0m\n",
      "\u001b[0;32m/opt/conda/lib/python3.5/site-packages/dask/base.py\u001b[0m in \u001b[0;36mcompute\u001b[0;34m(self, **kwargs)\u001b[0m\n\u001b[1;32m     77\u001b[0m             \u001b[0mExtra\u001b[0m \u001b[0mkeywords\u001b[0m \u001b[0mto\u001b[0m \u001b[0mforward\u001b[0m \u001b[0mto\u001b[0m \u001b[0mthe\u001b[0m \u001b[0mscheduler\u001b[0m\u001b[0;31m \u001b[0m\u001b[0;31m`\u001b[0m\u001b[0;31m`\u001b[0m\u001b[0mget\u001b[0m\u001b[0;31m`\u001b[0m\u001b[0;31m`\u001b[0m \u001b[0mfunction\u001b[0m\u001b[0;34m.\u001b[0m\u001b[0;34m\u001b[0m\u001b[0m\n\u001b[1;32m     78\u001b[0m         \"\"\"\n\u001b[0;32m---> 79\u001b[0;31m         \u001b[0;32mreturn\u001b[0m \u001b[0mcompute\u001b[0m\u001b[0;34m(\u001b[0m\u001b[0mself\u001b[0m\u001b[0;34m,\u001b[0m \u001b[0;34m**\u001b[0m\u001b[0mkwargs\u001b[0m\u001b[0;34m)\u001b[0m\u001b[0;34m[\u001b[0m\u001b[0;36m0\u001b[0m\u001b[0;34m]\u001b[0m\u001b[0;34m\u001b[0m\u001b[0m\n\u001b[0m\u001b[1;32m     80\u001b[0m \u001b[0;34m\u001b[0m\u001b[0m\n\u001b[1;32m     81\u001b[0m     \u001b[0;34m@\u001b[0m\u001b[0mclassmethod\u001b[0m\u001b[0;34m\u001b[0m\u001b[0m\n",
      "\u001b[0;32m/opt/conda/lib/python3.5/site-packages/dask/base.py\u001b[0m in \u001b[0;36mcompute\u001b[0;34m(*args, **kwargs)\u001b[0m\n\u001b[1;32m    177\u001b[0m         \u001b[0mdsk\u001b[0m \u001b[0;34m=\u001b[0m \u001b[0mmerge\u001b[0m\u001b[0;34m(\u001b[0m\u001b[0mvar\u001b[0m\u001b[0;34m.\u001b[0m\u001b[0mdask\u001b[0m \u001b[0;32mfor\u001b[0m \u001b[0mvar\u001b[0m \u001b[0;32min\u001b[0m \u001b[0mvariables\u001b[0m\u001b[0;34m)\u001b[0m\u001b[0;34m\u001b[0m\u001b[0m\n\u001b[1;32m    178\u001b[0m     \u001b[0mkeys\u001b[0m \u001b[0;34m=\u001b[0m \u001b[0;34m[\u001b[0m\u001b[0mvar\u001b[0m\u001b[0;34m.\u001b[0m\u001b[0m_keys\u001b[0m\u001b[0;34m(\u001b[0m\u001b[0;34m)\u001b[0m \u001b[0;32mfor\u001b[0m \u001b[0mvar\u001b[0m \u001b[0;32min\u001b[0m \u001b[0mvariables\u001b[0m\u001b[0;34m]\u001b[0m\u001b[0;34m\u001b[0m\u001b[0m\n\u001b[0;32m--> 179\u001b[0;31m     \u001b[0mresults\u001b[0m \u001b[0;34m=\u001b[0m \u001b[0mget\u001b[0m\u001b[0;34m(\u001b[0m\u001b[0mdsk\u001b[0m\u001b[0;34m,\u001b[0m \u001b[0mkeys\u001b[0m\u001b[0;34m,\u001b[0m \u001b[0;34m**\u001b[0m\u001b[0mkwargs\u001b[0m\u001b[0;34m)\u001b[0m\u001b[0;34m\u001b[0m\u001b[0m\n\u001b[0m\u001b[1;32m    180\u001b[0m \u001b[0;34m\u001b[0m\u001b[0m\n\u001b[1;32m    181\u001b[0m     \u001b[0mresults_iter\u001b[0m \u001b[0;34m=\u001b[0m \u001b[0miter\u001b[0m\u001b[0;34m(\u001b[0m\u001b[0mresults\u001b[0m\u001b[0;34m)\u001b[0m\u001b[0;34m\u001b[0m\u001b[0m\n",
      "\u001b[0;32m/opt/conda/lib/python3.5/site-packages/dask/multiprocessing.py\u001b[0m in \u001b[0;36mget\u001b[0;34m(dsk, keys, num_workers, func_loads, func_dumps, optimize_graph, **kwargs)\u001b[0m\n\u001b[1;32m     84\u001b[0m         result = get_async(pool.apply_async, len(pool._pool), dsk3, keys,\n\u001b[1;32m     85\u001b[0m                            \u001b[0mget_id\u001b[0m\u001b[0;34m=\u001b[0m\u001b[0m_process_get_id\u001b[0m\u001b[0;34m,\u001b[0m\u001b[0;34m\u001b[0m\u001b[0m\n\u001b[0;32m---> 86\u001b[0;31m                            dumps=dumps, loads=loads, **kwargs)\n\u001b[0m\u001b[1;32m     87\u001b[0m     \u001b[0;32mfinally\u001b[0m\u001b[0;34m:\u001b[0m\u001b[0;34m\u001b[0m\u001b[0m\n\u001b[1;32m     88\u001b[0m         \u001b[0;32mif\u001b[0m \u001b[0mcleanup\u001b[0m\u001b[0;34m:\u001b[0m\u001b[0;34m\u001b[0m\u001b[0m\n",
      "\u001b[0;32m/opt/conda/lib/python3.5/site-packages/dask/async.py\u001b[0m in \u001b[0;36mget_async\u001b[0;34m(apply_async, num_workers, dsk, result, cache, get_id, raise_on_exception, rerun_exceptions_locally, callbacks, dumps, loads, **kwargs)\u001b[0m\n\u001b[1;32m    491\u001b[0m                     \u001b[0m_execute_task\u001b[0m\u001b[0;34m(\u001b[0m\u001b[0mtask\u001b[0m\u001b[0;34m,\u001b[0m \u001b[0mdata\u001b[0m\u001b[0;34m)\u001b[0m  \u001b[0;31m# Re-execute locally\u001b[0m\u001b[0;34m\u001b[0m\u001b[0m\n\u001b[1;32m    492\u001b[0m                 \u001b[0;32melse\u001b[0m\u001b[0;34m:\u001b[0m\u001b[0;34m\u001b[0m\u001b[0m\n\u001b[0;32m--> 493\u001b[0;31m                     \u001b[0;32mraise\u001b[0m\u001b[0;34m(\u001b[0m\u001b[0mremote_exception\u001b[0m\u001b[0;34m(\u001b[0m\u001b[0mres\u001b[0m\u001b[0;34m,\u001b[0m \u001b[0mtb\u001b[0m\u001b[0;34m)\u001b[0m\u001b[0;34m)\u001b[0m\u001b[0;34m\u001b[0m\u001b[0m\n\u001b[0m\u001b[1;32m    494\u001b[0m             \u001b[0mstate\u001b[0m\u001b[0;34m[\u001b[0m\u001b[0;34m'cache'\u001b[0m\u001b[0;34m]\u001b[0m\u001b[0;34m[\u001b[0m\u001b[0mkey\u001b[0m\u001b[0;34m]\u001b[0m \u001b[0;34m=\u001b[0m \u001b[0mres\u001b[0m\u001b[0;34m\u001b[0m\u001b[0m\n\u001b[1;32m    495\u001b[0m             \u001b[0mfinish_task\u001b[0m\u001b[0;34m(\u001b[0m\u001b[0mdsk\u001b[0m\u001b[0;34m,\u001b[0m \u001b[0mkey\u001b[0m\u001b[0;34m,\u001b[0m \u001b[0mstate\u001b[0m\u001b[0;34m,\u001b[0m \u001b[0mresults\u001b[0m\u001b[0;34m,\u001b[0m \u001b[0mkeyorder\u001b[0m\u001b[0;34m.\u001b[0m\u001b[0mget\u001b[0m\u001b[0;34m)\u001b[0m\u001b[0;34m\u001b[0m\u001b[0m\n",
      "\u001b[0;31mFileNotFoundError\u001b[0m: mogreps-g/prods_op_mogreps-g_20160101_00_00_003.nc\n\nTraceback\n---------\n  File \"/opt/conda/lib/python3.5/site-packages/dask/async.py\", line 268, in execute_task\n    result = _execute_task(task, data)\n  File \"/opt/conda/lib/python3.5/site-packages/dask/async.py\", line 249, in _execute_task\n    return func(*args2)\n  File \"/opt/conda/lib/python3.5/site-packages/dask/bag/core.py\", line 1637, in safe_take\n    r = list(take(n, b))\n  File \"/opt/conda/lib/python3.5/site-packages/dask/bag/text.py\", line 96, in file_to_blocks\n    with lazy_file as f:\n  File \"/opt/conda/lib/python3.5/site-packages/dask/bytes/core.py\", line 313, in __enter__\n    f = f2 = self.myopen(self.path, mode=mode)\n  File \"/opt/conda/lib/python3.5/site-packages/dask/bytes/s3.py\", line 42, in open\n    return S3FileSystem.open(self, s3_path, mode=mode)\n  File \"/opt/conda/lib/python3.5/site-packages/s3fs/core.py\", line 258, in open\n    fill_cache=fill_cache)\n  File \"/opt/conda/lib/python3.5/site-packages/s3fs/core.py\", line 855, in __init__\n    self.size = self.info()['Size']\n  File \"/opt/conda/lib/python3.5/site-packages/s3fs/core.py\", line 861, in info\n    return self.s3.info(self.path)\n  File \"/opt/conda/lib/python3.5/site-packages/s3fs/core.py\", line 365, in info\n    raise FileNotFoundError(path)\n"
     ]
    }
   ],
   "source": [
    "x.take(1)"
   ]
  },
  {
   "cell_type": "code",
   "execution_count": 7,
   "metadata": {
    "collapsed": true
   },
   "outputs": [],
   "source": [
    "import iris"
   ]
  },
  {
   "cell_type": "code",
   "execution_count": 32,
   "metadata": {
    "collapsed": false
   },
   "outputs": [
    {
     "name": "stdout",
     "output_type": "stream",
     "text": [
      "CPU times: user 12 ms, sys: 4 ms, total: 16 ms\n",
      "Wall time: 750 ms\n"
     ]
    },
    {
     "name": "stderr",
     "output_type": "stream",
     "text": [
      "/opt/conda/lib/python3.5/site-packages/iris/fileformats/cf.py:1140: IrisDeprecation: NetCDF default loading behaviour currently does not expose variables which define reference surfaces for dimensionless vertical coordinates as independent Cubes. This behaviour is deprecated in favour of automatic promotion to Cubes. To switch to the new behaviour, set iris.FUTURE.netcdf_promote to True.\n",
      "  warn_deprecated(msg)\n",
      "/opt/conda/lib/python3.5/site-packages/iris/fileformats/_pyke_rules/compiled_krb/fc_rules_cf_fc.py:1551: UserWarning: Ignoring netCDF variable 'Base_reflectivity_surface_layer' invalid units 'dB'\n",
      "  warnings.warn(msg)\n"
     ]
    }
   ],
   "source": [
    "%%time\n",
    "x = iris.load(['http://thredds.ucar.edu/thredds/dodsC/grib/nexrad/composite/unidata/NEXRAD_Unidata_Reflectivity-20170418/Level3_Composite_N0R_20170418_0020.grib2'])"
   ]
  },
  {
   "cell_type": "code",
   "execution_count": 33,
   "metadata": {
    "collapsed": false
   },
   "outputs": [
    {
     "name": "stdout",
     "output_type": "stream",
     "text": [
      "Base reflectivity @ Ground or water surface layer / (unknown) (time: 1; -- : 3000; -- : 4736)\n",
      "     Dimension coordinates:\n",
      "          time                                                     x       -          -\n",
      "     Scalar coordinates:\n",
      "          forecast_reference_time: 2017-04-18 00:20:00\n",
      "     Attributes:\n",
      "          Conventions: CF-1.6\n",
      "          GRIB_table_version: 2,1\n",
      "          Grib2_Generating_Process_Type: Missing\n",
      "          Grib2_Level_Type: Ground or water surface\n",
      "          Grib2_Parameter: [ 0 15  1]\n",
      "          Grib2_Parameter_Category: Radar\n",
      "          Grib2_Parameter_Discipline: Meteorological products\n",
      "          Grib2_Parameter_Name: Base reflectivity\n",
      "          Grib_Variable_Id: VAR_0-15-1_L1_layer\n",
      "          Originating_or_generating_Center: United States National Center for Atmospheric Research (NCAR)\n",
      "          Originating_or_generating_Subcenter: 1\n",
      "          Type_of_generating_process: Missing\n",
      "          _CoordSysBuilder: ucar.nc2.dataset.conv.CF1Convention\n",
      "          description: Base reflectivity\n",
      "          featureType: GRID\n",
      "          file_format: GRIB-2\n",
      "          history: Read using CDM IOSP GribCollection v3\n",
      "          invalid_units: dB\n"
     ]
    }
   ],
   "source": [
    "print(x[0])"
   ]
  },
  {
   "cell_type": "code",
   "execution_count": 40,
   "metadata": {
    "collapsed": false
   },
   "outputs": [
    {
     "name": "stdout",
     "output_type": "stream",
     "text": [
      "CPU times: user 52 ms, sys: 0 ns, total: 52 ms\n",
      "Wall time: 2.33 s\n"
     ]
    },
    {
     "data": {
      "text/plain": [
       "masked_array(data =\n",
       " [[-- -- -- ..., -- -- --]\n",
       " [-- -- -- ..., -- -- --]\n",
       " [-- -- -- ..., -- -- --]\n",
       " ..., \n",
       " [-- -- -- ..., -- -- --]\n",
       " [-- -- -- ..., -- -- --]\n",
       " [-- -- -- ..., -- -- --]],\n",
       "             mask =\n",
       " [[ True  True  True ...,  True  True  True]\n",
       " [ True  True  True ...,  True  True  True]\n",
       " [ True  True  True ...,  True  True  True]\n",
       " ..., \n",
       " [ True  True  True ...,  True  True  True]\n",
       " [ True  True  True ...,  True  True  True]\n",
       " [ True  True  True ...,  True  True  True]],\n",
       "       fill_value = nan)"
      ]
     },
     "execution_count": 40,
     "metadata": {},
     "output_type": "execute_result"
    }
   ],
   "source": [
    "%%time\n",
    "x[0][0][:100][:].data"
   ]
  },
  {
   "cell_type": "code",
   "execution_count": null,
   "metadata": {
    "collapsed": true
   },
   "outputs": [],
   "source": [
    "%%time"
   ]
  }
 ],
 "metadata": {
  "kernelspec": {
   "display_name": "Python 3",
   "language": "python",
   "name": "python3"
  },
  "language_info": {
   "codemirror_mode": {
    "name": "ipython",
    "version": 3
   },
   "file_extension": ".py",
   "mimetype": "text/x-python",
   "name": "python",
   "nbconvert_exporter": "python",
   "pygments_lexer": "ipython3",
   "version": "3.5.2"
  }
 },
 "nbformat": 4,
 "nbformat_minor": 2
}
