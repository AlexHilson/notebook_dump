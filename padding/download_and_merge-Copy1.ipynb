{
 "cells": [
  {
   "cell_type": "code",
   "execution_count": 1,
   "metadata": {
    "collapsed": false
   },
   "outputs": [],
   "source": [
    "import iris"
   ]
  },
  {
   "cell_type": "code",
   "execution_count": 2,
   "metadata": {
    "collapsed": false
   },
   "outputs": [
    {
     "data": {
      "text/plain": [
       "'prods_op_mogreps-g_20160101_00'"
      ]
     },
     "execution_count": 2,
     "metadata": {},
     "output_type": "execute_result"
    }
   ],
   "source": [
    "month = '01'\n",
    "day = '01'\n",
    "run = '00'\n",
    "prefix = 'prods_op_mogreps-g_2016{}{}_{}'.format(month, day, run)\n",
    "prefix"
   ]
  },
  {
   "cell_type": "code",
   "execution_count": 9,
   "metadata": {
    "collapsed": false
   },
   "outputs": [
    {
     "name": "stdout",
     "output_type": "stream",
     "text": [
      "<class 'boto.s3.bucket.Bucket'>\n",
      "696\n"
     ]
    },
    {
     "data": {
      "text/plain": [
       "[<Key: mogreps-g,prods_op_mogreps-g_20160101_00_00_003.nc>,\n",
       " <Key: mogreps-g,prods_op_mogreps-g_20160101_00_00_006.nc>,\n",
       " <Key: mogreps-g,prods_op_mogreps-g_20160101_00_00_009.nc>,\n",
       " <Key: mogreps-g,prods_op_mogreps-g_20160101_00_00_012.nc>,\n",
       " <Key: mogreps-g,prods_op_mogreps-g_20160101_00_00_015.nc>,\n",
       " <Key: mogreps-g,prods_op_mogreps-g_20160101_00_00_018.nc>,\n",
       " <Key: mogreps-g,prods_op_mogreps-g_20160101_00_00_021.nc>,\n",
       " <Key: mogreps-g,prods_op_mogreps-g_20160101_00_00_024.nc>,\n",
       " <Key: mogreps-g,prods_op_mogreps-g_20160101_00_00_027.nc>,\n",
       " <Key: mogreps-g,prods_op_mogreps-g_20160101_00_00_030.nc>]"
      ]
     },
     "execution_count": 9,
     "metadata": {},
     "output_type": "execute_result"
    }
   ],
   "source": [
    "from boto.s3.connection import S3Connection\n",
    "import os\n",
    "\n",
    "os.environ['S3_USE_SIGV4'] = 'True'\n",
    "\n",
    "def list_keys(bucket, prefix, local_path='/usr/local/share/notebooks/data/mogreps-g/'):\n",
    "    conn = S3Connection(host='s3.eu-west-2.amazonaws.com')\n",
    "    bucket = conn.get_bucket(bucket)\n",
    "    print(type(bucket))\n",
    "    results = []\n",
    "    keys = list(iter(bucket.list(prefix=prefix)))\n",
    "    return keys\n",
    "\n",
    "\n",
    "in_keys = list_keys('mogreps-g', prefix)\n",
    "print(len(in_keys))\n",
    "in_keys[:10]"
   ]
  },
  {
   "cell_type": "code",
   "execution_count": 39,
   "metadata": {
    "collapsed": false
   },
   "outputs": [
    {
     "ename": "OSError",
     "evalue": "[Errno 28] No space left on device",
     "output_type": "error",
     "traceback": [
      "\u001b[0;31m---------------------------------------------------------------------------\u001b[0m",
      "\u001b[0;31mOSError\u001b[0m                                   Traceback (most recent call last)",
      "\u001b[0;32m/opt/conda/lib/python3.5/site-packages/boto/s3/key.py\u001b[0m in \u001b[0;36m_get_file_internal\u001b[0;34m(self, fp, headers, cb, num_cb, torrent, version_id, override_num_retries, response_headers, hash_algs, query_args)\u001b[0m\n\u001b[1;32m   1535\u001b[0m             \u001b[0;32mfor\u001b[0m \u001b[0mbytes\u001b[0m \u001b[0;32min\u001b[0m \u001b[0mself\u001b[0m\u001b[0;34m:\u001b[0m\u001b[0;34m\u001b[0m\u001b[0m\n\u001b[0;32m-> 1536\u001b[0;31m                 \u001b[0mfp\u001b[0m\u001b[0;34m.\u001b[0m\u001b[0mwrite\u001b[0m\u001b[0;34m(\u001b[0m\u001b[0mbytes\u001b[0m\u001b[0;34m)\u001b[0m\u001b[0;34m\u001b[0m\u001b[0m\n\u001b[0m\u001b[1;32m   1537\u001b[0m                 \u001b[0mdata_len\u001b[0m \u001b[0;34m+=\u001b[0m \u001b[0mlen\u001b[0m\u001b[0;34m(\u001b[0m\u001b[0mbytes\u001b[0m\u001b[0;34m)\u001b[0m\u001b[0;34m\u001b[0m\u001b[0m\n",
      "\u001b[0;31mOSError\u001b[0m: [Errno 28] No space left on device",
      "\nDuring handling of the above exception, another exception occurred:\n",
      "\u001b[0;31mStorageDataError\u001b[0m                          Traceback (most recent call last)",
      "\u001b[0;32m/opt/conda/lib/python3.5/site-packages/boto/s3/key.py\u001b[0m in \u001b[0;36mget_contents_to_filename\u001b[0;34m(self, filename, headers, cb, num_cb, torrent, version_id, res_download_handler, response_headers)\u001b[0m\n\u001b[1;32m   1711\u001b[0m                                           \u001b[0mres_download_handler\u001b[0m\u001b[0;34m=\u001b[0m\u001b[0mres_download_handler\u001b[0m\u001b[0;34m,\u001b[0m\u001b[0;34m\u001b[0m\u001b[0m\n\u001b[0;32m-> 1712\u001b[0;31m                                           response_headers=response_headers)\n\u001b[0m\u001b[1;32m   1713\u001b[0m         \u001b[0;32mexcept\u001b[0m \u001b[0mException\u001b[0m\u001b[0;34m:\u001b[0m\u001b[0;34m\u001b[0m\u001b[0m\n",
      "\u001b[0;32m/opt/conda/lib/python3.5/site-packages/boto/s3/key.py\u001b[0m in \u001b[0;36mget_contents_to_file\u001b[0;34m(self, fp, headers, cb, num_cb, torrent, version_id, res_download_handler, response_headers)\u001b[0m\n\u001b[1;32m   1649\u001b[0m                               \u001b[0mversion_id\u001b[0m\u001b[0;34m=\u001b[0m\u001b[0mversion_id\u001b[0m\u001b[0;34m,\u001b[0m\u001b[0;34m\u001b[0m\u001b[0m\n\u001b[0;32m-> 1650\u001b[0;31m                               response_headers=response_headers)\n\u001b[0m\u001b[1;32m   1651\u001b[0m \u001b[0;34m\u001b[0m\u001b[0m\n",
      "\u001b[0;32m/opt/conda/lib/python3.5/site-packages/boto/s3/key.py\u001b[0m in \u001b[0;36mget_file\u001b[0;34m(self, fp, headers, cb, num_cb, torrent, version_id, override_num_retries, response_headers)\u001b[0m\n\u001b[1;32m   1481\u001b[0m                                 \u001b[0mhash_algs\u001b[0m\u001b[0;34m=\u001b[0m\u001b[0;32mNone\u001b[0m\u001b[0;34m,\u001b[0m\u001b[0;34m\u001b[0m\u001b[0m\n\u001b[0;32m-> 1482\u001b[0;31m                                 query_args=None)\n\u001b[0m\u001b[1;32m   1483\u001b[0m \u001b[0;34m\u001b[0m\u001b[0m\n",
      "\u001b[0;32m/opt/conda/lib/python3.5/site-packages/boto/s3/key.py\u001b[0m in \u001b[0;36m_get_file_internal\u001b[0;34m(self, fp, headers, cb, num_cb, torrent, version_id, override_num_retries, response_headers, hash_algs, query_args)\u001b[0m\n\u001b[1;32m   1549\u001b[0m                 raise StorageDataError('Out of space for destination file '\n\u001b[0;32m-> 1550\u001b[0;31m                                        '%s' % fp.name)\n\u001b[0m\u001b[1;32m   1551\u001b[0m             \u001b[0;32mraise\u001b[0m\u001b[0;34m\u001b[0m\u001b[0m\n",
      "\u001b[0;31mStorageDataError\u001b[0m: BotoClientError: Out of space for destination file ./downloads/prods_op_mogreps-g_20160101_00_01_114.nc",
      "\nDuring handling of the above exception, another exception occurred:\n",
      "\u001b[0;31mOSError\u001b[0m                                   Traceback (most recent call last)",
      "\u001b[0;32m<ipython-input-39-4977a6f1b61d>\u001b[0m in \u001b[0;36m<module>\u001b[0;34m()\u001b[0m\n\u001b[1;32m     32\u001b[0m \u001b[0mbucket\u001b[0m \u001b[0;34m=\u001b[0m \u001b[0mconn\u001b[0m\u001b[0;34m.\u001b[0m\u001b[0mget_bucket\u001b[0m\u001b[0;34m(\u001b[0m\u001b[0;34m'mogreps-g'\u001b[0m\u001b[0;34m)\u001b[0m\u001b[0;34m\u001b[0m\u001b[0m\n\u001b[1;32m     33\u001b[0m \u001b[0;34m\u001b[0m\u001b[0m\n\u001b[0;32m---> 34\u001b[0;31m \u001b[0mfs\u001b[0m \u001b[0;34m=\u001b[0m \u001b[0;34m[\u001b[0m\u001b[0mdownload\u001b[0m\u001b[0;34m(\u001b[0m\u001b[0mkey\u001b[0m\u001b[0;34m.\u001b[0m\u001b[0mname\u001b[0m\u001b[0;34m,\u001b[0m \u001b[0mbucket\u001b[0m\u001b[0;34m)\u001b[0m \u001b[0;32mfor\u001b[0m \u001b[0mkey\u001b[0m \u001b[0;32min\u001b[0m \u001b[0min_keys\u001b[0m\u001b[0;34m]\u001b[0m\u001b[0;34m\u001b[0m\u001b[0m\n\u001b[0m",
      "\u001b[0;32m<ipython-input-39-4977a6f1b61d>\u001b[0m in \u001b[0;36m<listcomp>\u001b[0;34m(.0)\u001b[0m\n\u001b[1;32m     32\u001b[0m \u001b[0mbucket\u001b[0m \u001b[0;34m=\u001b[0m \u001b[0mconn\u001b[0m\u001b[0;34m.\u001b[0m\u001b[0mget_bucket\u001b[0m\u001b[0;34m(\u001b[0m\u001b[0;34m'mogreps-g'\u001b[0m\u001b[0;34m)\u001b[0m\u001b[0;34m\u001b[0m\u001b[0m\n\u001b[1;32m     33\u001b[0m \u001b[0;34m\u001b[0m\u001b[0m\n\u001b[0;32m---> 34\u001b[0;31m \u001b[0mfs\u001b[0m \u001b[0;34m=\u001b[0m \u001b[0;34m[\u001b[0m\u001b[0mdownload\u001b[0m\u001b[0;34m(\u001b[0m\u001b[0mkey\u001b[0m\u001b[0;34m.\u001b[0m\u001b[0mname\u001b[0m\u001b[0;34m,\u001b[0m \u001b[0mbucket\u001b[0m\u001b[0;34m)\u001b[0m \u001b[0;32mfor\u001b[0m \u001b[0mkey\u001b[0m \u001b[0;32min\u001b[0m \u001b[0min_keys\u001b[0m\u001b[0;34m]\u001b[0m\u001b[0;34m\u001b[0m\u001b[0m\n\u001b[0m",
      "\u001b[0;32m<ipython-input-39-4977a6f1b61d>\u001b[0m in \u001b[0;36mdownload\u001b[0;34m(key_name, bucket)\u001b[0m\n\u001b[1;32m     26\u001b[0m         \u001b[0;32mpass\u001b[0m\u001b[0;34m\u001b[0m\u001b[0m\n\u001b[1;32m     27\u001b[0m     \u001b[0mf_name\u001b[0m \u001b[0;34m=\u001b[0m \u001b[0;34m'./downloads/{}'\u001b[0m\u001b[0;34m.\u001b[0m\u001b[0mformat\u001b[0m\u001b[0;34m(\u001b[0m\u001b[0mkey\u001b[0m\u001b[0;34m.\u001b[0m\u001b[0mname\u001b[0m\u001b[0;34m)\u001b[0m\u001b[0;34m\u001b[0m\u001b[0m\n\u001b[0;32m---> 28\u001b[0;31m     \u001b[0mkey\u001b[0m\u001b[0;34m.\u001b[0m\u001b[0mget_contents_to_filename\u001b[0m\u001b[0;34m(\u001b[0m\u001b[0mf_name\u001b[0m\u001b[0;34m)\u001b[0m\u001b[0;34m\u001b[0m\u001b[0m\n\u001b[0m\u001b[1;32m     29\u001b[0m     \u001b[0;32mreturn\u001b[0m \u001b[0mf_name\u001b[0m\u001b[0;34m\u001b[0m\u001b[0m\n\u001b[1;32m     30\u001b[0m \u001b[0;34m\u001b[0m\u001b[0m\n",
      "\u001b[0;32m/opt/conda/lib/python3.5/site-packages/boto/s3/key.py\u001b[0m in \u001b[0;36mget_contents_to_filename\u001b[0;34m(self, filename, headers, cb, num_cb, torrent, version_id, res_download_handler, response_headers)\u001b[0m\n\u001b[1;32m   1710\u001b[0m                                           \u001b[0mversion_id\u001b[0m\u001b[0;34m=\u001b[0m\u001b[0mversion_id\u001b[0m\u001b[0;34m,\u001b[0m\u001b[0;34m\u001b[0m\u001b[0m\n\u001b[1;32m   1711\u001b[0m                                           \u001b[0mres_download_handler\u001b[0m\u001b[0;34m=\u001b[0m\u001b[0mres_download_handler\u001b[0m\u001b[0;34m,\u001b[0m\u001b[0;34m\u001b[0m\u001b[0m\n\u001b[0;32m-> 1712\u001b[0;31m                                           response_headers=response_headers)\n\u001b[0m\u001b[1;32m   1713\u001b[0m         \u001b[0;32mexcept\u001b[0m \u001b[0mException\u001b[0m\u001b[0;34m:\u001b[0m\u001b[0;34m\u001b[0m\u001b[0m\n\u001b[1;32m   1714\u001b[0m             \u001b[0mos\u001b[0m\u001b[0;34m.\u001b[0m\u001b[0mremove\u001b[0m\u001b[0;34m(\u001b[0m\u001b[0mfilename\u001b[0m\u001b[0;34m)\u001b[0m\u001b[0;34m\u001b[0m\u001b[0m\n",
      "\u001b[0;31mOSError\u001b[0m: [Errno 28] No space left on device"
     ]
    }
   ],
   "source": [
    "import iris\n",
    "import os\n",
    "\n",
    "from iris.cube import CubeList\n",
    "from dask import delayed\n",
    "import dask.bag as db\n",
    "import boto\n",
    "\n",
    "def load_cubes(address):\n",
    "    def add_realization(cube, field, filename):\n",
    "        if not cube.coords('realization'):\n",
    "            realization = int(filename.split('_')[-2])\n",
    "            realization_coord = iris.coords.AuxCoord(realization, standard_name='realization', var_name='realization')\n",
    "            cube.add_aux_coord(realization_coord)\n",
    "        cube.coord('realization').points.dtype = 'int32'\n",
    "        cube.coord('time').var_name = 'time'\n",
    "        cube.coord('forecast_period').var_name = 'forecast_period'\n",
    "    return iris.load(address, callback=add_realization)\n",
    "\n",
    "\n",
    "def download(key_name, bucket):\n",
    "    key = boto.s3.key.Key(bucket=bucket, name=key_name)\n",
    "    try:\n",
    "        os.mkdir('./downloads/')\n",
    "    except FileExistsError:\n",
    "        pass\n",
    "    f_name = './downloads/{}'.format(key.name)\n",
    "    key.get_contents_to_filename(f_name)\n",
    "    return f_name\n",
    "\n",
    "conn = S3Connection(host='s3.eu-west-2.amazonaws.com')\n",
    "bucket = conn.get_bucket('mogreps-g')\n",
    "\n",
    "fs = [download(key.name, bucket) for key in in_keys]"
   ]
  },
  {
   "cell_type": "code",
   "execution_count": null,
   "metadata": {
    "collapsed": false
   },
   "outputs": [],
   "source": [
    "fs"
   ]
  },
  {
   "cell_type": "code",
   "execution_count": null,
   "metadata": {
    "collapsed": false
   },
   "outputs": [],
   "source": [
    "iris.save(cube, target=('./visibility_in_air.nc'))"
   ]
  },
  {
   "cell_type": "code",
   "execution_count": 1,
   "metadata": {
    "collapsed": true
   },
   "outputs": [],
   "source": [
    "import iris"
   ]
  },
  {
   "cell_type": "code",
   "execution_count": 2,
   "metadata": {
    "collapsed": false
   },
   "outputs": [
    {
     "name": "stdout",
     "output_type": "stream",
     "text": [
      "-rw-r--r-- 1 root root 1.3G May  3 15:03 ./visibility_in_air.nc\r\n"
     ]
    }
   ],
   "source": [
    "!ls -lah ./visibility_in_air.nc"
   ]
  },
  {
   "cell_type": "code",
   "execution_count": 3,
   "metadata": {
    "collapsed": false
   },
   "outputs": [
    {
     "name": "stdout",
     "output_type": "stream",
     "text": [
      "CPU times: user 28 ms, sys: 0 ns, total: 28 ms\n",
      "Wall time: 29.3 ms\n"
     ]
    },
    {
     "name": "stderr",
     "output_type": "stream",
     "text": [
      "/opt/conda/lib/python3.5/site-packages/iris/fileformats/cf.py:1140: IrisDeprecation: NetCDF default loading behaviour currently does not expose variables which define reference surfaces for dimensionless vertical coordinates as independent Cubes. This behaviour is deprecated in favour of automatic promotion to Cubes. To switch to the new behaviour, set iris.FUTURE.netcdf_promote to True.\n",
      "  warn_deprecated(msg)\n"
     ]
    }
   ],
   "source": [
    "%%time\n",
    "one_param = iris.load('./visibility_in_air.nc')"
   ]
  },
  {
   "cell_type": "code",
   "execution_count": 4,
   "metadata": {
    "collapsed": false
   },
   "outputs": [
    {
     "name": "stdout",
     "output_type": "stream",
     "text": [
      "-rw-r--r-- 1 root root 35M Apr  4 14:16 ./prods_op_mogreps-g_20160101_00_00_006.nc\r\n"
     ]
    }
   ],
   "source": [
    "!ls -lah ./prods_op_mogreps-g_20160101_00_00_006.nc"
   ]
  },
  {
   "cell_type": "code",
   "execution_count": 5,
   "metadata": {
    "collapsed": false
   },
   "outputs": [
    {
     "name": "stderr",
     "output_type": "stream",
     "text": [
      "/opt/conda/lib/python3.5/site-packages/iris/fileformats/cf.py:1140: IrisDeprecation: NetCDF default loading behaviour currently does not expose variables which define reference surfaces for dimensionless vertical coordinates as independent Cubes. This behaviour is deprecated in favour of automatic promotion to Cubes. To switch to the new behaviour, set iris.FUTURE.netcdf_promote to True.\n",
      "  warn_deprecated(msg)\n"
     ]
    },
    {
     "name": "stdout",
     "output_type": "stream",
     "text": [
      "CPU times: user 244 ms, sys: 4 ms, total: 248 ms\n",
      "Wall time: 247 ms\n"
     ]
    }
   ],
   "source": [
    "%%time\n",
    "multi_param = iris.load('./prods_op_mogreps-g_20160101_00_00_006.nc')"
   ]
  },
  {
   "cell_type": "markdown",
   "metadata": {},
   "source": [
    "Single parameter cube:\n",
    "  - one parameter\n",
    "  - 58 timesteps\n",
    "  - twelve members"
   ]
  },
  {
   "cell_type": "code",
   "execution_count": 6,
   "metadata": {
    "collapsed": false
   },
   "outputs": [
    {
     "data": {
      "text/plain": [
       "[<iris 'Cube' of visibility_in_air / (m) (realization: 12; time: 58; latitude: 600; longitude: 800)>]"
      ]
     },
     "execution_count": 6,
     "metadata": {},
     "output_type": "execute_result"
    }
   ],
   "source": [
    "one_param"
   ]
  },
  {
   "cell_type": "markdown",
   "metadata": {},
   "source": [
    "Multi param cube:\n",
    "  - 28 parameters\n",
    "  - 1 timestep\n",
    "  - 1 member\n",
    "\n",
    "6 parameters have multiple pressure levels, I have not measured the impact of this"
   ]
  },
  {
   "cell_type": "code",
   "execution_count": 7,
   "metadata": {
    "collapsed": false
   },
   "outputs": [
    {
     "data": {
      "text/plain": [
       "[<iris 'Cube' of wet_bulb_freezing_level_altitude / (m) (latitude: 600; longitude: 800)>,\n",
       "<iris 'Cube' of wet_bulb_potential_temperature / (K) (pressure: 3; latitude: 600; longitude: 800)>,\n",
       "<iris 'Cube' of air_pressure_at_sea_level / (Pa) (latitude: 600; longitude: 800)>,\n",
       "<iris 'Cube' of air_temperature / (K) (latitude: 600; longitude: 800)>,\n",
       "<iris 'Cube' of air_temperature / (K) (pressure: 16; latitude: 600; longitude: 800)>,\n",
       "<iris 'Cube' of air_temperature / (K) (latitude: 600; longitude: 800)>,\n",
       "<iris 'Cube' of air_temperature / (K) (latitude: 600; longitude: 800)>,\n",
       "<iris 'Cube' of dew_point_temperature / (K) (latitude: 600; longitude: 800)>,\n",
       "<iris 'Cube' of fog_area_fraction / (1) (latitude: 600; longitude: 800)>,\n",
       "<iris 'Cube' of geopotential_height / (m) (pressure: 9; latitude: 600; longitude: 800)>,\n",
       "<iris 'Cube' of high_type_cloud_area_fraction / (1) (latitude: 600; longitude: 800)>,\n",
       "<iris 'Cube' of low_type_cloud_area_fraction / (1) (latitude: 600; longitude: 800)>,\n",
       "<iris 'Cube' of medium_type_cloud_area_fraction / (1) (latitude: 600; longitude: 800)>,\n",
       "<iris 'Cube' of relative_humidity / (%) (pressure: 16; latitude: 600; longitude: 800)>,\n",
       "<iris 'Cube' of relative_humidity / (%) (latitude: 600; longitude: 800)>,\n",
       "<iris 'Cube' of stratiform_rainfall_amount / (kg m-2) (latitude: 600; longitude: 800)>,\n",
       "<iris 'Cube' of stratiform_snowfall_amount / (kg m-2) (latitude: 600; longitude: 800)>,\n",
       "<iris 'Cube' of surface_downward_eastward_stress / (Pa) (latitude: 600; longitude: 800)>,\n",
       "<iris 'Cube' of surface_downward_northward_stress / (Pa) (latitude: 601; longitude: 800)>,\n",
       "<iris 'Cube' of visibility_in_air / (m) (latitude: 600; longitude: 800)>,\n",
       "<iris 'Cube' of wind_speed_of_gust / (m s-1) (latitude: 600; longitude: 800)>,\n",
       "<iris 'Cube' of wind_speed_of_gust / (m s-1) (latitude: 600; longitude: 800)>,\n",
       "<iris 'Cube' of x_wind / (m s-1) (pressure: 16; latitude: 601; longitude: 800)>,\n",
       "<iris 'Cube' of x_wind / (m s-1) (latitude: 601; longitude: 800)>,\n",
       "<iris 'Cube' of x_wind / (m s-1) (latitude: 600; longitude: 800)>,\n",
       "<iris 'Cube' of y_wind / (m s-1) (latitude: 601; longitude: 800)>,\n",
       "<iris 'Cube' of y_wind / (m s-1) (pressure: 16; latitude: 601; longitude: 800)>,\n",
       "<iris 'Cube' of y_wind / (m s-1) (latitude: 601; longitude: 800)>]"
      ]
     },
     "execution_count": 7,
     "metadata": {},
     "output_type": "execute_result"
    }
   ],
   "source": [
    "multi_param"
   ]
  },
  {
   "cell_type": "markdown",
   "metadata": {},
   "source": [
    "Time to load entire model, one parameter at a time:"
   ]
  },
  {
   "cell_type": "code",
   "execution_count": 8,
   "metadata": {
    "collapsed": false
   },
   "outputs": [
    {
     "name": "stdout",
     "output_type": "stream",
     "text": [
      "0.56 seconds\n"
     ]
    }
   ],
   "source": [
    "load_one_param_ms = 20\n",
    "number_of_params = 28\n",
    "\n",
    "print('{} seconds'.format((load_one_param_ms * number_of_params) / 1000))"
   ]
  },
  {
   "cell_type": "markdown",
   "metadata": {},
   "source": [
    "Time to load entire model, one timestep + member at a time:"
   ]
  },
  {
   "cell_type": "code",
   "execution_count": 9,
   "metadata": {
    "collapsed": false
   },
   "outputs": [
    {
     "name": "stdout",
     "output_type": "stream",
     "text": [
      "174.0 seconds\n"
     ]
    }
   ],
   "source": [
    "load_one_timestep_ms = 250\n",
    "number_of_timesteps = 58\n",
    "number_of_members = 12\n",
    "\n",
    "print('{} seconds'.format((load_one_timestep_ms * number_of_timesteps * number_of_members) / 1000))"
   ]
  },
  {
   "cell_type": "code",
   "execution_count": null,
   "metadata": {
    "collapsed": false
   },
   "outputs": [],
   "source": [
    "1300 * 28"
   ]
  },
  {
   "cell_type": "code",
   "execution_count": null,
   "metadata": {
    "collapsed": false
   },
   "outputs": [],
   "source": [
    "50 * 58 * 12"
   ]
  },
  {
   "cell_type": "code",
   "execution_count": null,
   "metadata": {
    "collapsed": true
   },
   "outputs": [],
   "source": []
  }
 ],
 "metadata": {
  "kernelspec": {
   "display_name": "Python 3",
   "language": "python",
   "name": "python3"
  },
  "language_info": {
   "codemirror_mode": {
    "name": "ipython",
    "version": 3
   },
   "file_extension": ".py",
   "mimetype": "text/x-python",
   "name": "python",
   "nbconvert_exporter": "python",
   "pygments_lexer": "ipython3",
   "version": "3.5.2"
  }
 },
 "nbformat": 4,
 "nbformat_minor": 2
}
