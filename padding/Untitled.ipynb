{
 "cells": [
  {
   "cell_type": "code",
   "execution_count": 1,
   "metadata": {
    "collapsed": true
   },
   "outputs": [],
   "source": [
    "import iris"
   ]
  },
  {
   "cell_type": "code",
   "execution_count": 2,
   "metadata": {
    "collapsed": false
   },
   "outputs": [
    {
     "name": "stderr",
     "output_type": "stream",
     "text": [
      "/opt/conda/lib/python3.5/site-packages/iris/fileformats/cf.py:1140: IrisDeprecation: NetCDF default loading behaviour currently does not expose variables which define reference surfaces for dimensionless vertical coordinates as independent Cubes. This behaviour is deprecated in favour of automatic promotion to Cubes. To switch to the new behaviour, set iris.FUTURE.netcdf_promote to True.\n",
      "  warn_deprecated(msg)\n"
     ]
    },
    {
     "data": {
      "text/plain": [
       "[<iris 'Cube' of visibility_in_air / (m) (realization: 12; time: 58; latitude: 600; longitude: 800)>]"
      ]
     },
     "execution_count": 2,
     "metadata": {},
     "output_type": "execute_result"
    }
   ],
   "source": [
    "iris.load('./visibility_in_air.nc')"
   ]
  },
  {
   "cell_type": "code",
   "execution_count": 4,
   "metadata": {
    "collapsed": false
   },
   "outputs": [
    {
     "data": {
      "text/plain": [
       "['total 2.9G',\n",
       " '4.0K drwxr-xr-x  3 root root 4.0K May  8 16:28 .',\n",
       " '4.0K drwxr-xr-x 10 root root 4.0K May  4 15:50 ..',\n",
       " '4.0K drwxr-xr-x  2 root root 4.0K May  8 16:28 .ipynb_checkpoints',\n",
       " '4.0K -rw-r--r--  1 root root   72 May  8 16:28 Untitled.ipynb',\n",
       " ' 52K -rw-r--r--  1 root root  49K Apr 27 16:15 big_dask.ipynb',\n",
       " '144K -rw-r--r--  1 root root 142K Apr 27 19:02 custom_graph.ipynb',\n",
       " '116K -rw-r--r--  1 root root 115K Apr 27 14:52 dask.ipynb',\n",
       " '8.0K -rw-r--r--  1 root root 4.1K Apr 27 12:47 example - different name.ipynb',\n",
       " ' 32K -rw-r--r--  1 root root  30K Apr 27 12:47 exploration.ipynb',\n",
       " ' 28K -rw-r--r--  1 root root  25K May  4 12:21 load_and_persist_mogreps.ipynb',\n",
       " ' 16K -rw-r--r--  1 root root  13K May  3 17:54 merge_persisted_cubes.ipynb',\n",
       " ' 80K -rw-r--r--  1 root root  80K Apr 27 18:41 mydask.png',\n",
       " ' 73M -rw-r--r--  1 root root  73M Apr 13 16:27 prods_op_mogreps-g_20160101_00_00_003.nc',\n",
       " ' 35M -rw-r--r--  1 root root  35M Apr  4 14:16 prods_op_mogreps-g_20160101_00_00_006.nc',\n",
       " ' 51M -rw-r--r--  1 root root  51M Apr 13 16:32 prods_op_mogreps-g_20160101_00_00_009.nc',\n",
       " ' 51M -rw-r--r--  1 root root  51M Apr 13 16:27 prods_op_mogreps-g_20160101_00_00_012.nc',\n",
       " ' 35M -rw-r--r--  1 root root  35M Apr  4 14:16 prods_op_mogreps-g_20160101_00_00_015.nc',\n",
       " ' 35M -rw-r--r--  1 root root  35M Apr  4 14:16 prods_op_mogreps-g_20160101_00_00_018.nc',\n",
       " '8.0K -rw-r--r--  1 root root 5.4K May  4 12:21 simple_mean.ipynb',\n",
       " '1.3G -rw-r--r--  1 root root 1.3G May  3 15:06 visibility2.nc',\n",
       " '1.3G -rw-r--r--  1 root root 1.3G May  3 15:03 visibility_in_air.nc']"
      ]
     },
     "execution_count": 4,
     "metadata": {},
     "output_type": "execute_result"
    }
   ],
   "source": [
    "!!ls -lsah"
   ]
  },
  {
   "cell_type": "code",
   "execution_count": null,
   "metadata": {
    "collapsed": true
   },
   "outputs": [],
   "source": []
  }
 ],
 "metadata": {
  "kernelspec": {
   "display_name": "Python 3",
   "language": "python",
   "name": "python3"
  },
  "language_info": {
   "codemirror_mode": {
    "name": "ipython",
    "version": 3
   },
   "file_extension": ".py",
   "mimetype": "text/x-python",
   "name": "python",
   "nbconvert_exporter": "python",
   "pygments_lexer": "ipython3",
   "version": "3.5.2"
  }
 },
 "nbformat": 4,
 "nbformat_minor": 2
}
