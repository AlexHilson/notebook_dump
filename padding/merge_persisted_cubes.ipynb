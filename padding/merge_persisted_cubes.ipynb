{
 "cells": [
  {
   "cell_type": "code",
   "execution_count": 14,
   "metadata": {
    "collapsed": false
   },
   "outputs": [
    {
     "data": {
      "text/plain": [
       "<Client: scheduler=\"172.31.18.5:8786\" processes=40 cores=40>"
      ]
     },
     "execution_count": 14,
     "metadata": {},
     "output_type": "execute_result"
    }
   ],
   "source": [
    "import iris\n",
    "from distributed import Client\n",
    "\n",
    "c = Client('172.31.18.5:8786')\n",
    "c"
   ]
  },
  {
   "cell_type": "code",
   "execution_count": 15,
   "metadata": {
    "collapsed": false
   },
   "outputs": [
    {
     "data": {
      "text/plain": [
       "<Client: scheduler=\"172.31.18.5:8786\" processes=40 cores=40>"
      ]
     },
     "execution_count": 15,
     "metadata": {},
     "output_type": "execute_result"
    }
   ],
   "source": [
    "c"
   ]
  },
  {
   "cell_type": "code",
   "execution_count": 16,
   "metadata": {
    "collapsed": true
   },
   "outputs": [],
   "source": [
    "cubes = iris.cube.CubeList(c.get_dataset('mogreps'))"
   ]
  },
  {
   "cell_type": "code",
   "execution_count": 17,
   "metadata": {
    "collapsed": false
   },
   "outputs": [
    {
     "data": {
      "text/plain": [
       "[<iris 'Cube' of wet_bulb_potential_temperature / (K) (time: 2; pressure: 3; latitude: 600; longitude: 800)>,\n",
       "<iris 'Cube' of wet_bulb_freezing_level_altitude / (m) (latitude: 600; longitude: 800)>,\n",
       "<iris 'Cube' of air_pressure_at_sea_level / (Pa) (time: 2; latitude: 600; longitude: 800)>,\n",
       "<iris 'Cube' of air_temperature / (K) (time: 2; pressure: 16; latitude: 600; longitude: 800)>,\n",
       "<iris 'Cube' of air_temperature / (K) (latitude: 600; longitude: 800)>,\n",
       "<iris 'Cube' of air_temperature / (K) (latitude: 600; longitude: 800)>,\n",
       "<iris 'Cube' of air_temperature / (K) (latitude: 600; longitude: 800)>,\n",
       "<iris 'Cube' of dew_point_temperature / (K) (latitude: 600; longitude: 800)>,\n",
       "<iris 'Cube' of fog_area_fraction / (1) (latitude: 600; longitude: 800)>,\n",
       "<iris 'Cube' of geopotential_height / (m) (time: 2; pressure: 9; latitude: 600; longitude: 800)>,\n",
       "<iris 'Cube' of high_type_cloud_area_fraction / (1) (latitude: 600; longitude: 800)>,\n",
       "<iris 'Cube' of low_type_cloud_area_fraction / (1) (latitude: 600; longitude: 800)>,\n",
       "<iris 'Cube' of medium_type_cloud_area_fraction / (1) (latitude: 600; longitude: 800)>,\n",
       "<iris 'Cube' of relative_humidity / (%) (latitude: 600; longitude: 800)>,\n",
       "<iris 'Cube' of relative_humidity / (%) (time: 2; pressure: 16; latitude: 600; longitude: 800)>,\n",
       "<iris 'Cube' of stratiform_rainfall_amount / (kg m-2) (latitude: 600; longitude: 800)>,\n",
       "<iris 'Cube' of stratiform_snowfall_amount / (kg m-2) (latitude: 600; longitude: 800)>,\n",
       "<iris 'Cube' of surface_downward_eastward_stress / (Pa) (latitude: 600; longitude: 800)>,\n",
       "<iris 'Cube' of surface_downward_northward_stress / (Pa) (latitude: 601; longitude: 800)>,\n",
       "<iris 'Cube' of visibility_in_air / (m) (latitude: 600; longitude: 800)>]"
      ]
     },
     "execution_count": 17,
     "metadata": {},
     "output_type": "execute_result"
    }
   ],
   "source": [
    "cubes[:20]"
   ]
  },
  {
   "cell_type": "code",
   "execution_count": null,
   "metadata": {
    "collapsed": false
   },
   "outputs": [],
   "source": [
    "cube = cubes.merge_cube()\n",
    "cube"
   ]
  },
  {
   "cell_type": "code",
   "execution_count": null,
   "metadata": {
    "collapsed": false
   },
   "outputs": [],
   "source": [
    "iris.save(cube, target=('./visibility_in_air.nc'))"
   ]
  },
  {
   "cell_type": "code",
   "execution_count": 1,
   "metadata": {
    "collapsed": true
   },
   "outputs": [],
   "source": [
    "import iris"
   ]
  },
  {
   "cell_type": "code",
   "execution_count": 2,
   "metadata": {
    "collapsed": false
   },
   "outputs": [
    {
     "name": "stdout",
     "output_type": "stream",
     "text": [
      "-rw-r--r-- 1 root root 1.3G May  3 15:03 ./visibility_in_air.nc\r\n"
     ]
    }
   ],
   "source": [
    "!ls -lah ./visibility_in_air.nc"
   ]
  },
  {
   "cell_type": "code",
   "execution_count": 3,
   "metadata": {
    "collapsed": false
   },
   "outputs": [
    {
     "name": "stdout",
     "output_type": "stream",
     "text": [
      "CPU times: user 28 ms, sys: 0 ns, total: 28 ms\n",
      "Wall time: 29.3 ms\n"
     ]
    },
    {
     "name": "stderr",
     "output_type": "stream",
     "text": [
      "/opt/conda/lib/python3.5/site-packages/iris/fileformats/cf.py:1140: IrisDeprecation: NetCDF default loading behaviour currently does not expose variables which define reference surfaces for dimensionless vertical coordinates as independent Cubes. This behaviour is deprecated in favour of automatic promotion to Cubes. To switch to the new behaviour, set iris.FUTURE.netcdf_promote to True.\n",
      "  warn_deprecated(msg)\n"
     ]
    }
   ],
   "source": [
    "%%time\n",
    "one_param = iris.load('./visibility_in_air.nc')"
   ]
  },
  {
   "cell_type": "code",
   "execution_count": 4,
   "metadata": {
    "collapsed": false
   },
   "outputs": [
    {
     "name": "stdout",
     "output_type": "stream",
     "text": [
      "-rw-r--r-- 1 root root 35M Apr  4 14:16 ./prods_op_mogreps-g_20160101_00_00_006.nc\r\n"
     ]
    }
   ],
   "source": [
    "!ls -lah ./prods_op_mogreps-g_20160101_00_00_006.nc"
   ]
  },
  {
   "cell_type": "code",
   "execution_count": 5,
   "metadata": {
    "collapsed": false
   },
   "outputs": [
    {
     "name": "stderr",
     "output_type": "stream",
     "text": [
      "/opt/conda/lib/python3.5/site-packages/iris/fileformats/cf.py:1140: IrisDeprecation: NetCDF default loading behaviour currently does not expose variables which define reference surfaces for dimensionless vertical coordinates as independent Cubes. This behaviour is deprecated in favour of automatic promotion to Cubes. To switch to the new behaviour, set iris.FUTURE.netcdf_promote to True.\n",
      "  warn_deprecated(msg)\n"
     ]
    },
    {
     "name": "stdout",
     "output_type": "stream",
     "text": [
      "CPU times: user 244 ms, sys: 4 ms, total: 248 ms\n",
      "Wall time: 247 ms\n"
     ]
    }
   ],
   "source": [
    "%%time\n",
    "multi_param = iris.load('./prods_op_mogreps-g_20160101_00_00_006.nc')"
   ]
  },
  {
   "cell_type": "markdown",
   "metadata": {},
   "source": [
    "Single parameter cube:\n",
    "  - one parameter\n",
    "  - 58 timesteps\n",
    "  - twelve members"
   ]
  },
  {
   "cell_type": "code",
   "execution_count": 6,
   "metadata": {
    "collapsed": false
   },
   "outputs": [
    {
     "data": {
      "text/plain": [
       "[<iris 'Cube' of visibility_in_air / (m) (realization: 12; time: 58; latitude: 600; longitude: 800)>]"
      ]
     },
     "execution_count": 6,
     "metadata": {},
     "output_type": "execute_result"
    }
   ],
   "source": [
    "one_param"
   ]
  },
  {
   "cell_type": "markdown",
   "metadata": {},
   "source": [
    "Multi param cube:\n",
    "  - 28 parameters\n",
    "  - 1 timestep\n",
    "  - 1 member\n",
    "\n",
    "6 parameters have multiple pressure levels, I have not measured the impact of this"
   ]
  },
  {
   "cell_type": "code",
   "execution_count": 7,
   "metadata": {
    "collapsed": false
   },
   "outputs": [
    {
     "data": {
      "text/plain": [
       "[<iris 'Cube' of wet_bulb_freezing_level_altitude / (m) (latitude: 600; longitude: 800)>,\n",
       "<iris 'Cube' of wet_bulb_potential_temperature / (K) (pressure: 3; latitude: 600; longitude: 800)>,\n",
       "<iris 'Cube' of air_pressure_at_sea_level / (Pa) (latitude: 600; longitude: 800)>,\n",
       "<iris 'Cube' of air_temperature / (K) (latitude: 600; longitude: 800)>,\n",
       "<iris 'Cube' of air_temperature / (K) (pressure: 16; latitude: 600; longitude: 800)>,\n",
       "<iris 'Cube' of air_temperature / (K) (latitude: 600; longitude: 800)>,\n",
       "<iris 'Cube' of air_temperature / (K) (latitude: 600; longitude: 800)>,\n",
       "<iris 'Cube' of dew_point_temperature / (K) (latitude: 600; longitude: 800)>,\n",
       "<iris 'Cube' of fog_area_fraction / (1) (latitude: 600; longitude: 800)>,\n",
       "<iris 'Cube' of geopotential_height / (m) (pressure: 9; latitude: 600; longitude: 800)>,\n",
       "<iris 'Cube' of high_type_cloud_area_fraction / (1) (latitude: 600; longitude: 800)>,\n",
       "<iris 'Cube' of low_type_cloud_area_fraction / (1) (latitude: 600; longitude: 800)>,\n",
       "<iris 'Cube' of medium_type_cloud_area_fraction / (1) (latitude: 600; longitude: 800)>,\n",
       "<iris 'Cube' of relative_humidity / (%) (pressure: 16; latitude: 600; longitude: 800)>,\n",
       "<iris 'Cube' of relative_humidity / (%) (latitude: 600; longitude: 800)>,\n",
       "<iris 'Cube' of stratiform_rainfall_amount / (kg m-2) (latitude: 600; longitude: 800)>,\n",
       "<iris 'Cube' of stratiform_snowfall_amount / (kg m-2) (latitude: 600; longitude: 800)>,\n",
       "<iris 'Cube' of surface_downward_eastward_stress / (Pa) (latitude: 600; longitude: 800)>,\n",
       "<iris 'Cube' of surface_downward_northward_stress / (Pa) (latitude: 601; longitude: 800)>,\n",
       "<iris 'Cube' of visibility_in_air / (m) (latitude: 600; longitude: 800)>,\n",
       "<iris 'Cube' of wind_speed_of_gust / (m s-1) (latitude: 600; longitude: 800)>,\n",
       "<iris 'Cube' of wind_speed_of_gust / (m s-1) (latitude: 600; longitude: 800)>,\n",
       "<iris 'Cube' of x_wind / (m s-1) (pressure: 16; latitude: 601; longitude: 800)>,\n",
       "<iris 'Cube' of x_wind / (m s-1) (latitude: 601; longitude: 800)>,\n",
       "<iris 'Cube' of x_wind / (m s-1) (latitude: 600; longitude: 800)>,\n",
       "<iris 'Cube' of y_wind / (m s-1) (latitude: 601; longitude: 800)>,\n",
       "<iris 'Cube' of y_wind / (m s-1) (pressure: 16; latitude: 601; longitude: 800)>,\n",
       "<iris 'Cube' of y_wind / (m s-1) (latitude: 601; longitude: 800)>]"
      ]
     },
     "execution_count": 7,
     "metadata": {},
     "output_type": "execute_result"
    }
   ],
   "source": [
    "multi_param"
   ]
  },
  {
   "cell_type": "markdown",
   "metadata": {},
   "source": [
    "Time to load entire model, one parameter at a time:"
   ]
  },
  {
   "cell_type": "code",
   "execution_count": 8,
   "metadata": {
    "collapsed": false
   },
   "outputs": [
    {
     "name": "stdout",
     "output_type": "stream",
     "text": [
      "0.56 seconds\n"
     ]
    }
   ],
   "source": [
    "load_one_param_ms = 20\n",
    "number_of_params = 28\n",
    "\n",
    "print('{} seconds'.format((load_one_param_ms * number_of_params) / 1000))"
   ]
  },
  {
   "cell_type": "markdown",
   "metadata": {},
   "source": [
    "Time to load entire model, one timestep + member at a time:"
   ]
  },
  {
   "cell_type": "code",
   "execution_count": 9,
   "metadata": {
    "collapsed": false
   },
   "outputs": [
    {
     "name": "stdout",
     "output_type": "stream",
     "text": [
      "174.0 seconds\n"
     ]
    }
   ],
   "source": [
    "load_one_timestep_ms = 250\n",
    "number_of_timesteps = 58\n",
    "number_of_members = 12\n",
    "\n",
    "print('{} seconds'.format((load_one_timestep_ms * number_of_timesteps * number_of_members) / 1000))"
   ]
  },
  {
   "cell_type": "code",
   "execution_count": null,
   "metadata": {
    "collapsed": false
   },
   "outputs": [],
   "source": [
    "1300 * 28"
   ]
  },
  {
   "cell_type": "code",
   "execution_count": null,
   "metadata": {
    "collapsed": false
   },
   "outputs": [],
   "source": [
    "50 * 58 * 12"
   ]
  },
  {
   "cell_type": "code",
   "execution_count": null,
   "metadata": {
    "collapsed": true
   },
   "outputs": [],
   "source": []
  }
 ],
 "metadata": {
  "kernelspec": {
   "display_name": "Python 3",
   "language": "python",
   "name": "python3"
  },
  "language_info": {
   "codemirror_mode": {
    "name": "ipython",
    "version": 3
   },
   "file_extension": ".py",
   "mimetype": "text/x-python",
   "name": "python",
   "nbconvert_exporter": "python",
   "pygments_lexer": "ipython3",
   "version": "3.5.2"
  }
 },
 "nbformat": 4,
 "nbformat_minor": 2
}
