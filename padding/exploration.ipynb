{
 "cells": [
  {
   "cell_type": "code",
   "execution_count": 1,
   "metadata": {
    "collapsed": true
   },
   "outputs": [],
   "source": [
    "import iris"
   ]
  },
  {
   "cell_type": "code",
   "execution_count": 2,
   "metadata": {
    "collapsed": false
   },
   "outputs": [
    {
     "name": "stderr",
     "output_type": "stream",
     "text": [
      "/opt/conda/lib/python3.5/site-packages/iris/fileformats/cf.py:1140: IrisDeprecation: NetCDF default loading behaviour currently does not expose variables which define reference surfaces for dimensionless vertical coordinates as independent Cubes. This behaviour is deprecated in favour of automatic promotion to Cubes. To switch to the new behaviour, set iris.FUTURE.netcdf_promote to True.\n",
      "  warn_deprecated(msg)\n"
     ]
    }
   ],
   "source": [
    "c = iris.load('./*.nc')"
   ]
  },
  {
   "cell_type": "code",
   "execution_count": 3,
   "metadata": {
    "collapsed": false
   },
   "outputs": [
    {
     "data": {
      "text/plain": [
       "[<iris 'Cube' of wet_bulb_freezing_level_altitude / (m) (latitude: 600; longitude: 800)>,\n",
       "<iris 'Cube' of wet_bulb_potential_temperature / (K) (time: 2; pressure: 3; latitude: 600; longitude: 800)>,\n",
       "<iris 'Cube' of wet_bulb_freezing_level_altitude / (m) (time: 2; latitude: 600; longitude: 800)>,\n",
       "<iris 'Cube' of wet_bulb_potential_temperature / (K) (time: 2; pressure: 3; latitude: 600; longitude: 800)>,\n",
       "<iris 'Cube' of air_pressure_at_sea_level / (Pa) (time: 2; latitude: 600; longitude: 800)>,\n",
       "<iris 'Cube' of air_pressure_at_sea_level / (Pa) (time: 2; latitude: 600; longitude: 800)>,\n",
       "<iris 'Cube' of air_temperature / (K) (latitude: 600; longitude: 800)>,\n",
       "<iris 'Cube' of air_temperature / (K) (latitude: 600; longitude: 800)>,\n",
       "<iris 'Cube' of air_temperature / (K) (time: 2; pressure: 16; latitude: 600; longitude: 800)>,\n",
       "<iris 'Cube' of air_temperature / (K) (latitude: 600; longitude: 800)>,\n",
       "<iris 'Cube' of air_temperature / (K) (forecast_period: 2; latitude: 600; longitude: 800)>,\n",
       "<iris 'Cube' of air_temperature / (K) (forecast_period: 2; latitude: 600; longitude: 800)>,\n",
       "<iris 'Cube' of air_temperature / (K) (time: 2; latitude: 600; longitude: 800)>,\n",
       "<iris 'Cube' of air_temperature / (K) (time: 2; pressure: 16; latitude: 600; longitude: 800)>,\n",
       "<iris 'Cube' of dew_point_temperature / (K) (latitude: 600; longitude: 800)>,\n",
       "<iris 'Cube' of dew_point_temperature / (K) (time: 2; latitude: 600; longitude: 800)>,\n",
       "<iris 'Cube' of fog_area_fraction / (1) (latitude: 600; longitude: 800)>,\n",
       "<iris 'Cube' of fog_area_fraction / (1) (time: 2; latitude: 600; longitude: 800)>,\n",
       "<iris 'Cube' of geopotential_height / (m) (time: 2; pressure: 9; latitude: 600; longitude: 800)>,\n",
       "<iris 'Cube' of geopotential_height / (m) (time: 2; pressure: 9; latitude: 600; longitude: 800)>,\n",
       "<iris 'Cube' of high_type_cloud_area_fraction / (1) (latitude: 600; longitude: 800)>,\n",
       "<iris 'Cube' of high_type_cloud_area_fraction / (1) (time: 2; latitude: 600; longitude: 800)>,\n",
       "<iris 'Cube' of low_type_cloud_area_fraction / (1) (latitude: 600; longitude: 800)>,\n",
       "<iris 'Cube' of low_type_cloud_area_fraction / (1) (time: 2; latitude: 600; longitude: 800)>,\n",
       "<iris 'Cube' of medium_type_cloud_area_fraction / (1) (latitude: 600; longitude: 800)>,\n",
       "<iris 'Cube' of medium_type_cloud_area_fraction / (1) (time: 2; latitude: 600; longitude: 800)>,\n",
       "<iris 'Cube' of relative_humidity / (%) (latitude: 600; longitude: 800)>,\n",
       "<iris 'Cube' of relative_humidity / (%) (time: 2; pressure: 16; latitude: 600; longitude: 800)>,\n",
       "<iris 'Cube' of relative_humidity / (%) (time: 2; pressure: 16; latitude: 600; longitude: 800)>,\n",
       "<iris 'Cube' of relative_humidity / (%) (time: 2; latitude: 600; longitude: 800)>,\n",
       "<iris 'Cube' of stratiform_rainfall_amount / (kg m-2) (latitude: 600; longitude: 800)>,\n",
       "<iris 'Cube' of stratiform_rainfall_amount / (kg m-2) (forecast_period: 2; latitude: 600; longitude: 800)>,\n",
       "<iris 'Cube' of stratiform_snowfall_amount / (kg m-2) (latitude: 600; longitude: 800)>,\n",
       "<iris 'Cube' of stratiform_snowfall_amount / (kg m-2) (forecast_period: 2; latitude: 600; longitude: 800)>,\n",
       "<iris 'Cube' of surface_downward_eastward_stress / (Pa) (latitude: 600; longitude: 800)>,\n",
       "<iris 'Cube' of surface_downward_eastward_stress / (Pa) (time: 2; latitude: 600; longitude: 800)>,\n",
       "<iris 'Cube' of surface_downward_northward_stress / (Pa) (latitude: 601; longitude: 800)>,\n",
       "<iris 'Cube' of surface_downward_northward_stress / (Pa) (time: 2; latitude: 601; longitude: 800)>,\n",
       "<iris 'Cube' of visibility_in_air / (m) (latitude: 600; longitude: 800)>,\n",
       "<iris 'Cube' of visibility_in_air / (m) (time: 2; latitude: 600; longitude: 800)>,\n",
       "<iris 'Cube' of wind_speed_of_gust / (m s-1) (latitude: 600; longitude: 800)>,\n",
       "<iris 'Cube' of wind_speed_of_gust / (m s-1) (latitude: 600; longitude: 800)>,\n",
       "<iris 'Cube' of wind_speed_of_gust / (m s-1) (forecast_period: 2; latitude: 600; longitude: 800)>,\n",
       "<iris 'Cube' of wind_speed_of_gust / (m s-1) (time: 2; latitude: 600; longitude: 800)>,\n",
       "<iris 'Cube' of x_wind / (m s-1) (time: 2; latitude: 600; longitude: 800)>,\n",
       "<iris 'Cube' of x_wind / (m s-1) (latitude: 601; longitude: 800)>,\n",
       "<iris 'Cube' of x_wind / (m s-1) (time: 2; pressure: 16; latitude: 601; longitude: 800)>,\n",
       "<iris 'Cube' of x_wind / (m s-1) (time: 2; latitude: 600; longitude: 800)>,\n",
       "<iris 'Cube' of x_wind / (m s-1) (time: 2; pressure: 16; latitude: 601; longitude: 800)>,\n",
       "<iris 'Cube' of x_wind / (m s-1) (time: 2; latitude: 601; longitude: 800)>,\n",
       "<iris 'Cube' of y_wind / (m s-1) (time: 2; pressure: 16; latitude: 601; longitude: 800)>,\n",
       "<iris 'Cube' of y_wind / (m s-1) (latitude: 601; longitude: 800)>,\n",
       "<iris 'Cube' of y_wind / (m s-1) (time: 2; latitude: 601; longitude: 800)>,\n",
       "<iris 'Cube' of y_wind / (m s-1) (time: 2; latitude: 601; longitude: 800)>,\n",
       "<iris 'Cube' of y_wind / (m s-1) (time: 2; pressure: 16; latitude: 601; longitude: 800)>,\n",
       "<iris 'Cube' of y_wind / (m s-1) (time: 2; latitude: 601; longitude: 800)>]"
      ]
     },
     "execution_count": 3,
     "metadata": {},
     "output_type": "execute_result"
    }
   ],
   "source": [
    "c"
   ]
  },
  {
   "cell_type": "code",
   "execution_count": 4,
   "metadata": {
    "collapsed": false
   },
   "outputs": [
    {
     "data": {
      "text/plain": [
       "[<iris 'Cube' of fog_area_fraction / (1) (latitude: 600; longitude: 800)>,\n",
       "<iris 'Cube' of fog_area_fraction / (1) (time: 2; latitude: 600; longitude: 800)>]"
      ]
     },
     "execution_count": 4,
     "metadata": {},
     "output_type": "execute_result"
    }
   ],
   "source": [
    "sample = iris.cube.CubeList([c[16], c[17]])\n",
    "sample"
   ]
  },
  {
   "cell_type": "code",
   "execution_count": 5,
   "metadata": {
    "collapsed": false
   },
   "outputs": [
    {
     "name": "stdout",
     "output_type": "stream",
     "text": [
      "DimCoord(array([ 3.]), standard_name='forecast_period', units=Unit('hours'), var_name='forecast_period_0')\n",
      "DimCoord(array([ 6.,  9.]), standard_name='forecast_period', units=Unit('hours'), var_name='forecast_period')\n"
     ]
    }
   ],
   "source": [
    "print(sample[0].coord('forecast_period'))\n",
    "print(sample[1].coord('forecast_period'))"
   ]
  },
  {
   "cell_type": "code",
   "execution_count": 13,
   "metadata": {
    "collapsed": false
   },
   "outputs": [
    {
     "ename": "ConcatenateError",
     "evalue": "failed to concatenate into a single cube.\n  Dimension coordinates differ: latitude, longitude != latitude, longitude, time\n  Auxiliary coordinates differ: < None > != forecast_period\n  Scalar coordinates differ: forecast_period, forecast_reference_time, time != forecast_reference_time\n  Data dimensions differ: 2 != 3",
     "output_type": "error",
     "traceback": [
      "\u001b[0;31m---------------------------------------------------------------------------\u001b[0m",
      "\u001b[0;31mConcatenateError\u001b[0m                          Traceback (most recent call last)",
      "\u001b[0;32m<ipython-input-13-085e2c38eeb2>\u001b[0m in \u001b[0;36m<module>\u001b[0;34m()\u001b[0m\n\u001b[0;32m----> 1\u001b[0;31m \u001b[0msample\u001b[0m\u001b[0;34m.\u001b[0m\u001b[0mconcatenate_cube\u001b[0m\u001b[0;34m(\u001b[0m\u001b[0;34m)\u001b[0m\u001b[0;34m\u001b[0m\u001b[0m\n\u001b[0m",
      "\u001b[0;32m/opt/conda/lib/python3.5/site-packages/iris/cube.py\u001b[0m in \u001b[0;36mconcatenate_cube\u001b[0;34m(self, check_aux_coords)\u001b[0m\n\u001b[1;32m    499\u001b[0m             res = iris._concatenate.concatenate(\n\u001b[1;32m    500\u001b[0m                 \u001b[0mself\u001b[0m\u001b[0;34m,\u001b[0m \u001b[0merror_on_mismatch\u001b[0m\u001b[0;34m=\u001b[0m\u001b[0;32mTrue\u001b[0m\u001b[0;34m,\u001b[0m\u001b[0;34m\u001b[0m\u001b[0m\n\u001b[0;32m--> 501\u001b[0;31m                 check_aux_coords=check_aux_coords)\n\u001b[0m\u001b[1;32m    502\u001b[0m             \u001b[0mn_res_cubes\u001b[0m \u001b[0;34m=\u001b[0m \u001b[0mlen\u001b[0m\u001b[0;34m(\u001b[0m\u001b[0mres\u001b[0m\u001b[0;34m)\u001b[0m\u001b[0;34m\u001b[0m\u001b[0m\n\u001b[1;32m    503\u001b[0m             \u001b[0;32mif\u001b[0m \u001b[0mn_res_cubes\u001b[0m \u001b[0;34m==\u001b[0m \u001b[0;36m1\u001b[0m\u001b[0;34m:\u001b[0m\u001b[0;34m\u001b[0m\u001b[0m\n",
      "\u001b[0;32m/opt/conda/lib/python3.5/site-packages/iris/_concatenate.py\u001b[0m in \u001b[0;36mconcatenate\u001b[0;34m(cubes, error_on_mismatch, check_aux_coords)\u001b[0m\n\u001b[1;32m    270\u001b[0m         \u001b[0;32mfor\u001b[0m \u001b[0mproto_cube\u001b[0m \u001b[0;32min\u001b[0m \u001b[0mproto_cubes\u001b[0m\u001b[0;34m:\u001b[0m\u001b[0;34m\u001b[0m\u001b[0m\n\u001b[1;32m    271\u001b[0m             registered = proto_cube.register(cube, axis, error_on_mismatch,\n\u001b[0;32m--> 272\u001b[0;31m                                              check_aux_coords)\n\u001b[0m\u001b[1;32m    273\u001b[0m             \u001b[0;32mif\u001b[0m \u001b[0mregistered\u001b[0m\u001b[0;34m:\u001b[0m\u001b[0;34m\u001b[0m\u001b[0m\n\u001b[1;32m    274\u001b[0m                 \u001b[0maxis\u001b[0m \u001b[0;34m=\u001b[0m \u001b[0mproto_cube\u001b[0m\u001b[0;34m.\u001b[0m\u001b[0maxis\u001b[0m\u001b[0;34m\u001b[0m\u001b[0m\n",
      "\u001b[0;32m/opt/conda/lib/python3.5/site-packages/iris/_concatenate.py\u001b[0m in \u001b[0;36mregister\u001b[0;34m(self, cube, axis, error_on_mismatch, check_aux_coords)\u001b[0m\n\u001b[1;32m    710\u001b[0m         \u001b[0;31m# Check for compatible cube signatures.\u001b[0m\u001b[0;34m\u001b[0m\u001b[0;34m\u001b[0m\u001b[0m\n\u001b[1;32m    711\u001b[0m         \u001b[0mcube_signature\u001b[0m \u001b[0;34m=\u001b[0m \u001b[0m_CubeSignature\u001b[0m\u001b[0;34m(\u001b[0m\u001b[0mcube\u001b[0m\u001b[0;34m)\u001b[0m\u001b[0;34m\u001b[0m\u001b[0m\n\u001b[0;32m--> 712\u001b[0;31m         \u001b[0mmatch\u001b[0m \u001b[0;34m=\u001b[0m \u001b[0mself\u001b[0m\u001b[0;34m.\u001b[0m\u001b[0m_cube_signature\u001b[0m\u001b[0;34m.\u001b[0m\u001b[0mmatch\u001b[0m\u001b[0;34m(\u001b[0m\u001b[0mcube_signature\u001b[0m\u001b[0;34m,\u001b[0m \u001b[0merror_on_mismatch\u001b[0m\u001b[0;34m)\u001b[0m\u001b[0;34m\u001b[0m\u001b[0m\n\u001b[0m\u001b[1;32m    713\u001b[0m \u001b[0;34m\u001b[0m\u001b[0m\n\u001b[1;32m    714\u001b[0m         \u001b[0;31m# Check for compatible coordinate signatures.\u001b[0m\u001b[0;34m\u001b[0m\u001b[0;34m\u001b[0m\u001b[0m\n",
      "\u001b[0;32m/opt/conda/lib/python3.5/site-packages/iris/_concatenate.py\u001b[0m in \u001b[0;36mmatch\u001b[0;34m(self, other, error_on_mismatch)\u001b[0m\n\u001b[1;32m    469\u001b[0m         \u001b[0mmatch\u001b[0m \u001b[0;34m=\u001b[0m \u001b[0;32mnot\u001b[0m \u001b[0mbool\u001b[0m\u001b[0;34m(\u001b[0m\u001b[0mmsgs\u001b[0m\u001b[0;34m)\u001b[0m\u001b[0;34m\u001b[0m\u001b[0m\n\u001b[1;32m    470\u001b[0m         \u001b[0;32mif\u001b[0m \u001b[0merror_on_mismatch\u001b[0m \u001b[0;32mand\u001b[0m \u001b[0;32mnot\u001b[0m \u001b[0mmatch\u001b[0m\u001b[0;34m:\u001b[0m\u001b[0;34m\u001b[0m\u001b[0m\n\u001b[0;32m--> 471\u001b[0;31m             \u001b[0;32mraise\u001b[0m \u001b[0miris\u001b[0m\u001b[0;34m.\u001b[0m\u001b[0mexceptions\u001b[0m\u001b[0;34m.\u001b[0m\u001b[0mConcatenateError\u001b[0m\u001b[0;34m(\u001b[0m\u001b[0mmsgs\u001b[0m\u001b[0;34m)\u001b[0m\u001b[0;34m\u001b[0m\u001b[0m\n\u001b[0m\u001b[1;32m    472\u001b[0m         \u001b[0;32mreturn\u001b[0m \u001b[0mmatch\u001b[0m\u001b[0;34m\u001b[0m\u001b[0m\n\u001b[1;32m    473\u001b[0m \u001b[0;34m\u001b[0m\u001b[0m\n",
      "\u001b[0;31mConcatenateError\u001b[0m: failed to concatenate into a single cube.\n  Dimension coordinates differ: latitude, longitude != latitude, longitude, time\n  Auxiliary coordinates differ: < None > != forecast_period\n  Scalar coordinates differ: forecast_period, forecast_reference_time, time != forecast_reference_time\n  Data dimensions differ: 2 != 3"
     ]
    }
   ],
   "source": [
    "sample.concatenate_cube()"
   ]
  },
  {
   "cell_type": "code",
   "execution_count": 57,
   "metadata": {
    "collapsed": false
   },
   "outputs": [
    {
     "name": "stdout",
     "output_type": "stream",
     "text": [
      "fog_area_fraction / (1)             (latitude: 600; longitude: 800)\n",
      "     Dimension coordinates:\n",
      "          latitude                           x               -\n",
      "          longitude                          -               x\n",
      "     Scalar coordinates:\n",
      "          forecast_period: 3.0 hours\n",
      "          forecast_reference_time: 2016-01-01 00:00:00\n",
      "          time: 2016-01-01 03:00:00\n",
      "     Attributes:\n",
      "          Conventions: CF-1.5\n",
      "          STASH: m01s03i248\n",
      "          source: Data from Met Office Unified Model\n",
      "          um_version: 10.1\n",
      "DimCoord([2016-01-01 03:00:00], standard_name='time', calendar='gregorian', var_name='time_0')\n"
     ]
    }
   ],
   "source": [
    "s0 = sample[0]\n",
    "print(s0)\n",
    "print(s0.coord('time'))"
   ]
  },
  {
   "cell_type": "code",
   "execution_count": 33,
   "metadata": {
    "collapsed": false
   },
   "outputs": [
    {
     "name": "stdout",
     "output_type": "stream",
     "text": [
      "fog_area_fraction / (1)             (time: 2; latitude: 600; longitude: 800)\n",
      "     Dimension coordinates:\n",
      "          time                           x            -               -\n",
      "          latitude                       -            x               -\n",
      "          longitude                      -            -               x\n",
      "     Auxiliary coordinates:\n",
      "          forecast_period                x            -               -\n",
      "     Scalar coordinates:\n",
      "          forecast_reference_time: 2016-01-01 00:00:00\n",
      "     Attributes:\n",
      "          Conventions: CF-1.5\n",
      "          STASH: m01s03i248\n",
      "          source: Data from Met Office Unified Model\n",
      "          um_version: 10.1\n"
     ]
    }
   ],
   "source": [
    "s1 = sample[1]\n",
    "print(s1)\n",
    "t_coord = s1.coord('time')"
   ]
  },
  {
   "cell_type": "code",
   "execution_count": 37,
   "metadata": {
    "collapsed": false
   },
   "outputs": [
    {
     "data": {
      "text/plain": [
       "1"
      ]
     },
     "execution_count": 37,
     "metadata": {},
     "output_type": "execute_result"
    }
   ],
   "source": [
    "t_coord.ndim"
   ]
  },
  {
   "cell_type": "code",
   "execution_count": 39,
   "metadata": {
    "collapsed": false
   },
   "outputs": [
    {
     "name": "stdout",
     "output_type": "stream",
     "text": [
      "fog_area_fraction / (1)             (time: 1; latitude: 600; longitude: 800)\n",
      "     Dimension coordinates:\n",
      "          time                           x            -               -\n",
      "          latitude                       -            x               -\n",
      "          longitude                      -            -               x\n",
      "     Scalar coordinates:\n",
      "          forecast_period: 3.0 hours\n",
      "          forecast_reference_time: 2016-01-01 00:00:00\n",
      "     Attributes:\n",
      "          Conventions: CF-1.5\n",
      "          STASH: m01s03i248\n",
      "          source: Data from Met Office Unified Model\n",
      "          um_version: 10.1\n"
     ]
    }
   ],
   "source": [
    "from iris.util import promote_aux_coord_to_dim_coord, new_axis, demote_dim_coord_to_aux_coord\n",
    "c = new_axis(s0, 'time')\n",
    "print(c)\n"
   ]
  },
  {
   "cell_type": "code",
   "execution_count": 70,
   "metadata": {
    "collapsed": false
   },
   "outputs": [
    {
     "data": {
      "text/plain": [
       "DimCoord(array([ 3.]), standard_name='forecast_period', units=Unit('hours'), var_name='forecast_period')"
      ]
     },
     "execution_count": 70,
     "metadata": {},
     "output_type": "execute_result"
    }
   ],
   "source": [
    "scalar_coord = c.coord('forecast_period')\n",
    "aux_coord = iris.coords.DimCoord.from_coord(scalar_coord)\n",
    "aux_coord"
   ]
  },
  {
   "cell_type": "code",
   "execution_count": 72,
   "metadata": {
    "collapsed": false
   },
   "outputs": [],
   "source": [
    "c.remove_coord('forecast_period')\n",
    "c.add_aux_coord(aux_coord, 0)"
   ]
  },
  {
   "cell_type": "code",
   "execution_count": 73,
   "metadata": {
    "collapsed": false
   },
   "outputs": [
    {
     "data": {
      "text/plain": [
       "<iris 'Cube' of fog_area_fraction / (1) (time: 1; latitude: 600; longitude: 800)>"
      ]
     },
     "execution_count": 73,
     "metadata": {},
     "output_type": "execute_result"
    }
   ],
   "source": [
    "c"
   ]
  },
  {
   "cell_type": "code",
   "execution_count": 74,
   "metadata": {
    "collapsed": false
   },
   "outputs": [
    {
     "name": "stdout",
     "output_type": "stream",
     "text": [
      "fog_area_fraction / (1)             (time: 1; latitude: 600; longitude: 800)\n",
      "     Dimension coordinates:\n",
      "          time                           x            -               -\n",
      "          latitude                       -            x               -\n",
      "          longitude                      -            -               x\n",
      "     Auxiliary coordinates:\n",
      "          forecast_period                x            -               -\n",
      "     Scalar coordinates:\n",
      "          forecast_reference_time: 2016-01-01 00:00:00\n",
      "     Attributes:\n",
      "          Conventions: CF-1.5\n",
      "          STASH: m01s03i248\n",
      "          source: Data from Met Office Unified Model\n",
      "          um_version: 10.1\n"
     ]
    }
   ],
   "source": [
    "print(c)"
   ]
  },
  {
   "cell_type": "code",
   "execution_count": 75,
   "metadata": {
    "collapsed": false
   },
   "outputs": [
    {
     "name": "stdout",
     "output_type": "stream",
     "text": [
      "fog_area_fraction / (1)             (time: 2; latitude: 600; longitude: 800)\n",
      "     Dimension coordinates:\n",
      "          time                           x            -               -\n",
      "          latitude                       -            x               -\n",
      "          longitude                      -            -               x\n",
      "     Auxiliary coordinates:\n",
      "          forecast_period                x            -               -\n",
      "     Scalar coordinates:\n",
      "          forecast_reference_time: 2016-01-01 00:00:00\n",
      "     Attributes:\n",
      "          Conventions: CF-1.5\n",
      "          STASH: m01s03i248\n",
      "          source: Data from Met Office Unified Model\n",
      "          um_version: 10.1\n"
     ]
    }
   ],
   "source": [
    "print(s1)"
   ]
  },
  {
   "cell_type": "code",
   "execution_count": 49,
   "metadata": {
    "collapsed": false
   },
   "outputs": [
    {
     "data": {
      "text/plain": [
       "[<iris 'Cube' of fog_area_fraction / (1) (time: 1; latitude: 600; longitude: 800)>,\n",
       "<iris 'Cube' of fog_area_fraction / (1) (time: 2; latitude: 600; longitude: 800)>]"
      ]
     },
     "execution_count": 49,
     "metadata": {},
     "output_type": "execute_result"
    }
   ],
   "source": [
    "cl = iris.cube.CubeList([c, s1])\n",
    "cl"
   ]
  },
  {
   "cell_type": "code",
   "execution_count": 52,
   "metadata": {
    "collapsed": false
   },
   "outputs": [
    {
     "ename": "ConcatenateError",
     "evalue": "failed to concatenate into a single cube.\n  Dimension coordinates metadata differ: time != time\n  Auxiliary coordinates metadata differ: forecast_period != forecast_period",
     "output_type": "error",
     "traceback": [
      "\u001b[0;31m---------------------------------------------------------------------------\u001b[0m",
      "\u001b[0;31mConcatenateError\u001b[0m                          Traceback (most recent call last)",
      "\u001b[0;32m<ipython-input-52-7c506c980fa5>\u001b[0m in \u001b[0;36m<module>\u001b[0;34m()\u001b[0m\n\u001b[0;32m----> 1\u001b[0;31m \u001b[0mcl\u001b[0m\u001b[0;34m.\u001b[0m\u001b[0mconcatenate_cube\u001b[0m\u001b[0;34m(\u001b[0m\u001b[0;34m)\u001b[0m\u001b[0;34m\u001b[0m\u001b[0m\n\u001b[0m",
      "\u001b[0;32m/opt/conda/lib/python3.5/site-packages/iris/cube.py\u001b[0m in \u001b[0;36mconcatenate_cube\u001b[0;34m(self, check_aux_coords)\u001b[0m\n\u001b[1;32m    499\u001b[0m             res = iris._concatenate.concatenate(\n\u001b[1;32m    500\u001b[0m                 \u001b[0mself\u001b[0m\u001b[0;34m,\u001b[0m \u001b[0merror_on_mismatch\u001b[0m\u001b[0;34m=\u001b[0m\u001b[0;32mTrue\u001b[0m\u001b[0;34m,\u001b[0m\u001b[0;34m\u001b[0m\u001b[0m\n\u001b[0;32m--> 501\u001b[0;31m                 check_aux_coords=check_aux_coords)\n\u001b[0m\u001b[1;32m    502\u001b[0m             \u001b[0mn_res_cubes\u001b[0m \u001b[0;34m=\u001b[0m \u001b[0mlen\u001b[0m\u001b[0;34m(\u001b[0m\u001b[0mres\u001b[0m\u001b[0;34m)\u001b[0m\u001b[0;34m\u001b[0m\u001b[0m\n\u001b[1;32m    503\u001b[0m             \u001b[0;32mif\u001b[0m \u001b[0mn_res_cubes\u001b[0m \u001b[0;34m==\u001b[0m \u001b[0;36m1\u001b[0m\u001b[0;34m:\u001b[0m\u001b[0;34m\u001b[0m\u001b[0m\n",
      "\u001b[0;32m/opt/conda/lib/python3.5/site-packages/iris/_concatenate.py\u001b[0m in \u001b[0;36mconcatenate\u001b[0;34m(cubes, error_on_mismatch, check_aux_coords)\u001b[0m\n\u001b[1;32m    270\u001b[0m         \u001b[0;32mfor\u001b[0m \u001b[0mproto_cube\u001b[0m \u001b[0;32min\u001b[0m \u001b[0mproto_cubes\u001b[0m\u001b[0;34m:\u001b[0m\u001b[0;34m\u001b[0m\u001b[0m\n\u001b[1;32m    271\u001b[0m             registered = proto_cube.register(cube, axis, error_on_mismatch,\n\u001b[0;32m--> 272\u001b[0;31m                                              check_aux_coords)\n\u001b[0m\u001b[1;32m    273\u001b[0m             \u001b[0;32mif\u001b[0m \u001b[0mregistered\u001b[0m\u001b[0;34m:\u001b[0m\u001b[0;34m\u001b[0m\u001b[0m\n\u001b[1;32m    274\u001b[0m                 \u001b[0maxis\u001b[0m \u001b[0;34m=\u001b[0m \u001b[0mproto_cube\u001b[0m\u001b[0;34m.\u001b[0m\u001b[0maxis\u001b[0m\u001b[0;34m\u001b[0m\u001b[0m\n",
      "\u001b[0;32m/opt/conda/lib/python3.5/site-packages/iris/_concatenate.py\u001b[0m in \u001b[0;36mregister\u001b[0;34m(self, cube, axis, error_on_mismatch, check_aux_coords)\u001b[0m\n\u001b[1;32m    710\u001b[0m         \u001b[0;31m# Check for compatible cube signatures.\u001b[0m\u001b[0;34m\u001b[0m\u001b[0;34m\u001b[0m\u001b[0m\n\u001b[1;32m    711\u001b[0m         \u001b[0mcube_signature\u001b[0m \u001b[0;34m=\u001b[0m \u001b[0m_CubeSignature\u001b[0m\u001b[0;34m(\u001b[0m\u001b[0mcube\u001b[0m\u001b[0;34m)\u001b[0m\u001b[0;34m\u001b[0m\u001b[0m\n\u001b[0;32m--> 712\u001b[0;31m         \u001b[0mmatch\u001b[0m \u001b[0;34m=\u001b[0m \u001b[0mself\u001b[0m\u001b[0;34m.\u001b[0m\u001b[0m_cube_signature\u001b[0m\u001b[0;34m.\u001b[0m\u001b[0mmatch\u001b[0m\u001b[0;34m(\u001b[0m\u001b[0mcube_signature\u001b[0m\u001b[0;34m,\u001b[0m \u001b[0merror_on_mismatch\u001b[0m\u001b[0;34m)\u001b[0m\u001b[0;34m\u001b[0m\u001b[0m\n\u001b[0m\u001b[1;32m    713\u001b[0m \u001b[0;34m\u001b[0m\u001b[0m\n\u001b[1;32m    714\u001b[0m         \u001b[0;31m# Check for compatible coordinate signatures.\u001b[0m\u001b[0;34m\u001b[0m\u001b[0;34m\u001b[0m\u001b[0m\n",
      "\u001b[0;32m/opt/conda/lib/python3.5/site-packages/iris/_concatenate.py\u001b[0m in \u001b[0;36mmatch\u001b[0;34m(self, other, error_on_mismatch)\u001b[0m\n\u001b[1;32m    469\u001b[0m         \u001b[0mmatch\u001b[0m \u001b[0;34m=\u001b[0m \u001b[0;32mnot\u001b[0m \u001b[0mbool\u001b[0m\u001b[0;34m(\u001b[0m\u001b[0mmsgs\u001b[0m\u001b[0;34m)\u001b[0m\u001b[0;34m\u001b[0m\u001b[0m\n\u001b[1;32m    470\u001b[0m         \u001b[0;32mif\u001b[0m \u001b[0merror_on_mismatch\u001b[0m \u001b[0;32mand\u001b[0m \u001b[0;32mnot\u001b[0m \u001b[0mmatch\u001b[0m\u001b[0;34m:\u001b[0m\u001b[0;34m\u001b[0m\u001b[0m\n\u001b[0;32m--> 471\u001b[0;31m             \u001b[0;32mraise\u001b[0m \u001b[0miris\u001b[0m\u001b[0;34m.\u001b[0m\u001b[0mexceptions\u001b[0m\u001b[0;34m.\u001b[0m\u001b[0mConcatenateError\u001b[0m\u001b[0;34m(\u001b[0m\u001b[0mmsgs\u001b[0m\u001b[0;34m)\u001b[0m\u001b[0;34m\u001b[0m\u001b[0m\n\u001b[0m\u001b[1;32m    472\u001b[0m         \u001b[0;32mreturn\u001b[0m \u001b[0mmatch\u001b[0m\u001b[0;34m\u001b[0m\u001b[0m\n\u001b[1;32m    473\u001b[0m \u001b[0;34m\u001b[0m\u001b[0m\n",
      "\u001b[0;31mConcatenateError\u001b[0m: failed to concatenate into a single cube.\n  Dimension coordinates metadata differ: time != time\n  Auxiliary coordinates metadata differ: forecast_period != forecast_period"
     ]
    }
   ],
   "source": [
    "cl.concatenate_cube()"
   ]
  },
  {
   "cell_type": "code",
   "execution_count": 76,
   "metadata": {
    "collapsed": false
   },
   "outputs": [
    {
     "data": {
      "text/plain": [
       "DimCoord(array([ 403227.]), standard_name='time', units=Unit('hours since 1970-01-01 00:00:00', calendar='gregorian'), var_name='time')"
      ]
     },
     "execution_count": 76,
     "metadata": {},
     "output_type": "execute_result"
    }
   ],
   "source": [
    "c.coord('time')"
   ]
  },
  {
   "cell_type": "code",
   "execution_count": 77,
   "metadata": {
    "collapsed": false
   },
   "outputs": [
    {
     "data": {
      "text/plain": [
       "DimCoord(array([ 403230.,  403233.]), standard_name='time', units=Unit('hours since 1970-01-01 00:00:00', calendar='gregorian'), var_name='time')"
      ]
     },
     "execution_count": 77,
     "metadata": {},
     "output_type": "execute_result"
    }
   ],
   "source": [
    "s1.coord('time')"
   ]
  },
  {
   "cell_type": "code",
   "execution_count": 78,
   "metadata": {
    "collapsed": false
   },
   "outputs": [
    {
     "data": {
      "text/plain": [
       "DimCoord(array([ 403227.]), standard_name='time', units=Unit('hours since 1970-01-01 00:00:00', calendar='gregorian'), var_name='time')"
      ]
     },
     "execution_count": 78,
     "metadata": {},
     "output_type": "execute_result"
    }
   ],
   "source": [
    "c.coord('time').var_name='time'\n",
    "c.coord('time')"
   ]
  },
  {
   "cell_type": "code",
   "execution_count": 79,
   "metadata": {
    "collapsed": false
   },
   "outputs": [
    {
     "data": {
      "text/plain": [
       "DimCoord(array([ 3.]), standard_name='forecast_period', units=Unit('hours'), var_name='forecast_period')"
      ]
     },
     "execution_count": 79,
     "metadata": {},
     "output_type": "execute_result"
    }
   ],
   "source": [
    "c.coord('forecast_period')"
   ]
  },
  {
   "cell_type": "code",
   "execution_count": 80,
   "metadata": {
    "collapsed": false
   },
   "outputs": [
    {
     "data": {
      "text/plain": [
       "DimCoord(array([ 6.,  9.]), standard_name='forecast_period', units=Unit('hours'), var_name='forecast_period')"
      ]
     },
     "execution_count": 80,
     "metadata": {},
     "output_type": "execute_result"
    }
   ],
   "source": [
    "s1.coord('forecast_period')"
   ]
  },
  {
   "cell_type": "code",
   "execution_count": 81,
   "metadata": {
    "collapsed": false
   },
   "outputs": [],
   "source": [
    "c.coord('forecast_period').var_name = 'forecast_period'"
   ]
  },
  {
   "cell_type": "code",
   "execution_count": 82,
   "metadata": {
    "collapsed": false
   },
   "outputs": [
    {
     "data": {
      "text/plain": [
       "False"
      ]
     },
     "execution_count": 82,
     "metadata": {},
     "output_type": "execute_result"
    }
   ],
   "source": [
    "c.has_lazy_data()"
   ]
  },
  {
   "cell_type": "code",
   "execution_count": 83,
   "metadata": {
    "collapsed": false
   },
   "outputs": [
    {
     "data": {
      "text/plain": [
       "False"
      ]
     },
     "execution_count": 83,
     "metadata": {},
     "output_type": "execute_result"
    }
   ],
   "source": [
    "s1.has_lazy_data()"
   ]
  },
  {
   "cell_type": "code",
   "execution_count": 84,
   "metadata": {
    "collapsed": false
   },
   "outputs": [
    {
     "data": {
      "text/plain": [
       "<iris 'Cube' of fog_area_fraction / (1) (time: 3; latitude: 600; longitude: 800)>"
      ]
     },
     "execution_count": 84,
     "metadata": {},
     "output_type": "execute_result"
    }
   ],
   "source": [
    "cl.concatenate_cube()"
   ]
  },
  {
   "cell_type": "code",
   "execution_count": null,
   "metadata": {
    "collapsed": true
   },
   "outputs": [],
   "source": []
  }
 ],
 "metadata": {
  "kernelspec": {
   "display_name": "Python 3",
   "language": "python",
   "name": "python3"
  },
  "language_info": {
   "codemirror_mode": {
    "name": "ipython",
    "version": 3
   },
   "file_extension": ".py",
   "mimetype": "text/x-python",
   "name": "python",
   "nbconvert_exporter": "python",
   "pygments_lexer": "ipython3",
   "version": "3.5.2"
  }
 },
 "nbformat": 4,
 "nbformat_minor": 2
}
