{
 "cells": [
  {
   "cell_type": "code",
   "execution_count": 127,
   "metadata": {
    "collapsed": false
   },
   "outputs": [
    {
     "data": {
      "text/plain": [
       "<Client: scheduler=\"172.31.18.5:8786\" processes=10 cores=10>"
      ]
     },
     "execution_count": 127,
     "metadata": {},
     "output_type": "execute_result"
    }
   ],
   "source": [
    "import iris\n",
    "from distributed import Client\n",
    "\n",
    "c = Client('172.31.18.5:8786')\n",
    "c"
   ]
  },
  {
   "cell_type": "code",
   "execution_count": 8,
   "metadata": {
    "collapsed": false
   },
   "outputs": [
    {
     "data": {
      "text/plain": [
       "'prods_op_mogreps-g_20160101_00'"
      ]
     },
     "execution_count": 8,
     "metadata": {},
     "output_type": "execute_result"
    }
   ],
   "source": [
    "# one day of data is 2.7k files and approx 100GB\n",
    "# iris loads about 1 file / sec / core\n",
    "month = '01'\n",
    "day = '01'\n",
    "prefix = 'prods_op_mogreps-g_2016{}{}_00'.format(month, day)\n",
    "prefix"
   ]
  },
  {
   "cell_type": "code",
   "execution_count": 9,
   "metadata": {
    "collapsed": false
   },
   "outputs": [
    {
     "name": "stdout",
     "output_type": "stream",
     "text": [
      "696\n"
     ]
    },
    {
     "data": {
      "text/plain": [
       "['/usr/local/share/notebooks/data/mogreps-g/prods_op_mogreps-g_20160101_00_00_003.nc',\n",
       " '/usr/local/share/notebooks/data/mogreps-g/prods_op_mogreps-g_20160101_00_00_006.nc',\n",
       " '/usr/local/share/notebooks/data/mogreps-g/prods_op_mogreps-g_20160101_00_00_009.nc',\n",
       " '/usr/local/share/notebooks/data/mogreps-g/prods_op_mogreps-g_20160101_00_00_012.nc',\n",
       " '/usr/local/share/notebooks/data/mogreps-g/prods_op_mogreps-g_20160101_00_00_015.nc',\n",
       " '/usr/local/share/notebooks/data/mogreps-g/prods_op_mogreps-g_20160101_00_00_018.nc',\n",
       " '/usr/local/share/notebooks/data/mogreps-g/prods_op_mogreps-g_20160101_00_00_021.nc',\n",
       " '/usr/local/share/notebooks/data/mogreps-g/prods_op_mogreps-g_20160101_00_00_024.nc',\n",
       " '/usr/local/share/notebooks/data/mogreps-g/prods_op_mogreps-g_20160101_00_00_027.nc',\n",
       " '/usr/local/share/notebooks/data/mogreps-g/prods_op_mogreps-g_20160101_00_00_030.nc']"
      ]
     },
     "execution_count": 9,
     "metadata": {},
     "output_type": "execute_result"
    }
   ],
   "source": [
    "from boto.s3.connection import S3Connection\n",
    "import os\n",
    "\n",
    "os.environ['S3_USE_SIGV4'] = 'True'\n",
    "\n",
    "def list_files(bucket, prefix='prods'):\n",
    "    conn = S3Connection(host='s3.eu-west-2.amazonaws.com')\n",
    "    bucket = conn.get_bucket(bucket)\n",
    "    results = []\n",
    "    keys = iter(bucket.list(prefix=prefix))\n",
    "    return ['/usr/local/share/notebooks/data/mogreps-g/{}'.format(k.key) for k in keys]\n",
    "\n",
    "\n",
    "in_files = list_files('mogreps-g', prefix)\n",
    "print(len(in_files))\n",
    "in_files[:10]"
   ]
  },
  {
   "cell_type": "code",
   "execution_count": 10,
   "metadata": {
    "collapsed": false
   },
   "outputs": [
    {
     "data": {
      "text/plain": [
       "dask.bag<bag-fro..., npartitions=696>"
      ]
     },
     "execution_count": 10,
     "metadata": {},
     "output_type": "execute_result"
    }
   ],
   "source": [
    "# create a dask bag (db). \n",
    "# What we end up with is a list of instructions to run the 'load_cubes' function on each input file.\n",
    "from iris.cube import CubeList\n",
    "from dask import delayed\n",
    "import dask.bag as db\n",
    "\n",
    "@delayed\n",
    "def load_cubes(address):\n",
    "    def add_realization(cube, field, filename):\n",
    "        if not cube.coords('realization'):\n",
    "            realization = int(filename.split('_')[-2])\n",
    "            realization_coord = iris.coords.AuxCoord(realization, standard_name='realization')\n",
    "            cube.add_aux_coord(realization_coord)\n",
    "    return iris.load(address, 'visibility_in_air', callback=add_realization)\n",
    "\n",
    "delayed_cubes = db.from_delayed([load_cubes(f) for f in in_files])\n",
    "delayed_cubes"
   ]
  },
  {
   "cell_type": "code",
   "execution_count": 62,
   "metadata": {
    "collapsed": false
   },
   "outputs": [
    {
     "data": {
      "text/plain": [
       "(<iris 'Cube' of visibility_in_air / (m) (latitude: 600; longitude: 800)>,)"
      ]
     },
     "execution_count": 62,
     "metadata": {},
     "output_type": "execute_result"
    }
   ],
   "source": [
    "delayed_cubes.take(10)"
   ]
  },
  {
   "cell_type": "code",
   "execution_count": 63,
   "metadata": {
    "collapsed": true
   },
   "outputs": [],
   "source": [
    "p_cubes = c.persist(delayed_cubes)"
   ]
  },
  {
   "cell_type": "code",
   "execution_count": 67,
   "metadata": {
    "collapsed": false
   },
   "outputs": [
    {
     "data": {
      "text/plain": [
       "(<iris 'Cube' of visibility_in_air / (m) (latitude: 600; longitude: 800)>,)"
      ]
     },
     "execution_count": 67,
     "metadata": {},
     "output_type": "execute_result"
    }
   ],
   "source": [
    "p_cubes.take(1)"
   ]
  },
  {
   "cell_type": "markdown",
   "metadata": {},
   "source": [
    "Working with metadata only is not very expensive, so we can pull the cubes back locally:"
   ]
  },
  {
   "cell_type": "code",
   "execution_count": 111,
   "metadata": {
    "collapsed": false
   },
   "outputs": [
    {
     "data": {
      "text/plain": [
       "696"
      ]
     },
     "execution_count": 111,
     "metadata": {},
     "output_type": "execute_result"
    }
   ],
   "source": [
    "pcl = iris.cube.CubeList(p_cubes)\n",
    "len(pcl)"
   ]
  },
  {
   "cell_type": "code",
   "execution_count": 113,
   "metadata": {
    "collapsed": false
   },
   "outputs": [
    {
     "name": "stdout",
     "output_type": "stream",
     "text": [
      "58\n"
     ]
    },
    {
     "data": {
      "text/plain": [
       "[<iris 'Cube' of visibility_in_air / (m) (latitude: 600; longitude: 800)>,\n",
       "<iris 'Cube' of visibility_in_air / (m) (latitude: 600; longitude: 800)>,\n",
       "<iris 'Cube' of visibility_in_air / (m) (latitude: 600; longitude: 800)>,\n",
       "<iris 'Cube' of visibility_in_air / (m) (latitude: 600; longitude: 800)>,\n",
       "<iris 'Cube' of visibility_in_air / (m) (latitude: 600; longitude: 800)>,\n",
       "<iris 'Cube' of visibility_in_air / (m) (latitude: 600; longitude: 800)>,\n",
       "<iris 'Cube' of visibility_in_air / (m) (latitude: 600; longitude: 800)>,\n",
       "<iris 'Cube' of visibility_in_air / (m) (latitude: 600; longitude: 800)>,\n",
       "<iris 'Cube' of visibility_in_air / (m) (latitude: 600; longitude: 800)>,\n",
       "<iris 'Cube' of visibility_in_air / (m) (latitude: 600; longitude: 800)>,\n",
       "<iris 'Cube' of visibility_in_air / (m) (latitude: 600; longitude: 800)>,\n",
       "<iris 'Cube' of visibility_in_air / (m) (latitude: 600; longitude: 800)>,\n",
       "<iris 'Cube' of visibility_in_air / (m) (latitude: 600; longitude: 800)>,\n",
       "<iris 'Cube' of visibility_in_air / (m) (latitude: 600; longitude: 800)>,\n",
       "<iris 'Cube' of visibility_in_air / (m) (latitude: 600; longitude: 800)>,\n",
       "<iris 'Cube' of visibility_in_air / (m) (latitude: 600; longitude: 800)>,\n",
       "<iris 'Cube' of visibility_in_air / (m) (latitude: 600; longitude: 800)>,\n",
       "<iris 'Cube' of visibility_in_air / (m) (latitude: 600; longitude: 800)>,\n",
       "<iris 'Cube' of visibility_in_air / (m) (latitude: 600; longitude: 800)>,\n",
       "<iris 'Cube' of visibility_in_air / (m) (latitude: 600; longitude: 800)>,\n",
       "<iris 'Cube' of visibility_in_air / (m) (latitude: 600; longitude: 800)>,\n",
       "<iris 'Cube' of visibility_in_air / (m) (latitude: 600; longitude: 800)>,\n",
       "<iris 'Cube' of visibility_in_air / (m) (latitude: 600; longitude: 800)>,\n",
       "<iris 'Cube' of visibility_in_air / (m) (latitude: 600; longitude: 800)>,\n",
       "<iris 'Cube' of visibility_in_air / (m) (latitude: 600; longitude: 800)>,\n",
       "<iris 'Cube' of visibility_in_air / (m) (latitude: 600; longitude: 800)>,\n",
       "<iris 'Cube' of visibility_in_air / (m) (latitude: 600; longitude: 800)>,\n",
       "<iris 'Cube' of visibility_in_air / (m) (latitude: 600; longitude: 800)>,\n",
       "<iris 'Cube' of visibility_in_air / (m) (latitude: 600; longitude: 800)>,\n",
       "<iris 'Cube' of visibility_in_air / (m) (latitude: 600; longitude: 800)>,\n",
       "<iris 'Cube' of visibility_in_air / (m) (latitude: 600; longitude: 800)>,\n",
       "<iris 'Cube' of visibility_in_air / (m) (latitude: 600; longitude: 800)>,\n",
       "<iris 'Cube' of visibility_in_air / (m) (latitude: 600; longitude: 800)>,\n",
       "<iris 'Cube' of visibility_in_air / (m) (latitude: 600; longitude: 800)>,\n",
       "<iris 'Cube' of visibility_in_air / (m) (latitude: 600; longitude: 800)>,\n",
       "<iris 'Cube' of visibility_in_air / (m) (latitude: 600; longitude: 800)>,\n",
       "<iris 'Cube' of visibility_in_air / (m) (latitude: 600; longitude: 800)>,\n",
       "<iris 'Cube' of visibility_in_air / (m) (latitude: 600; longitude: 800)>,\n",
       "<iris 'Cube' of visibility_in_air / (m) (latitude: 600; longitude: 800)>,\n",
       "<iris 'Cube' of visibility_in_air / (m) (latitude: 600; longitude: 800)>,\n",
       "<iris 'Cube' of visibility_in_air / (m) (latitude: 600; longitude: 800)>,\n",
       "<iris 'Cube' of visibility_in_air / (m) (latitude: 600; longitude: 800)>,\n",
       "<iris 'Cube' of visibility_in_air / (m) (latitude: 600; longitude: 800)>,\n",
       "<iris 'Cube' of visibility_in_air / (m) (latitude: 600; longitude: 800)>,\n",
       "<iris 'Cube' of visibility_in_air / (m) (latitude: 600; longitude: 800)>,\n",
       "<iris 'Cube' of visibility_in_air / (m) (latitude: 600; longitude: 800)>,\n",
       "<iris 'Cube' of visibility_in_air / (m) (latitude: 600; longitude: 800)>,\n",
       "<iris 'Cube' of visibility_in_air / (m) (latitude: 600; longitude: 800)>,\n",
       "<iris 'Cube' of visibility_in_air / (m) (latitude: 600; longitude: 800)>,\n",
       "<iris 'Cube' of visibility_in_air / (m) (latitude: 600; longitude: 800)>,\n",
       "<iris 'Cube' of visibility_in_air / (m) (latitude: 600; longitude: 800)>,\n",
       "<iris 'Cube' of visibility_in_air / (m) (latitude: 600; longitude: 800)>,\n",
       "<iris 'Cube' of visibility_in_air / (m) (latitude: 600; longitude: 800)>,\n",
       "<iris 'Cube' of visibility_in_air / (m) (latitude: 600; longitude: 800)>,\n",
       "<iris 'Cube' of visibility_in_air / (m) (latitude: 600; longitude: 800)>,\n",
       "<iris 'Cube' of visibility_in_air / (m) (latitude: 600; longitude: 800)>,\n",
       "<iris 'Cube' of visibility_in_air / (m) (latitude: 600; longitude: 800)>,\n",
       "<iris 'Cube' of visibility_in_air / (m) (latitude: 600; longitude: 800)>]"
      ]
     },
     "execution_count": 113,
     "metadata": {},
     "output_type": "execute_result"
    }
   ],
   "source": [
    "sample = iris.cube.CubeList(filter(lambda x: x.coord('realization').points == [0], pcl))\n",
    "print(len(sample))\n",
    "sample"
   ]
  },
  {
   "cell_type": "code",
   "execution_count": 72,
   "metadata": {
    "collapsed": false
   },
   "outputs": [],
   "source": [
    "sample[0].coord('time').var_name = 'time'\n",
    "sample[0].coord('forecast_period').var_name = 'forecast_period'"
   ]
  },
  {
   "cell_type": "code",
   "execution_count": 73,
   "metadata": {
    "collapsed": false
   },
   "outputs": [
    {
     "data": {
      "text/plain": [
       "<iris 'Cube' of visibility_in_air / (m) (time: 58; latitude: 600; longitude: 800)>"
      ]
     },
     "execution_count": 73,
     "metadata": {},
     "output_type": "execute_result"
    }
   ],
   "source": [
    "sample.merge_cube()"
   ]
  },
  {
   "cell_type": "code",
   "execution_count": 74,
   "metadata": {
    "collapsed": false
   },
   "outputs": [],
   "source": [
    "realisations = range(11)"
   ]
  },
  {
   "cell_type": "code",
   "execution_count": 77,
   "metadata": {
    "collapsed": false
   },
   "outputs": [
    {
     "name": "stdout",
     "output_type": "stream",
     "text": [
      "0\n",
      "1\n",
      "2\n",
      "3\n",
      "4\n",
      "5\n",
      "6\n",
      "7\n",
      "8\n",
      "9\n",
      "10\n"
     ]
    },
    {
     "data": {
      "text/plain": [
       "[<iris 'Cube' of visibility_in_air / (m) (time: 58; latitude: 600; longitude: 800)>,\n",
       "<iris 'Cube' of visibility_in_air / (m) (time: 58; latitude: 600; longitude: 800)>,\n",
       "<iris 'Cube' of visibility_in_air / (m) (time: 58; latitude: 600; longitude: 800)>,\n",
       "<iris 'Cube' of visibility_in_air / (m) (time: 58; latitude: 600; longitude: 800)>,\n",
       "<iris 'Cube' of visibility_in_air / (m) (time: 58; latitude: 600; longitude: 800)>,\n",
       "<iris 'Cube' of visibility_in_air / (m) (time: 58; latitude: 600; longitude: 800)>,\n",
       "<iris 'Cube' of visibility_in_air / (m) (time: 58; latitude: 600; longitude: 800)>,\n",
       "<iris 'Cube' of visibility_in_air / (m) (time: 58; latitude: 600; longitude: 800)>,\n",
       "<iris 'Cube' of visibility_in_air / (m) (time: 58; latitude: 600; longitude: 800)>,\n",
       "<iris 'Cube' of visibility_in_air / (m) (time: 58; latitude: 600; longitude: 800)>,\n",
       "<iris 'Cube' of visibility_in_air / (m) (time: 58; latitude: 600; longitude: 800)>]"
      ]
     },
     "execution_count": 77,
     "metadata": {},
     "output_type": "execute_result"
    }
   ],
   "source": [
    "new_cl = iris.cube.CubeList([])\n",
    "for r in realisations:\n",
    "    cubes = iris.cube.CubeList(filter(lambda x: x.coord('realization').points == [r], pcl))\n",
    "    cubes[0].coord('time').var_name = 'time'\n",
    "    cubes[0].coord('forecast_period').var_name = 'forecast_period'\n",
    "    cube = cubes.merge_cube()\n",
    "    new_cl.append(cube)\n",
    "    \n",
    "new_cl"
   ]
  },
  {
   "cell_type": "code",
   "execution_count": 84,
   "metadata": {
    "collapsed": false
   },
   "outputs": [],
   "source": [
    "new_cl[0].coord('realization').points.dtype = 'int32'\n",
    "new_cl[0].coord('realization').var_name = 'realization'"
   ]
  },
  {
   "cell_type": "code",
   "execution_count": 86,
   "metadata": {
    "collapsed": false
   },
   "outputs": [
    {
     "data": {
      "text/plain": [
       "DimCoord(array([0]), standard_name='realization', units=Unit('1'), var_name='realization')"
      ]
     },
     "execution_count": 86,
     "metadata": {},
     "output_type": "execute_result"
    }
   ],
   "source": [
    "new_cl[0].coord('realization')"
   ]
  },
  {
   "cell_type": "code",
   "execution_count": 87,
   "metadata": {
    "collapsed": false
   },
   "outputs": [
    {
     "data": {
      "text/plain": [
       "<iris 'Cube' of visibility_in_air / (m) (realization: 11; time: 58; latitude: 600; longitude: 800)>"
      ]
     },
     "execution_count": 87,
     "metadata": {},
     "output_type": "execute_result"
    }
   ],
   "source": [
    "new_cl.merge_cube()"
   ]
  },
  {
   "cell_type": "markdown",
   "metadata": {},
   "source": [
    "We should be able to merge chunks at a time then concatenate:"
   ]
  },
  {
   "cell_type": "code",
   "execution_count": 107,
   "metadata": {
    "collapsed": false
   },
   "outputs": [],
   "source": [
    "a = iris.cube.CubeList(pcl[1:10]).merge_cube()"
   ]
  },
  {
   "cell_type": "code",
   "execution_count": 108,
   "metadata": {
    "collapsed": false
   },
   "outputs": [],
   "source": [
    "b = iris.cube.CubeList(pcl[10:20]).merge_cube()"
   ]
  },
  {
   "cell_type": "code",
   "execution_count": 109,
   "metadata": {
    "collapsed": false
   },
   "outputs": [
    {
     "data": {
      "text/plain": [
       "[<iris 'Cube' of visibility_in_air / (m) (time: 19; latitude: 600; longitude: 800)>]"
      ]
     },
     "execution_count": 109,
     "metadata": {},
     "output_type": "execute_result"
    }
   ],
   "source": [
    "iris.cube.CubeList([a, b]).concatenate()"
   ]
  },
  {
   "cell_type": "code",
   "execution_count": null,
   "metadata": {
    "collapsed": true
   },
   "outputs": [],
   "source": []
  },
  {
   "cell_type": "code",
   "execution_count": 115,
   "metadata": {
    "collapsed": false
   },
   "outputs": [
    {
     "data": {
      "text/plain": [
       "[<iris 'Cube' of visibility_in_air / (m) (latitude: 600; longitude: 800)>,\n",
       "<iris 'Cube' of visibility_in_air / (m) (latitude: 600; longitude: 800)>,\n",
       "<iris 'Cube' of visibility_in_air / (m) (latitude: 600; longitude: 800)>,\n",
       "<iris 'Cube' of visibility_in_air / (m) (latitude: 600; longitude: 800)>,\n",
       "<iris 'Cube' of visibility_in_air / (m) (latitude: 600; longitude: 800)>,\n",
       "<iris 'Cube' of visibility_in_air / (m) (latitude: 600; longitude: 800)>,\n",
       "<iris 'Cube' of visibility_in_air / (m) (latitude: 600; longitude: 800)>,\n",
       "<iris 'Cube' of visibility_in_air / (m) (latitude: 600; longitude: 800)>,\n",
       "<iris 'Cube' of visibility_in_air / (m) (latitude: 600; longitude: 800)>,\n",
       "<iris 'Cube' of visibility_in_air / (m) (latitude: 600; longitude: 800)>,\n",
       "<iris 'Cube' of visibility_in_air / (m) (latitude: 600; longitude: 800)>,\n",
       "<iris 'Cube' of visibility_in_air / (m) (latitude: 600; longitude: 800)>,\n",
       "<iris 'Cube' of visibility_in_air / (m) (latitude: 600; longitude: 800)>,\n",
       "<iris 'Cube' of visibility_in_air / (m) (latitude: 600; longitude: 800)>,\n",
       "<iris 'Cube' of visibility_in_air / (m) (latitude: 600; longitude: 800)>,\n",
       "<iris 'Cube' of visibility_in_air / (m) (latitude: 600; longitude: 800)>,\n",
       "<iris 'Cube' of visibility_in_air / (m) (latitude: 600; longitude: 800)>,\n",
       "<iris 'Cube' of visibility_in_air / (m) (latitude: 600; longitude: 800)>,\n",
       "<iris 'Cube' of visibility_in_air / (m) (latitude: 600; longitude: 800)>,\n",
       "<iris 'Cube' of visibility_in_air / (m) (latitude: 600; longitude: 800)>,\n",
       "<iris 'Cube' of visibility_in_air / (m) (latitude: 600; longitude: 800)>,\n",
       "<iris 'Cube' of visibility_in_air / (m) (latitude: 600; longitude: 800)>,\n",
       "<iris 'Cube' of visibility_in_air / (m) (latitude: 600; longitude: 800)>,\n",
       "<iris 'Cube' of visibility_in_air / (m) (latitude: 600; longitude: 800)>,\n",
       "<iris 'Cube' of visibility_in_air / (m) (latitude: 600; longitude: 800)>,\n",
       "<iris 'Cube' of visibility_in_air / (m) (latitude: 600; longitude: 800)>,\n",
       "<iris 'Cube' of visibility_in_air / (m) (latitude: 600; longitude: 800)>,\n",
       "<iris 'Cube' of visibility_in_air / (m) (latitude: 600; longitude: 800)>,\n",
       "<iris 'Cube' of visibility_in_air / (m) (latitude: 600; longitude: 800)>,\n",
       "<iris 'Cube' of visibility_in_air / (m) (latitude: 600; longitude: 800)>,\n",
       "<iris 'Cube' of visibility_in_air / (m) (latitude: 600; longitude: 800)>,\n",
       "<iris 'Cube' of visibility_in_air / (m) (latitude: 600; longitude: 800)>,\n",
       "<iris 'Cube' of visibility_in_air / (m) (latitude: 600; longitude: 800)>,\n",
       "<iris 'Cube' of visibility_in_air / (m) (latitude: 600; longitude: 800)>,\n",
       "<iris 'Cube' of visibility_in_air / (m) (latitude: 600; longitude: 800)>,\n",
       "<iris 'Cube' of visibility_in_air / (m) (latitude: 600; longitude: 800)>,\n",
       "<iris 'Cube' of visibility_in_air / (m) (latitude: 600; longitude: 800)>,\n",
       "<iris 'Cube' of visibility_in_air / (m) (latitude: 600; longitude: 800)>,\n",
       "<iris 'Cube' of visibility_in_air / (m) (latitude: 600; longitude: 800)>,\n",
       "<iris 'Cube' of visibility_in_air / (m) (latitude: 600; longitude: 800)>,\n",
       "<iris 'Cube' of visibility_in_air / (m) (latitude: 600; longitude: 800)>,\n",
       "<iris 'Cube' of visibility_in_air / (m) (latitude: 600; longitude: 800)>,\n",
       "<iris 'Cube' of visibility_in_air / (m) (latitude: 600; longitude: 800)>,\n",
       "<iris 'Cube' of visibility_in_air / (m) (latitude: 600; longitude: 800)>,\n",
       "<iris 'Cube' of visibility_in_air / (m) (latitude: 600; longitude: 800)>,\n",
       "<iris 'Cube' of visibility_in_air / (m) (latitude: 600; longitude: 800)>,\n",
       "<iris 'Cube' of visibility_in_air / (m) (latitude: 600; longitude: 800)>,\n",
       "<iris 'Cube' of visibility_in_air / (m) (latitude: 600; longitude: 800)>,\n",
       "<iris 'Cube' of visibility_in_air / (m) (latitude: 600; longitude: 800)>,\n",
       "<iris 'Cube' of visibility_in_air / (m) (latitude: 600; longitude: 800)>,\n",
       "<iris 'Cube' of visibility_in_air / (m) (latitude: 600; longitude: 800)>,\n",
       "<iris 'Cube' of visibility_in_air / (m) (latitude: 600; longitude: 800)>,\n",
       "<iris 'Cube' of visibility_in_air / (m) (latitude: 600; longitude: 800)>,\n",
       "<iris 'Cube' of visibility_in_air / (m) (latitude: 600; longitude: 800)>,\n",
       "<iris 'Cube' of visibility_in_air / (m) (latitude: 600; longitude: 800)>,\n",
       "<iris 'Cube' of visibility_in_air / (m) (latitude: 600; longitude: 800)>,\n",
       "<iris 'Cube' of visibility_in_air / (m) (latitude: 600; longitude: 800)>,\n",
       "<iris 'Cube' of visibility_in_air / (m) (latitude: 600; longitude: 800)>,\n",
       "<iris 'Cube' of visibility_in_air / (m) (latitude: 600; longitude: 800)>,\n",
       "<iris 'Cube' of visibility_in_air / (m) (latitude: 600; longitude: 800)>,\n",
       "<iris 'Cube' of visibility_in_air / (m) (latitude: 600; longitude: 800)>,\n",
       "<iris 'Cube' of visibility_in_air / (m) (latitude: 600; longitude: 800)>,\n",
       "<iris 'Cube' of visibility_in_air / (m) (latitude: 600; longitude: 800)>,\n",
       "<iris 'Cube' of visibility_in_air / (m) (latitude: 600; longitude: 800)>,\n",
       "<iris 'Cube' of visibility_in_air / (m) (latitude: 600; longitude: 800)>,\n",
       "<iris 'Cube' of visibility_in_air / (m) (latitude: 600; longitude: 800)>,\n",
       "<iris 'Cube' of visibility_in_air / (m) (latitude: 600; longitude: 800)>,\n",
       "<iris 'Cube' of visibility_in_air / (m) (latitude: 600; longitude: 800)>,\n",
       "<iris 'Cube' of visibility_in_air / (m) (latitude: 600; longitude: 800)>,\n",
       "<iris 'Cube' of visibility_in_air / (m) (latitude: 600; longitude: 800)>,\n",
       "<iris 'Cube' of visibility_in_air / (m) (latitude: 600; longitude: 800)>,\n",
       "<iris 'Cube' of visibility_in_air / (m) (latitude: 600; longitude: 800)>,\n",
       "<iris 'Cube' of visibility_in_air / (m) (latitude: 600; longitude: 800)>,\n",
       "<iris 'Cube' of visibility_in_air / (m) (latitude: 600; longitude: 800)>,\n",
       "<iris 'Cube' of visibility_in_air / (m) (latitude: 600; longitude: 800)>,\n",
       "<iris 'Cube' of visibility_in_air / (m) (latitude: 600; longitude: 800)>,\n",
       "<iris 'Cube' of visibility_in_air / (m) (latitude: 600; longitude: 800)>,\n",
       "<iris 'Cube' of visibility_in_air / (m) (latitude: 600; longitude: 800)>,\n",
       "<iris 'Cube' of visibility_in_air / (m) (latitude: 600; longitude: 800)>,\n",
       "<iris 'Cube' of visibility_in_air / (m) (latitude: 600; longitude: 800)>,\n",
       "<iris 'Cube' of visibility_in_air / (m) (latitude: 600; longitude: 800)>,\n",
       "<iris 'Cube' of visibility_in_air / (m) (latitude: 600; longitude: 800)>,\n",
       "<iris 'Cube' of visibility_in_air / (m) (latitude: 600; longitude: 800)>,\n",
       "<iris 'Cube' of visibility_in_air / (m) (latitude: 600; longitude: 800)>,\n",
       "<iris 'Cube' of visibility_in_air / (m) (latitude: 600; longitude: 800)>,\n",
       "<iris 'Cube' of visibility_in_air / (m) (latitude: 600; longitude: 800)>,\n",
       "<iris 'Cube' of visibility_in_air / (m) (latitude: 600; longitude: 800)>,\n",
       "<iris 'Cube' of visibility_in_air / (m) (latitude: 600; longitude: 800)>,\n",
       "<iris 'Cube' of visibility_in_air / (m) (latitude: 600; longitude: 800)>,\n",
       "<iris 'Cube' of visibility_in_air / (m) (latitude: 600; longitude: 800)>,\n",
       "<iris 'Cube' of visibility_in_air / (m) (latitude: 600; longitude: 800)>,\n",
       "<iris 'Cube' of visibility_in_air / (m) (latitude: 600; longitude: 800)>,\n",
       "<iris 'Cube' of visibility_in_air / (m) (latitude: 600; longitude: 800)>,\n",
       "<iris 'Cube' of visibility_in_air / (m) (latitude: 600; longitude: 800)>,\n",
       "<iris 'Cube' of visibility_in_air / (m) (latitude: 600; longitude: 800)>,\n",
       "<iris 'Cube' of visibility_in_air / (m) (latitude: 600; longitude: 800)>,\n",
       "<iris 'Cube' of visibility_in_air / (m) (latitude: 600; longitude: 800)>,\n",
       "<iris 'Cube' of visibility_in_air / (m) (latitude: 600; longitude: 800)>,\n",
       "<iris 'Cube' of visibility_in_air / (m) (latitude: 600; longitude: 800)>,\n",
       "<iris 'Cube' of visibility_in_air / (m) (latitude: 600; longitude: 800)>,\n",
       "<iris 'Cube' of visibility_in_air / (m) (latitude: 600; longitude: 800)>,\n",
       "<iris 'Cube' of visibility_in_air / (m) (latitude: 600; longitude: 800)>,\n",
       "<iris 'Cube' of visibility_in_air / (m) (latitude: 600; longitude: 800)>,\n",
       "<iris 'Cube' of visibility_in_air / (m) (latitude: 600; longitude: 800)>,\n",
       "<iris 'Cube' of visibility_in_air / (m) (latitude: 600; longitude: 800)>,\n",
       "<iris 'Cube' of visibility_in_air / (m) (latitude: 600; longitude: 800)>,\n",
       "<iris 'Cube' of visibility_in_air / (m) (latitude: 600; longitude: 800)>,\n",
       "<iris 'Cube' of visibility_in_air / (m) (latitude: 600; longitude: 800)>,\n",
       "<iris 'Cube' of visibility_in_air / (m) (latitude: 600; longitude: 800)>,\n",
       "<iris 'Cube' of visibility_in_air / (m) (latitude: 600; longitude: 800)>,\n",
       "<iris 'Cube' of visibility_in_air / (m) (latitude: 600; longitude: 800)>,\n",
       "<iris 'Cube' of visibility_in_air / (m) (latitude: 600; longitude: 800)>,\n",
       "<iris 'Cube' of visibility_in_air / (m) (latitude: 600; longitude: 800)>,\n",
       "<iris 'Cube' of visibility_in_air / (m) (latitude: 600; longitude: 800)>,\n",
       "<iris 'Cube' of visibility_in_air / (m) (latitude: 600; longitude: 800)>,\n",
       "<iris 'Cube' of visibility_in_air / (m) (latitude: 600; longitude: 800)>,\n",
       "<iris 'Cube' of visibility_in_air / (m) (latitude: 600; longitude: 800)>,\n",
       "<iris 'Cube' of visibility_in_air / (m) (latitude: 600; longitude: 800)>,\n",
       "<iris 'Cube' of visibility_in_air / (m) (latitude: 600; longitude: 800)>,\n",
       "<iris 'Cube' of visibility_in_air / (m) (latitude: 600; longitude: 800)>,\n",
       "<iris 'Cube' of visibility_in_air / (m) (latitude: 600; longitude: 800)>,\n",
       "<iris 'Cube' of visibility_in_air / (m) (latitude: 600; longitude: 800)>,\n",
       "<iris 'Cube' of visibility_in_air / (m) (latitude: 600; longitude: 800)>,\n",
       "<iris 'Cube' of visibility_in_air / (m) (latitude: 600; longitude: 800)>,\n",
       "<iris 'Cube' of visibility_in_air / (m) (latitude: 600; longitude: 800)>,\n",
       "<iris 'Cube' of visibility_in_air / (m) (latitude: 600; longitude: 800)>,\n",
       "<iris 'Cube' of visibility_in_air / (m) (latitude: 600; longitude: 800)>,\n",
       "<iris 'Cube' of visibility_in_air / (m) (latitude: 600; longitude: 800)>,\n",
       "<iris 'Cube' of visibility_in_air / (m) (latitude: 600; longitude: 800)>,\n",
       "<iris 'Cube' of visibility_in_air / (m) (latitude: 600; longitude: 800)>,\n",
       "<iris 'Cube' of visibility_in_air / (m) (latitude: 600; longitude: 800)>,\n",
       "<iris 'Cube' of visibility_in_air / (m) (latitude: 600; longitude: 800)>,\n",
       "<iris 'Cube' of visibility_in_air / (m) (latitude: 600; longitude: 800)>,\n",
       "<iris 'Cube' of visibility_in_air / (m) (latitude: 600; longitude: 800)>,\n",
       "<iris 'Cube' of visibility_in_air / (m) (latitude: 600; longitude: 800)>,\n",
       "<iris 'Cube' of visibility_in_air / (m) (latitude: 600; longitude: 800)>,\n",
       "<iris 'Cube' of visibility_in_air / (m) (latitude: 600; longitude: 800)>,\n",
       "<iris 'Cube' of visibility_in_air / (m) (latitude: 600; longitude: 800)>,\n",
       "<iris 'Cube' of visibility_in_air / (m) (latitude: 600; longitude: 800)>,\n",
       "<iris 'Cube' of visibility_in_air / (m) (latitude: 600; longitude: 800)>,\n",
       "<iris 'Cube' of visibility_in_air / (m) (latitude: 600; longitude: 800)>,\n",
       "<iris 'Cube' of visibility_in_air / (m) (latitude: 600; longitude: 800)>,\n",
       "<iris 'Cube' of visibility_in_air / (m) (latitude: 600; longitude: 800)>,\n",
       "<iris 'Cube' of visibility_in_air / (m) (latitude: 600; longitude: 800)>,\n",
       "<iris 'Cube' of visibility_in_air / (m) (latitude: 600; longitude: 800)>,\n",
       "<iris 'Cube' of visibility_in_air / (m) (latitude: 600; longitude: 800)>,\n",
       "<iris 'Cube' of visibility_in_air / (m) (latitude: 600; longitude: 800)>,\n",
       "<iris 'Cube' of visibility_in_air / (m) (latitude: 600; longitude: 800)>,\n",
       "<iris 'Cube' of visibility_in_air / (m) (latitude: 600; longitude: 800)>,\n",
       "<iris 'Cube' of visibility_in_air / (m) (latitude: 600; longitude: 800)>,\n",
       "<iris 'Cube' of visibility_in_air / (m) (latitude: 600; longitude: 800)>,\n",
       "<iris 'Cube' of visibility_in_air / (m) (latitude: 600; longitude: 800)>,\n",
       "<iris 'Cube' of visibility_in_air / (m) (latitude: 600; longitude: 800)>,\n",
       "<iris 'Cube' of visibility_in_air / (m) (latitude: 600; longitude: 800)>,\n",
       "<iris 'Cube' of visibility_in_air / (m) (latitude: 600; longitude: 800)>,\n",
       "<iris 'Cube' of visibility_in_air / (m) (latitude: 600; longitude: 800)>,\n",
       "<iris 'Cube' of visibility_in_air / (m) (latitude: 600; longitude: 800)>,\n",
       "<iris 'Cube' of visibility_in_air / (m) (latitude: 600; longitude: 800)>,\n",
       "<iris 'Cube' of visibility_in_air / (m) (latitude: 600; longitude: 800)>,\n",
       "<iris 'Cube' of visibility_in_air / (m) (latitude: 600; longitude: 800)>,\n",
       "<iris 'Cube' of visibility_in_air / (m) (latitude: 600; longitude: 800)>,\n",
       "<iris 'Cube' of visibility_in_air / (m) (latitude: 600; longitude: 800)>,\n",
       "<iris 'Cube' of visibility_in_air / (m) (latitude: 600; longitude: 800)>,\n",
       "<iris 'Cube' of visibility_in_air / (m) (latitude: 600; longitude: 800)>,\n",
       "<iris 'Cube' of visibility_in_air / (m) (latitude: 600; longitude: 800)>,\n",
       "<iris 'Cube' of visibility_in_air / (m) (latitude: 600; longitude: 800)>,\n",
       "<iris 'Cube' of visibility_in_air / (m) (latitude: 600; longitude: 800)>,\n",
       "<iris 'Cube' of visibility_in_air / (m) (latitude: 600; longitude: 800)>,\n",
       "<iris 'Cube' of visibility_in_air / (m) (latitude: 600; longitude: 800)>,\n",
       "<iris 'Cube' of visibility_in_air / (m) (latitude: 600; longitude: 800)>,\n",
       "<iris 'Cube' of visibility_in_air / (m) (latitude: 600; longitude: 800)>,\n",
       "<iris 'Cube' of visibility_in_air / (m) (latitude: 600; longitude: 800)>,\n",
       "<iris 'Cube' of visibility_in_air / (m) (latitude: 600; longitude: 800)>,\n",
       "<iris 'Cube' of visibility_in_air / (m) (latitude: 600; longitude: 800)>,\n",
       "<iris 'Cube' of visibility_in_air / (m) (latitude: 600; longitude: 800)>,\n",
       "<iris 'Cube' of visibility_in_air / (m) (latitude: 600; longitude: 800)>,\n",
       "<iris 'Cube' of visibility_in_air / (m) (latitude: 600; longitude: 800)>,\n",
       "<iris 'Cube' of visibility_in_air / (m) (latitude: 600; longitude: 800)>,\n",
       "<iris 'Cube' of visibility_in_air / (m) (latitude: 600; longitude: 800)>,\n",
       "<iris 'Cube' of visibility_in_air / (m) (latitude: 600; longitude: 800)>,\n",
       "<iris 'Cube' of visibility_in_air / (m) (latitude: 600; longitude: 800)>,\n",
       "<iris 'Cube' of visibility_in_air / (m) (latitude: 600; longitude: 800)>,\n",
       "<iris 'Cube' of visibility_in_air / (m) (latitude: 600; longitude: 800)>,\n",
       "<iris 'Cube' of visibility_in_air / (m) (latitude: 600; longitude: 800)>,\n",
       "<iris 'Cube' of visibility_in_air / (m) (latitude: 600; longitude: 800)>,\n",
       "<iris 'Cube' of visibility_in_air / (m) (latitude: 600; longitude: 800)>,\n",
       "<iris 'Cube' of visibility_in_air / (m) (latitude: 600; longitude: 800)>,\n",
       "<iris 'Cube' of visibility_in_air / (m) (latitude: 600; longitude: 800)>,\n",
       "<iris 'Cube' of visibility_in_air / (m) (latitude: 600; longitude: 800)>,\n",
       "<iris 'Cube' of visibility_in_air / (m) (latitude: 600; longitude: 800)>,\n",
       "<iris 'Cube' of visibility_in_air / (m) (latitude: 600; longitude: 800)>,\n",
       "<iris 'Cube' of visibility_in_air / (m) (latitude: 600; longitude: 800)>,\n",
       "<iris 'Cube' of visibility_in_air / (m) (latitude: 600; longitude: 800)>,\n",
       "<iris 'Cube' of visibility_in_air / (m) (latitude: 600; longitude: 800)>,\n",
       "<iris 'Cube' of visibility_in_air / (m) (latitude: 600; longitude: 800)>,\n",
       "<iris 'Cube' of visibility_in_air / (m) (latitude: 600; longitude: 800)>,\n",
       "<iris 'Cube' of visibility_in_air / (m) (latitude: 600; longitude: 800)>,\n",
       "<iris 'Cube' of visibility_in_air / (m) (latitude: 600; longitude: 800)>,\n",
       "<iris 'Cube' of visibility_in_air / (m) (latitude: 600; longitude: 800)>,\n",
       "<iris 'Cube' of visibility_in_air / (m) (latitude: 600; longitude: 800)>,\n",
       "<iris 'Cube' of visibility_in_air / (m) (latitude: 600; longitude: 800)>,\n",
       "<iris 'Cube' of visibility_in_air / (m) (latitude: 600; longitude: 800)>,\n",
       "<iris 'Cube' of visibility_in_air / (m) (latitude: 600; longitude: 800)>,\n",
       "<iris 'Cube' of visibility_in_air / (m) (latitude: 600; longitude: 800)>,\n",
       "<iris 'Cube' of visibility_in_air / (m) (latitude: 600; longitude: 800)>,\n",
       "<iris 'Cube' of visibility_in_air / (m) (latitude: 600; longitude: 800)>,\n",
       "<iris 'Cube' of visibility_in_air / (m) (latitude: 600; longitude: 800)>,\n",
       "<iris 'Cube' of visibility_in_air / (m) (latitude: 600; longitude: 800)>,\n",
       "<iris 'Cube' of visibility_in_air / (m) (latitude: 600; longitude: 800)>,\n",
       "<iris 'Cube' of visibility_in_air / (m) (latitude: 600; longitude: 800)>,\n",
       "<iris 'Cube' of visibility_in_air / (m) (latitude: 600; longitude: 800)>,\n",
       "<iris 'Cube' of visibility_in_air / (m) (latitude: 600; longitude: 800)>,\n",
       "<iris 'Cube' of visibility_in_air / (m) (latitude: 600; longitude: 800)>,\n",
       "<iris 'Cube' of visibility_in_air / (m) (latitude: 600; longitude: 800)>,\n",
       "<iris 'Cube' of visibility_in_air / (m) (latitude: 600; longitude: 800)>,\n",
       "<iris 'Cube' of visibility_in_air / (m) (latitude: 600; longitude: 800)>,\n",
       "<iris 'Cube' of visibility_in_air / (m) (latitude: 600; longitude: 800)>,\n",
       "<iris 'Cube' of visibility_in_air / (m) (latitude: 600; longitude: 800)>,\n",
       "<iris 'Cube' of visibility_in_air / (m) (latitude: 600; longitude: 800)>,\n",
       "<iris 'Cube' of visibility_in_air / (m) (latitude: 600; longitude: 800)>,\n",
       "<iris 'Cube' of visibility_in_air / (m) (latitude: 600; longitude: 800)>,\n",
       "<iris 'Cube' of visibility_in_air / (m) (latitude: 600; longitude: 800)>,\n",
       "<iris 'Cube' of visibility_in_air / (m) (latitude: 600; longitude: 800)>,\n",
       "<iris 'Cube' of visibility_in_air / (m) (latitude: 600; longitude: 800)>,\n",
       "<iris 'Cube' of visibility_in_air / (m) (latitude: 600; longitude: 800)>,\n",
       "<iris 'Cube' of visibility_in_air / (m) (latitude: 600; longitude: 800)>,\n",
       "<iris 'Cube' of visibility_in_air / (m) (latitude: 600; longitude: 800)>,\n",
       "<iris 'Cube' of visibility_in_air / (m) (latitude: 600; longitude: 800)>,\n",
       "<iris 'Cube' of visibility_in_air / (m) (latitude: 600; longitude: 800)>,\n",
       "<iris 'Cube' of visibility_in_air / (m) (latitude: 600; longitude: 800)>,\n",
       "<iris 'Cube' of visibility_in_air / (m) (latitude: 600; longitude: 800)>,\n",
       "<iris 'Cube' of visibility_in_air / (m) (latitude: 600; longitude: 800)>,\n",
       "<iris 'Cube' of visibility_in_air / (m) (latitude: 600; longitude: 800)>,\n",
       "<iris 'Cube' of visibility_in_air / (m) (latitude: 600; longitude: 800)>,\n",
       "<iris 'Cube' of visibility_in_air / (m) (latitude: 600; longitude: 800)>,\n",
       "<iris 'Cube' of visibility_in_air / (m) (latitude: 600; longitude: 800)>,\n",
       "<iris 'Cube' of visibility_in_air / (m) (latitude: 600; longitude: 800)>,\n",
       "<iris 'Cube' of visibility_in_air / (m) (latitude: 600; longitude: 800)>,\n",
       "<iris 'Cube' of visibility_in_air / (m) (latitude: 600; longitude: 800)>,\n",
       "<iris 'Cube' of visibility_in_air / (m) (latitude: 600; longitude: 800)>,\n",
       "<iris 'Cube' of visibility_in_air / (m) (latitude: 600; longitude: 800)>,\n",
       "<iris 'Cube' of visibility_in_air / (m) (latitude: 600; longitude: 800)>,\n",
       "<iris 'Cube' of visibility_in_air / (m) (latitude: 600; longitude: 800)>,\n",
       "<iris 'Cube' of visibility_in_air / (m) (latitude: 600; longitude: 800)>,\n",
       "<iris 'Cube' of visibility_in_air / (m) (latitude: 600; longitude: 800)>,\n",
       "<iris 'Cube' of visibility_in_air / (m) (latitude: 600; longitude: 800)>,\n",
       "<iris 'Cube' of visibility_in_air / (m) (latitude: 600; longitude: 800)>,\n",
       "<iris 'Cube' of visibility_in_air / (m) (latitude: 600; longitude: 800)>,\n",
       "<iris 'Cube' of visibility_in_air / (m) (latitude: 600; longitude: 800)>,\n",
       "<iris 'Cube' of visibility_in_air / (m) (latitude: 600; longitude: 800)>,\n",
       "<iris 'Cube' of visibility_in_air / (m) (latitude: 600; longitude: 800)>,\n",
       "<iris 'Cube' of visibility_in_air / (m) (latitude: 600; longitude: 800)>,\n",
       "<iris 'Cube' of visibility_in_air / (m) (latitude: 600; longitude: 800)>,\n",
       "<iris 'Cube' of visibility_in_air / (m) (latitude: 600; longitude: 800)>,\n",
       "<iris 'Cube' of visibility_in_air / (m) (latitude: 600; longitude: 800)>,\n",
       "<iris 'Cube' of visibility_in_air / (m) (latitude: 600; longitude: 800)>,\n",
       "<iris 'Cube' of visibility_in_air / (m) (latitude: 600; longitude: 800)>,\n",
       "<iris 'Cube' of visibility_in_air / (m) (latitude: 600; longitude: 800)>,\n",
       "<iris 'Cube' of visibility_in_air / (m) (latitude: 600; longitude: 800)>,\n",
       "<iris 'Cube' of visibility_in_air / (m) (latitude: 600; longitude: 800)>,\n",
       "<iris 'Cube' of visibility_in_air / (m) (latitude: 600; longitude: 800)>,\n",
       "<iris 'Cube' of visibility_in_air / (m) (latitude: 600; longitude: 800)>,\n",
       "<iris 'Cube' of visibility_in_air / (m) (latitude: 600; longitude: 800)>,\n",
       "<iris 'Cube' of visibility_in_air / (m) (latitude: 600; longitude: 800)>,\n",
       "<iris 'Cube' of visibility_in_air / (m) (latitude: 600; longitude: 800)>,\n",
       "<iris 'Cube' of visibility_in_air / (m) (latitude: 600; longitude: 800)>,\n",
       "<iris 'Cube' of visibility_in_air / (m) (latitude: 600; longitude: 800)>,\n",
       "<iris 'Cube' of visibility_in_air / (m) (latitude: 600; longitude: 800)>,\n",
       "<iris 'Cube' of visibility_in_air / (m) (latitude: 600; longitude: 800)>,\n",
       "<iris 'Cube' of visibility_in_air / (m) (latitude: 600; longitude: 800)>,\n",
       "<iris 'Cube' of visibility_in_air / (m) (latitude: 600; longitude: 800)>,\n",
       "<iris 'Cube' of visibility_in_air / (m) (latitude: 600; longitude: 800)>,\n",
       "<iris 'Cube' of visibility_in_air / (m) (latitude: 600; longitude: 800)>,\n",
       "<iris 'Cube' of visibility_in_air / (m) (latitude: 600; longitude: 800)>,\n",
       "<iris 'Cube' of visibility_in_air / (m) (latitude: 600; longitude: 800)>,\n",
       "<iris 'Cube' of visibility_in_air / (m) (latitude: 600; longitude: 800)>,\n",
       "<iris 'Cube' of visibility_in_air / (m) (latitude: 600; longitude: 800)>,\n",
       "<iris 'Cube' of visibility_in_air / (m) (latitude: 600; longitude: 800)>,\n",
       "<iris 'Cube' of visibility_in_air / (m) (latitude: 600; longitude: 800)>,\n",
       "<iris 'Cube' of visibility_in_air / (m) (latitude: 600; longitude: 800)>,\n",
       "<iris 'Cube' of visibility_in_air / (m) (latitude: 600; longitude: 800)>,\n",
       "<iris 'Cube' of visibility_in_air / (m) (latitude: 600; longitude: 800)>,\n",
       "<iris 'Cube' of visibility_in_air / (m) (latitude: 600; longitude: 800)>,\n",
       "<iris 'Cube' of visibility_in_air / (m) (latitude: 600; longitude: 800)>,\n",
       "<iris 'Cube' of visibility_in_air / (m) (latitude: 600; longitude: 800)>,\n",
       "<iris 'Cube' of visibility_in_air / (m) (latitude: 600; longitude: 800)>,\n",
       "<iris 'Cube' of visibility_in_air / (m) (latitude: 600; longitude: 800)>,\n",
       "<iris 'Cube' of visibility_in_air / (m) (latitude: 600; longitude: 800)>,\n",
       "<iris 'Cube' of visibility_in_air / (m) (latitude: 600; longitude: 800)>,\n",
       "<iris 'Cube' of visibility_in_air / (m) (latitude: 600; longitude: 800)>,\n",
       "<iris 'Cube' of visibility_in_air / (m) (latitude: 600; longitude: 800)>,\n",
       "<iris 'Cube' of visibility_in_air / (m) (latitude: 600; longitude: 800)>,\n",
       "<iris 'Cube' of visibility_in_air / (m) (latitude: 600; longitude: 800)>,\n",
       "<iris 'Cube' of visibility_in_air / (m) (latitude: 600; longitude: 800)>,\n",
       "<iris 'Cube' of visibility_in_air / (m) (latitude: 600; longitude: 800)>,\n",
       "<iris 'Cube' of visibility_in_air / (m) (latitude: 600; longitude: 800)>,\n",
       "<iris 'Cube' of visibility_in_air / (m) (latitude: 600; longitude: 800)>,\n",
       "<iris 'Cube' of visibility_in_air / (m) (latitude: 600; longitude: 800)>,\n",
       "<iris 'Cube' of visibility_in_air / (m) (latitude: 600; longitude: 800)>,\n",
       "<iris 'Cube' of visibility_in_air / (m) (latitude: 600; longitude: 800)>,\n",
       "<iris 'Cube' of visibility_in_air / (m) (latitude: 600; longitude: 800)>,\n",
       "<iris 'Cube' of visibility_in_air / (m) (latitude: 600; longitude: 800)>,\n",
       "<iris 'Cube' of visibility_in_air / (m) (latitude: 600; longitude: 800)>,\n",
       "<iris 'Cube' of visibility_in_air / (m) (latitude: 600; longitude: 800)>,\n",
       "<iris 'Cube' of visibility_in_air / (m) (latitude: 600; longitude: 800)>,\n",
       "<iris 'Cube' of visibility_in_air / (m) (latitude: 600; longitude: 800)>,\n",
       "<iris 'Cube' of visibility_in_air / (m) (latitude: 600; longitude: 800)>,\n",
       "<iris 'Cube' of visibility_in_air / (m) (latitude: 600; longitude: 800)>,\n",
       "<iris 'Cube' of visibility_in_air / (m) (latitude: 600; longitude: 800)>,\n",
       "<iris 'Cube' of visibility_in_air / (m) (latitude: 600; longitude: 800)>,\n",
       "<iris 'Cube' of visibility_in_air / (m) (latitude: 600; longitude: 800)>,\n",
       "<iris 'Cube' of visibility_in_air / (m) (latitude: 600; longitude: 800)>,\n",
       "<iris 'Cube' of visibility_in_air / (m) (latitude: 600; longitude: 800)>,\n",
       "<iris 'Cube' of visibility_in_air / (m) (latitude: 600; longitude: 800)>,\n",
       "<iris 'Cube' of visibility_in_air / (m) (latitude: 600; longitude: 800)>,\n",
       "<iris 'Cube' of visibility_in_air / (m) (latitude: 600; longitude: 800)>,\n",
       "<iris 'Cube' of visibility_in_air / (m) (latitude: 600; longitude: 800)>,\n",
       "<iris 'Cube' of visibility_in_air / (m) (latitude: 600; longitude: 800)>,\n",
       "<iris 'Cube' of visibility_in_air / (m) (latitude: 600; longitude: 800)>,\n",
       "<iris 'Cube' of visibility_in_air / (m) (latitude: 600; longitude: 800)>,\n",
       "<iris 'Cube' of visibility_in_air / (m) (latitude: 600; longitude: 800)>,\n",
       "<iris 'Cube' of visibility_in_air / (m) (latitude: 600; longitude: 800)>,\n",
       "<iris 'Cube' of visibility_in_air / (m) (latitude: 600; longitude: 800)>,\n",
       "<iris 'Cube' of visibility_in_air / (m) (latitude: 600; longitude: 800)>,\n",
       "<iris 'Cube' of visibility_in_air / (m) (latitude: 600; longitude: 800)>,\n",
       "<iris 'Cube' of visibility_in_air / (m) (latitude: 600; longitude: 800)>,\n",
       "<iris 'Cube' of visibility_in_air / (m) (latitude: 600; longitude: 800)>,\n",
       "<iris 'Cube' of visibility_in_air / (m) (latitude: 600; longitude: 800)>,\n",
       "<iris 'Cube' of visibility_in_air / (m) (latitude: 600; longitude: 800)>,\n",
       "<iris 'Cube' of visibility_in_air / (m) (latitude: 600; longitude: 800)>,\n",
       "<iris 'Cube' of visibility_in_air / (m) (latitude: 600; longitude: 800)>,\n",
       "<iris 'Cube' of visibility_in_air / (m) (latitude: 600; longitude: 800)>,\n",
       "<iris 'Cube' of visibility_in_air / (m) (latitude: 600; longitude: 800)>,\n",
       "<iris 'Cube' of visibility_in_air / (m) (latitude: 600; longitude: 800)>,\n",
       "<iris 'Cube' of visibility_in_air / (m) (latitude: 600; longitude: 800)>,\n",
       "<iris 'Cube' of visibility_in_air / (m) (latitude: 600; longitude: 800)>,\n",
       "<iris 'Cube' of visibility_in_air / (m) (latitude: 600; longitude: 800)>,\n",
       "<iris 'Cube' of visibility_in_air / (m) (latitude: 600; longitude: 800)>,\n",
       "<iris 'Cube' of visibility_in_air / (m) (latitude: 600; longitude: 800)>,\n",
       "<iris 'Cube' of visibility_in_air / (m) (latitude: 600; longitude: 800)>,\n",
       "<iris 'Cube' of visibility_in_air / (m) (latitude: 600; longitude: 800)>,\n",
       "<iris 'Cube' of visibility_in_air / (m) (latitude: 600; longitude: 800)>,\n",
       "<iris 'Cube' of visibility_in_air / (m) (latitude: 600; longitude: 800)>,\n",
       "<iris 'Cube' of visibility_in_air / (m) (latitude: 600; longitude: 800)>,\n",
       "<iris 'Cube' of visibility_in_air / (m) (latitude: 600; longitude: 800)>,\n",
       "<iris 'Cube' of visibility_in_air / (m) (latitude: 600; longitude: 800)>,\n",
       "<iris 'Cube' of visibility_in_air / (m) (latitude: 600; longitude: 800)>,\n",
       "<iris 'Cube' of visibility_in_air / (m) (latitude: 600; longitude: 800)>,\n",
       "<iris 'Cube' of visibility_in_air / (m) (latitude: 600; longitude: 800)>,\n",
       "<iris 'Cube' of visibility_in_air / (m) (latitude: 600; longitude: 800)>,\n",
       "<iris 'Cube' of visibility_in_air / (m) (latitude: 600; longitude: 800)>,\n",
       "<iris 'Cube' of visibility_in_air / (m) (latitude: 600; longitude: 800)>,\n",
       "<iris 'Cube' of visibility_in_air / (m) (latitude: 600; longitude: 800)>,\n",
       "<iris 'Cube' of visibility_in_air / (m) (latitude: 600; longitude: 800)>,\n",
       "<iris 'Cube' of visibility_in_air / (m) (latitude: 600; longitude: 800)>,\n",
       "<iris 'Cube' of visibility_in_air / (m) (latitude: 600; longitude: 800)>,\n",
       "<iris 'Cube' of visibility_in_air / (m) (latitude: 600; longitude: 800)>,\n",
       "<iris 'Cube' of visibility_in_air / (m) (latitude: 600; longitude: 800)>,\n",
       "<iris 'Cube' of visibility_in_air / (m) (latitude: 600; longitude: 800)>,\n",
       "<iris 'Cube' of visibility_in_air / (m) (latitude: 600; longitude: 800)>,\n",
       "<iris 'Cube' of visibility_in_air / (m) (latitude: 600; longitude: 800)>,\n",
       "<iris 'Cube' of visibility_in_air / (m) (latitude: 600; longitude: 800)>,\n",
       "<iris 'Cube' of visibility_in_air / (m) (latitude: 600; longitude: 800)>,\n",
       "<iris 'Cube' of visibility_in_air / (m) (latitude: 600; longitude: 800)>,\n",
       "<iris 'Cube' of visibility_in_air / (m) (latitude: 600; longitude: 800)>,\n",
       "<iris 'Cube' of visibility_in_air / (m) (latitude: 600; longitude: 800)>,\n",
       "<iris 'Cube' of visibility_in_air / (m) (latitude: 600; longitude: 800)>,\n",
       "<iris 'Cube' of visibility_in_air / (m) (latitude: 600; longitude: 800)>,\n",
       "<iris 'Cube' of visibility_in_air / (m) (latitude: 600; longitude: 800)>,\n",
       "<iris 'Cube' of visibility_in_air / (m) (latitude: 600; longitude: 800)>,\n",
       "<iris 'Cube' of visibility_in_air / (m) (latitude: 600; longitude: 800)>,\n",
       "<iris 'Cube' of visibility_in_air / (m) (latitude: 600; longitude: 800)>,\n",
       "<iris 'Cube' of visibility_in_air / (m) (latitude: 600; longitude: 800)>,\n",
       "<iris 'Cube' of visibility_in_air / (m) (latitude: 600; longitude: 800)>,\n",
       "<iris 'Cube' of visibility_in_air / (m) (latitude: 600; longitude: 800)>,\n",
       "<iris 'Cube' of visibility_in_air / (m) (latitude: 600; longitude: 800)>,\n",
       "<iris 'Cube' of visibility_in_air / (m) (latitude: 600; longitude: 800)>,\n",
       "<iris 'Cube' of visibility_in_air / (m) (latitude: 600; longitude: 800)>,\n",
       "<iris 'Cube' of visibility_in_air / (m) (latitude: 600; longitude: 800)>,\n",
       "<iris 'Cube' of visibility_in_air / (m) (latitude: 600; longitude: 800)>,\n",
       "<iris 'Cube' of visibility_in_air / (m) (latitude: 600; longitude: 800)>,\n",
       "<iris 'Cube' of visibility_in_air / (m) (latitude: 600; longitude: 800)>,\n",
       "<iris 'Cube' of visibility_in_air / (m) (latitude: 600; longitude: 800)>,\n",
       "<iris 'Cube' of visibility_in_air / (m) (latitude: 600; longitude: 800)>,\n",
       "<iris 'Cube' of visibility_in_air / (m) (latitude: 600; longitude: 800)>,\n",
       "<iris 'Cube' of visibility_in_air / (m) (latitude: 600; longitude: 800)>,\n",
       "<iris 'Cube' of visibility_in_air / (m) (latitude: 600; longitude: 800)>,\n",
       "<iris 'Cube' of visibility_in_air / (m) (latitude: 600; longitude: 800)>,\n",
       "<iris 'Cube' of visibility_in_air / (m) (latitude: 600; longitude: 800)>,\n",
       "<iris 'Cube' of visibility_in_air / (m) (latitude: 600; longitude: 800)>,\n",
       "<iris 'Cube' of visibility_in_air / (m) (latitude: 600; longitude: 800)>,\n",
       "<iris 'Cube' of visibility_in_air / (m) (latitude: 600; longitude: 800)>,\n",
       "<iris 'Cube' of visibility_in_air / (m) (latitude: 600; longitude: 800)>,\n",
       "<iris 'Cube' of visibility_in_air / (m) (latitude: 600; longitude: 800)>,\n",
       "<iris 'Cube' of visibility_in_air / (m) (latitude: 600; longitude: 800)>,\n",
       "<iris 'Cube' of visibility_in_air / (m) (latitude: 600; longitude: 800)>,\n",
       "<iris 'Cube' of visibility_in_air / (m) (latitude: 600; longitude: 800)>,\n",
       "<iris 'Cube' of visibility_in_air / (m) (latitude: 600; longitude: 800)>,\n",
       "<iris 'Cube' of visibility_in_air / (m) (latitude: 600; longitude: 800)>,\n",
       "<iris 'Cube' of visibility_in_air / (m) (latitude: 600; longitude: 800)>,\n",
       "<iris 'Cube' of visibility_in_air / (m) (latitude: 600; longitude: 800)>,\n",
       "<iris 'Cube' of visibility_in_air / (m) (latitude: 600; longitude: 800)>,\n",
       "<iris 'Cube' of visibility_in_air / (m) (latitude: 600; longitude: 800)>,\n",
       "<iris 'Cube' of visibility_in_air / (m) (latitude: 600; longitude: 800)>,\n",
       "<iris 'Cube' of visibility_in_air / (m) (latitude: 600; longitude: 800)>,\n",
       "<iris 'Cube' of visibility_in_air / (m) (latitude: 600; longitude: 800)>,\n",
       "<iris 'Cube' of visibility_in_air / (m) (latitude: 600; longitude: 800)>,\n",
       "<iris 'Cube' of visibility_in_air / (m) (latitude: 600; longitude: 800)>,\n",
       "<iris 'Cube' of visibility_in_air / (m) (latitude: 600; longitude: 800)>,\n",
       "<iris 'Cube' of visibility_in_air / (m) (latitude: 600; longitude: 800)>,\n",
       "<iris 'Cube' of visibility_in_air / (m) (latitude: 600; longitude: 800)>,\n",
       "<iris 'Cube' of visibility_in_air / (m) (latitude: 600; longitude: 800)>,\n",
       "<iris 'Cube' of visibility_in_air / (m) (latitude: 600; longitude: 800)>,\n",
       "<iris 'Cube' of visibility_in_air / (m) (latitude: 600; longitude: 800)>,\n",
       "<iris 'Cube' of visibility_in_air / (m) (latitude: 600; longitude: 800)>,\n",
       "<iris 'Cube' of visibility_in_air / (m) (latitude: 600; longitude: 800)>,\n",
       "<iris 'Cube' of visibility_in_air / (m) (latitude: 600; longitude: 800)>,\n",
       "<iris 'Cube' of visibility_in_air / (m) (latitude: 600; longitude: 800)>,\n",
       "<iris 'Cube' of visibility_in_air / (m) (latitude: 600; longitude: 800)>,\n",
       "<iris 'Cube' of visibility_in_air / (m) (latitude: 600; longitude: 800)>,\n",
       "<iris 'Cube' of visibility_in_air / (m) (latitude: 600; longitude: 800)>,\n",
       "<iris 'Cube' of visibility_in_air / (m) (latitude: 600; longitude: 800)>,\n",
       "<iris 'Cube' of visibility_in_air / (m) (latitude: 600; longitude: 800)>,\n",
       "<iris 'Cube' of visibility_in_air / (m) (latitude: 600; longitude: 800)>,\n",
       "<iris 'Cube' of visibility_in_air / (m) (latitude: 600; longitude: 800)>,\n",
       "<iris 'Cube' of visibility_in_air / (m) (latitude: 600; longitude: 800)>,\n",
       "<iris 'Cube' of visibility_in_air / (m) (latitude: 600; longitude: 800)>,\n",
       "<iris 'Cube' of visibility_in_air / (m) (latitude: 600; longitude: 800)>,\n",
       "<iris 'Cube' of visibility_in_air / (m) (latitude: 600; longitude: 800)>,\n",
       "<iris 'Cube' of visibility_in_air / (m) (latitude: 600; longitude: 800)>,\n",
       "<iris 'Cube' of visibility_in_air / (m) (latitude: 600; longitude: 800)>,\n",
       "<iris 'Cube' of visibility_in_air / (m) (latitude: 600; longitude: 800)>,\n",
       "<iris 'Cube' of visibility_in_air / (m) (latitude: 600; longitude: 800)>,\n",
       "<iris 'Cube' of visibility_in_air / (m) (latitude: 600; longitude: 800)>,\n",
       "<iris 'Cube' of visibility_in_air / (m) (latitude: 600; longitude: 800)>,\n",
       "<iris 'Cube' of visibility_in_air / (m) (latitude: 600; longitude: 800)>,\n",
       "<iris 'Cube' of visibility_in_air / (m) (latitude: 600; longitude: 800)>,\n",
       "<iris 'Cube' of visibility_in_air / (m) (latitude: 600; longitude: 800)>,\n",
       "<iris 'Cube' of visibility_in_air / (m) (latitude: 600; longitude: 800)>,\n",
       "<iris 'Cube' of visibility_in_air / (m) (latitude: 600; longitude: 800)>,\n",
       "<iris 'Cube' of visibility_in_air / (m) (latitude: 600; longitude: 800)>,\n",
       "<iris 'Cube' of visibility_in_air / (m) (latitude: 600; longitude: 800)>,\n",
       "<iris 'Cube' of visibility_in_air / (m) (latitude: 600; longitude: 800)>,\n",
       "<iris 'Cube' of visibility_in_air / (m) (latitude: 600; longitude: 800)>,\n",
       "<iris 'Cube' of visibility_in_air / (m) (latitude: 600; longitude: 800)>,\n",
       "<iris 'Cube' of visibility_in_air / (m) (latitude: 600; longitude: 800)>,\n",
       "<iris 'Cube' of visibility_in_air / (m) (latitude: 600; longitude: 800)>,\n",
       "<iris 'Cube' of visibility_in_air / (m) (latitude: 600; longitude: 800)>,\n",
       "<iris 'Cube' of visibility_in_air / (m) (latitude: 600; longitude: 800)>,\n",
       "<iris 'Cube' of visibility_in_air / (m) (latitude: 600; longitude: 800)>,\n",
       "<iris 'Cube' of visibility_in_air / (m) (latitude: 600; longitude: 800)>,\n",
       "<iris 'Cube' of visibility_in_air / (m) (latitude: 600; longitude: 800)>,\n",
       "<iris 'Cube' of visibility_in_air / (m) (latitude: 600; longitude: 800)>,\n",
       "<iris 'Cube' of visibility_in_air / (m) (latitude: 600; longitude: 800)>,\n",
       "<iris 'Cube' of visibility_in_air / (m) (latitude: 600; longitude: 800)>,\n",
       "<iris 'Cube' of visibility_in_air / (m) (latitude: 600; longitude: 800)>,\n",
       "<iris 'Cube' of visibility_in_air / (m) (latitude: 600; longitude: 800)>,\n",
       "<iris 'Cube' of visibility_in_air / (m) (latitude: 600; longitude: 800)>,\n",
       "<iris 'Cube' of visibility_in_air / (m) (latitude: 600; longitude: 800)>,\n",
       "<iris 'Cube' of visibility_in_air / (m) (latitude: 600; longitude: 800)>,\n",
       "<iris 'Cube' of visibility_in_air / (m) (latitude: 600; longitude: 800)>,\n",
       "<iris 'Cube' of visibility_in_air / (m) (latitude: 600; longitude: 800)>,\n",
       "<iris 'Cube' of visibility_in_air / (m) (latitude: 600; longitude: 800)>,\n",
       "<iris 'Cube' of visibility_in_air / (m) (latitude: 600; longitude: 800)>,\n",
       "<iris 'Cube' of visibility_in_air / (m) (latitude: 600; longitude: 800)>,\n",
       "<iris 'Cube' of visibility_in_air / (m) (latitude: 600; longitude: 800)>,\n",
       "<iris 'Cube' of visibility_in_air / (m) (latitude: 600; longitude: 800)>,\n",
       "<iris 'Cube' of visibility_in_air / (m) (latitude: 600; longitude: 800)>,\n",
       "<iris 'Cube' of visibility_in_air / (m) (latitude: 600; longitude: 800)>,\n",
       "<iris 'Cube' of visibility_in_air / (m) (latitude: 600; longitude: 800)>,\n",
       "<iris 'Cube' of visibility_in_air / (m) (latitude: 600; longitude: 800)>,\n",
       "<iris 'Cube' of visibility_in_air / (m) (latitude: 600; longitude: 800)>,\n",
       "<iris 'Cube' of visibility_in_air / (m) (latitude: 600; longitude: 800)>,\n",
       "<iris 'Cube' of visibility_in_air / (m) (latitude: 600; longitude: 800)>,\n",
       "<iris 'Cube' of visibility_in_air / (m) (latitude: 600; longitude: 800)>,\n",
       "<iris 'Cube' of visibility_in_air / (m) (latitude: 600; longitude: 800)>,\n",
       "<iris 'Cube' of visibility_in_air / (m) (latitude: 600; longitude: 800)>,\n",
       "<iris 'Cube' of visibility_in_air / (m) (latitude: 600; longitude: 800)>,\n",
       "<iris 'Cube' of visibility_in_air / (m) (latitude: 600; longitude: 800)>,\n",
       "<iris 'Cube' of visibility_in_air / (m) (latitude: 600; longitude: 800)>,\n",
       "<iris 'Cube' of visibility_in_air / (m) (latitude: 600; longitude: 800)>,\n",
       "<iris 'Cube' of visibility_in_air / (m) (latitude: 600; longitude: 800)>,\n",
       "<iris 'Cube' of visibility_in_air / (m) (latitude: 600; longitude: 800)>,\n",
       "<iris 'Cube' of visibility_in_air / (m) (latitude: 600; longitude: 800)>,\n",
       "<iris 'Cube' of visibility_in_air / (m) (latitude: 600; longitude: 800)>,\n",
       "<iris 'Cube' of visibility_in_air / (m) (latitude: 600; longitude: 800)>,\n",
       "<iris 'Cube' of visibility_in_air / (m) (latitude: 600; longitude: 800)>,\n",
       "<iris 'Cube' of visibility_in_air / (m) (latitude: 600; longitude: 800)>,\n",
       "<iris 'Cube' of visibility_in_air / (m) (latitude: 600; longitude: 800)>,\n",
       "<iris 'Cube' of visibility_in_air / (m) (latitude: 600; longitude: 800)>,\n",
       "<iris 'Cube' of visibility_in_air / (m) (latitude: 600; longitude: 800)>,\n",
       "<iris 'Cube' of visibility_in_air / (m) (latitude: 600; longitude: 800)>,\n",
       "<iris 'Cube' of visibility_in_air / (m) (latitude: 600; longitude: 800)>,\n",
       "<iris 'Cube' of visibility_in_air / (m) (latitude: 600; longitude: 800)>,\n",
       "<iris 'Cube' of visibility_in_air / (m) (latitude: 600; longitude: 800)>,\n",
       "<iris 'Cube' of visibility_in_air / (m) (latitude: 600; longitude: 800)>,\n",
       "<iris 'Cube' of visibility_in_air / (m) (latitude: 600; longitude: 800)>,\n",
       "<iris 'Cube' of visibility_in_air / (m) (latitude: 600; longitude: 800)>,\n",
       "<iris 'Cube' of visibility_in_air / (m) (latitude: 600; longitude: 800)>,\n",
       "<iris 'Cube' of visibility_in_air / (m) (latitude: 600; longitude: 800)>,\n",
       "<iris 'Cube' of visibility_in_air / (m) (latitude: 600; longitude: 800)>,\n",
       "<iris 'Cube' of visibility_in_air / (m) (latitude: 600; longitude: 800)>,\n",
       "<iris 'Cube' of visibility_in_air / (m) (latitude: 600; longitude: 800)>,\n",
       "<iris 'Cube' of visibility_in_air / (m) (latitude: 600; longitude: 800)>,\n",
       "<iris 'Cube' of visibility_in_air / (m) (latitude: 600; longitude: 800)>,\n",
       "<iris 'Cube' of visibility_in_air / (m) (latitude: 600; longitude: 800)>,\n",
       "<iris 'Cube' of visibility_in_air / (m) (latitude: 600; longitude: 800)>,\n",
       "<iris 'Cube' of visibility_in_air / (m) (latitude: 600; longitude: 800)>,\n",
       "<iris 'Cube' of visibility_in_air / (m) (latitude: 600; longitude: 800)>,\n",
       "<iris 'Cube' of visibility_in_air / (m) (latitude: 600; longitude: 800)>,\n",
       "<iris 'Cube' of visibility_in_air / (m) (latitude: 600; longitude: 800)>,\n",
       "<iris 'Cube' of visibility_in_air / (m) (latitude: 600; longitude: 800)>,\n",
       "<iris 'Cube' of visibility_in_air / (m) (latitude: 600; longitude: 800)>,\n",
       "<iris 'Cube' of visibility_in_air / (m) (latitude: 600; longitude: 800)>,\n",
       "<iris 'Cube' of visibility_in_air / (m) (latitude: 600; longitude: 800)>,\n",
       "<iris 'Cube' of visibility_in_air / (m) (latitude: 600; longitude: 800)>,\n",
       "<iris 'Cube' of visibility_in_air / (m) (latitude: 600; longitude: 800)>,\n",
       "<iris 'Cube' of visibility_in_air / (m) (latitude: 600; longitude: 800)>,\n",
       "<iris 'Cube' of visibility_in_air / (m) (latitude: 600; longitude: 800)>,\n",
       "<iris 'Cube' of visibility_in_air / (m) (latitude: 600; longitude: 800)>,\n",
       "<iris 'Cube' of visibility_in_air / (m) (latitude: 600; longitude: 800)>,\n",
       "<iris 'Cube' of visibility_in_air / (m) (latitude: 600; longitude: 800)>,\n",
       "<iris 'Cube' of visibility_in_air / (m) (latitude: 600; longitude: 800)>,\n",
       "<iris 'Cube' of visibility_in_air / (m) (latitude: 600; longitude: 800)>,\n",
       "<iris 'Cube' of visibility_in_air / (m) (latitude: 600; longitude: 800)>,\n",
       "<iris 'Cube' of visibility_in_air / (m) (latitude: 600; longitude: 800)>,\n",
       "<iris 'Cube' of visibility_in_air / (m) (latitude: 600; longitude: 800)>,\n",
       "<iris 'Cube' of visibility_in_air / (m) (latitude: 600; longitude: 800)>,\n",
       "<iris 'Cube' of visibility_in_air / (m) (latitude: 600; longitude: 800)>,\n",
       "<iris 'Cube' of visibility_in_air / (m) (latitude: 600; longitude: 800)>,\n",
       "<iris 'Cube' of visibility_in_air / (m) (latitude: 600; longitude: 800)>,\n",
       "<iris 'Cube' of visibility_in_air / (m) (latitude: 600; longitude: 800)>,\n",
       "<iris 'Cube' of visibility_in_air / (m) (latitude: 600; longitude: 800)>,\n",
       "<iris 'Cube' of visibility_in_air / (m) (latitude: 600; longitude: 800)>,\n",
       "<iris 'Cube' of visibility_in_air / (m) (latitude: 600; longitude: 800)>,\n",
       "<iris 'Cube' of visibility_in_air / (m) (latitude: 600; longitude: 800)>,\n",
       "<iris 'Cube' of visibility_in_air / (m) (latitude: 600; longitude: 800)>,\n",
       "<iris 'Cube' of visibility_in_air / (m) (latitude: 600; longitude: 800)>,\n",
       "<iris 'Cube' of visibility_in_air / (m) (latitude: 600; longitude: 800)>,\n",
       "<iris 'Cube' of visibility_in_air / (m) (latitude: 600; longitude: 800)>,\n",
       "<iris 'Cube' of visibility_in_air / (m) (latitude: 600; longitude: 800)>,\n",
       "<iris 'Cube' of visibility_in_air / (m) (latitude: 600; longitude: 800)>,\n",
       "<iris 'Cube' of visibility_in_air / (m) (latitude: 600; longitude: 800)>,\n",
       "<iris 'Cube' of visibility_in_air / (m) (latitude: 600; longitude: 800)>,\n",
       "<iris 'Cube' of visibility_in_air / (m) (latitude: 600; longitude: 800)>,\n",
       "<iris 'Cube' of visibility_in_air / (m) (latitude: 600; longitude: 800)>,\n",
       "<iris 'Cube' of visibility_in_air / (m) (latitude: 600; longitude: 800)>,\n",
       "<iris 'Cube' of visibility_in_air / (m) (latitude: 600; longitude: 800)>,\n",
       "<iris 'Cube' of visibility_in_air / (m) (latitude: 600; longitude: 800)>,\n",
       "<iris 'Cube' of visibility_in_air / (m) (latitude: 600; longitude: 800)>,\n",
       "<iris 'Cube' of visibility_in_air / (m) (latitude: 600; longitude: 800)>,\n",
       "<iris 'Cube' of visibility_in_air / (m) (latitude: 600; longitude: 800)>,\n",
       "<iris 'Cube' of visibility_in_air / (m) (latitude: 600; longitude: 800)>,\n",
       "<iris 'Cube' of visibility_in_air / (m) (latitude: 600; longitude: 800)>,\n",
       "<iris 'Cube' of visibility_in_air / (m) (latitude: 600; longitude: 800)>,\n",
       "<iris 'Cube' of visibility_in_air / (m) (latitude: 600; longitude: 800)>,\n",
       "<iris 'Cube' of visibility_in_air / (m) (latitude: 600; longitude: 800)>,\n",
       "<iris 'Cube' of visibility_in_air / (m) (latitude: 600; longitude: 800)>,\n",
       "<iris 'Cube' of visibility_in_air / (m) (latitude: 600; longitude: 800)>,\n",
       "<iris 'Cube' of visibility_in_air / (m) (latitude: 600; longitude: 800)>,\n",
       "<iris 'Cube' of visibility_in_air / (m) (latitude: 600; longitude: 800)>,\n",
       "<iris 'Cube' of visibility_in_air / (m) (latitude: 600; longitude: 800)>,\n",
       "<iris 'Cube' of visibility_in_air / (m) (latitude: 600; longitude: 800)>,\n",
       "<iris 'Cube' of visibility_in_air / (m) (latitude: 600; longitude: 800)>,\n",
       "<iris 'Cube' of visibility_in_air / (m) (latitude: 600; longitude: 800)>,\n",
       "<iris 'Cube' of visibility_in_air / (m) (latitude: 600; longitude: 800)>,\n",
       "<iris 'Cube' of visibility_in_air / (m) (latitude: 600; longitude: 800)>,\n",
       "<iris 'Cube' of visibility_in_air / (m) (latitude: 600; longitude: 800)>,\n",
       "<iris 'Cube' of visibility_in_air / (m) (latitude: 600; longitude: 800)>,\n",
       "<iris 'Cube' of visibility_in_air / (m) (latitude: 600; longitude: 800)>,\n",
       "<iris 'Cube' of visibility_in_air / (m) (latitude: 600; longitude: 800)>,\n",
       "<iris 'Cube' of visibility_in_air / (m) (latitude: 600; longitude: 800)>,\n",
       "<iris 'Cube' of visibility_in_air / (m) (latitude: 600; longitude: 800)>,\n",
       "<iris 'Cube' of visibility_in_air / (m) (latitude: 600; longitude: 800)>,\n",
       "<iris 'Cube' of visibility_in_air / (m) (latitude: 600; longitude: 800)>,\n",
       "<iris 'Cube' of visibility_in_air / (m) (latitude: 600; longitude: 800)>,\n",
       "<iris 'Cube' of visibility_in_air / (m) (latitude: 600; longitude: 800)>,\n",
       "<iris 'Cube' of visibility_in_air / (m) (latitude: 600; longitude: 800)>,\n",
       "<iris 'Cube' of visibility_in_air / (m) (latitude: 600; longitude: 800)>,\n",
       "<iris 'Cube' of visibility_in_air / (m) (latitude: 600; longitude: 800)>,\n",
       "<iris 'Cube' of visibility_in_air / (m) (latitude: 600; longitude: 800)>,\n",
       "<iris 'Cube' of visibility_in_air / (m) (latitude: 600; longitude: 800)>,\n",
       "<iris 'Cube' of visibility_in_air / (m) (latitude: 600; longitude: 800)>,\n",
       "<iris 'Cube' of visibility_in_air / (m) (latitude: 600; longitude: 800)>,\n",
       "<iris 'Cube' of visibility_in_air / (m) (latitude: 600; longitude: 800)>,\n",
       "<iris 'Cube' of visibility_in_air / (m) (latitude: 600; longitude: 800)>,\n",
       "<iris 'Cube' of visibility_in_air / (m) (latitude: 600; longitude: 800)>,\n",
       "<iris 'Cube' of visibility_in_air / (m) (latitude: 600; longitude: 800)>,\n",
       "<iris 'Cube' of visibility_in_air / (m) (latitude: 600; longitude: 800)>,\n",
       "<iris 'Cube' of visibility_in_air / (m) (latitude: 600; longitude: 800)>,\n",
       "<iris 'Cube' of visibility_in_air / (m) (latitude: 600; longitude: 800)>,\n",
       "<iris 'Cube' of visibility_in_air / (m) (latitude: 600; longitude: 800)>,\n",
       "<iris 'Cube' of visibility_in_air / (m) (latitude: 600; longitude: 800)>,\n",
       "<iris 'Cube' of visibility_in_air / (m) (latitude: 600; longitude: 800)>,\n",
       "<iris 'Cube' of visibility_in_air / (m) (latitude: 600; longitude: 800)>,\n",
       "<iris 'Cube' of visibility_in_air / (m) (latitude: 600; longitude: 800)>,\n",
       "<iris 'Cube' of visibility_in_air / (m) (latitude: 600; longitude: 800)>,\n",
       "<iris 'Cube' of visibility_in_air / (m) (latitude: 600; longitude: 800)>,\n",
       "<iris 'Cube' of visibility_in_air / (m) (latitude: 600; longitude: 800)>,\n",
       "<iris 'Cube' of visibility_in_air / (m) (latitude: 600; longitude: 800)>,\n",
       "<iris 'Cube' of visibility_in_air / (m) (latitude: 600; longitude: 800)>,\n",
       "<iris 'Cube' of visibility_in_air / (m) (latitude: 600; longitude: 800)>,\n",
       "<iris 'Cube' of visibility_in_air / (m) (latitude: 600; longitude: 800)>,\n",
       "<iris 'Cube' of visibility_in_air / (m) (latitude: 600; longitude: 800)>,\n",
       "<iris 'Cube' of visibility_in_air / (m) (latitude: 600; longitude: 800)>,\n",
       "<iris 'Cube' of visibility_in_air / (m) (latitude: 600; longitude: 800)>,\n",
       "<iris 'Cube' of visibility_in_air / (m) (latitude: 600; longitude: 800)>,\n",
       "<iris 'Cube' of visibility_in_air / (m) (latitude: 600; longitude: 800)>,\n",
       "<iris 'Cube' of visibility_in_air / (m) (latitude: 600; longitude: 800)>,\n",
       "<iris 'Cube' of visibility_in_air / (m) (latitude: 600; longitude: 800)>,\n",
       "<iris 'Cube' of visibility_in_air / (m) (latitude: 600; longitude: 800)>,\n",
       "<iris 'Cube' of visibility_in_air / (m) (latitude: 600; longitude: 800)>,\n",
       "<iris 'Cube' of visibility_in_air / (m) (latitude: 600; longitude: 800)>,\n",
       "<iris 'Cube' of visibility_in_air / (m) (latitude: 600; longitude: 800)>,\n",
       "<iris 'Cube' of visibility_in_air / (m) (latitude: 600; longitude: 800)>,\n",
       "<iris 'Cube' of visibility_in_air / (m) (latitude: 600; longitude: 800)>,\n",
       "<iris 'Cube' of visibility_in_air / (m) (latitude: 600; longitude: 800)>,\n",
       "<iris 'Cube' of visibility_in_air / (m) (latitude: 600; longitude: 800)>,\n",
       "<iris 'Cube' of visibility_in_air / (m) (latitude: 600; longitude: 800)>,\n",
       "<iris 'Cube' of visibility_in_air / (m) (latitude: 600; longitude: 800)>,\n",
       "<iris 'Cube' of visibility_in_air / (m) (latitude: 600; longitude: 800)>,\n",
       "<iris 'Cube' of visibility_in_air / (m) (latitude: 600; longitude: 800)>,\n",
       "<iris 'Cube' of visibility_in_air / (m) (latitude: 600; longitude: 800)>,\n",
       "<iris 'Cube' of visibility_in_air / (m) (latitude: 600; longitude: 800)>,\n",
       "<iris 'Cube' of visibility_in_air / (m) (latitude: 600; longitude: 800)>,\n",
       "<iris 'Cube' of visibility_in_air / (m) (latitude: 600; longitude: 800)>,\n",
       "<iris 'Cube' of visibility_in_air / (m) (latitude: 600; longitude: 800)>,\n",
       "<iris 'Cube' of visibility_in_air / (m) (latitude: 600; longitude: 800)>,\n",
       "<iris 'Cube' of visibility_in_air / (m) (latitude: 600; longitude: 800)>,\n",
       "<iris 'Cube' of visibility_in_air / (m) (latitude: 600; longitude: 800)>,\n",
       "<iris 'Cube' of visibility_in_air / (m) (latitude: 600; longitude: 800)>,\n",
       "<iris 'Cube' of visibility_in_air / (m) (latitude: 600; longitude: 800)>,\n",
       "<iris 'Cube' of visibility_in_air / (m) (latitude: 600; longitude: 800)>,\n",
       "<iris 'Cube' of visibility_in_air / (m) (latitude: 600; longitude: 800)>,\n",
       "<iris 'Cube' of visibility_in_air / (m) (latitude: 600; longitude: 800)>,\n",
       "<iris 'Cube' of visibility_in_air / (m) (latitude: 600; longitude: 800)>,\n",
       "<iris 'Cube' of visibility_in_air / (m) (latitude: 600; longitude: 800)>,\n",
       "<iris 'Cube' of visibility_in_air / (m) (latitude: 600; longitude: 800)>,\n",
       "<iris 'Cube' of visibility_in_air / (m) (latitude: 600; longitude: 800)>,\n",
       "<iris 'Cube' of visibility_in_air / (m) (latitude: 600; longitude: 800)>,\n",
       "<iris 'Cube' of visibility_in_air / (m) (latitude: 600; longitude: 800)>,\n",
       "<iris 'Cube' of visibility_in_air / (m) (latitude: 600; longitude: 800)>,\n",
       "<iris 'Cube' of visibility_in_air / (m) (latitude: 600; longitude: 800)>,\n",
       "<iris 'Cube' of visibility_in_air / (m) (latitude: 600; longitude: 800)>,\n",
       "<iris 'Cube' of visibility_in_air / (m) (latitude: 600; longitude: 800)>,\n",
       "<iris 'Cube' of visibility_in_air / (m) (latitude: 600; longitude: 800)>,\n",
       "<iris 'Cube' of visibility_in_air / (m) (latitude: 600; longitude: 800)>,\n",
       "<iris 'Cube' of visibility_in_air / (m) (latitude: 600; longitude: 800)>,\n",
       "<iris 'Cube' of visibility_in_air / (m) (latitude: 600; longitude: 800)>,\n",
       "<iris 'Cube' of visibility_in_air / (m) (latitude: 600; longitude: 800)>,\n",
       "<iris 'Cube' of visibility_in_air / (m) (latitude: 600; longitude: 800)>,\n",
       "<iris 'Cube' of visibility_in_air / (m) (latitude: 600; longitude: 800)>,\n",
       "<iris 'Cube' of visibility_in_air / (m) (latitude: 600; longitude: 800)>,\n",
       "<iris 'Cube' of visibility_in_air / (m) (latitude: 600; longitude: 800)>,\n",
       "<iris 'Cube' of visibility_in_air / (m) (latitude: 600; longitude: 800)>,\n",
       "<iris 'Cube' of visibility_in_air / (m) (latitude: 600; longitude: 800)>,\n",
       "<iris 'Cube' of visibility_in_air / (m) (latitude: 600; longitude: 800)>,\n",
       "<iris 'Cube' of visibility_in_air / (m) (latitude: 600; longitude: 800)>,\n",
       "<iris 'Cube' of visibility_in_air / (m) (latitude: 600; longitude: 800)>,\n",
       "<iris 'Cube' of visibility_in_air / (m) (latitude: 600; longitude: 800)>,\n",
       "<iris 'Cube' of visibility_in_air / (m) (latitude: 600; longitude: 800)>,\n",
       "<iris 'Cube' of visibility_in_air / (m) (latitude: 600; longitude: 800)>,\n",
       "<iris 'Cube' of visibility_in_air / (m) (latitude: 600; longitude: 800)>,\n",
       "<iris 'Cube' of visibility_in_air / (m) (latitude: 600; longitude: 800)>,\n",
       "<iris 'Cube' of visibility_in_air / (m) (latitude: 600; longitude: 800)>,\n",
       "<iris 'Cube' of visibility_in_air / (m) (latitude: 600; longitude: 800)>,\n",
       "<iris 'Cube' of visibility_in_air / (m) (latitude: 600; longitude: 800)>,\n",
       "<iris 'Cube' of visibility_in_air / (m) (latitude: 600; longitude: 800)>,\n",
       "<iris 'Cube' of visibility_in_air / (m) (latitude: 600; longitude: 800)>,\n",
       "<iris 'Cube' of visibility_in_air / (m) (latitude: 600; longitude: 800)>,\n",
       "<iris 'Cube' of visibility_in_air / (m) (latitude: 600; longitude: 800)>,\n",
       "<iris 'Cube' of visibility_in_air / (m) (latitude: 600; longitude: 800)>,\n",
       "<iris 'Cube' of visibility_in_air / (m) (latitude: 600; longitude: 800)>,\n",
       "<iris 'Cube' of visibility_in_air / (m) (latitude: 600; longitude: 800)>,\n",
       "<iris 'Cube' of visibility_in_air / (m) (latitude: 600; longitude: 800)>,\n",
       "<iris 'Cube' of visibility_in_air / (m) (latitude: 600; longitude: 800)>,\n",
       "<iris 'Cube' of visibility_in_air / (m) (latitude: 600; longitude: 800)>,\n",
       "<iris 'Cube' of visibility_in_air / (m) (latitude: 600; longitude: 800)>,\n",
       "<iris 'Cube' of visibility_in_air / (m) (latitude: 600; longitude: 800)>,\n",
       "<iris 'Cube' of visibility_in_air / (m) (latitude: 600; longitude: 800)>,\n",
       "<iris 'Cube' of visibility_in_air / (m) (latitude: 600; longitude: 800)>,\n",
       "<iris 'Cube' of visibility_in_air / (m) (latitude: 600; longitude: 800)>,\n",
       "<iris 'Cube' of visibility_in_air / (m) (latitude: 600; longitude: 800)>,\n",
       "<iris 'Cube' of visibility_in_air / (m) (latitude: 600; longitude: 800)>,\n",
       "<iris 'Cube' of visibility_in_air / (m) (latitude: 600; longitude: 800)>,\n",
       "<iris 'Cube' of visibility_in_air / (m) (latitude: 600; longitude: 800)>,\n",
       "<iris 'Cube' of visibility_in_air / (m) (latitude: 600; longitude: 800)>,\n",
       "<iris 'Cube' of visibility_in_air / (m) (latitude: 600; longitude: 800)>,\n",
       "<iris 'Cube' of visibility_in_air / (m) (latitude: 600; longitude: 800)>,\n",
       "<iris 'Cube' of visibility_in_air / (m) (latitude: 600; longitude: 800)>,\n",
       "<iris 'Cube' of visibility_in_air / (m) (latitude: 600; longitude: 800)>,\n",
       "<iris 'Cube' of visibility_in_air / (m) (latitude: 600; longitude: 800)>,\n",
       "<iris 'Cube' of visibility_in_air / (m) (latitude: 600; longitude: 800)>,\n",
       "<iris 'Cube' of visibility_in_air / (m) (latitude: 600; longitude: 800)>,\n",
       "<iris 'Cube' of visibility_in_air / (m) (latitude: 600; longitude: 800)>,\n",
       "<iris 'Cube' of visibility_in_air / (m) (latitude: 600; longitude: 800)>]"
      ]
     },
     "execution_count": 115,
     "metadata": {},
     "output_type": "execute_result"
    }
   ],
   "source": [
    "pcl"
   ]
  },
  {
   "cell_type": "code",
   "execution_count": 116,
   "metadata": {
    "collapsed": false
   },
   "outputs": [
    {
     "data": {
      "text/plain": [
       "dask.bag<bag-fro..., npartitions=696>"
      ]
     },
     "execution_count": 116,
     "metadata": {},
     "output_type": "execute_result"
    }
   ],
   "source": [
    "p_cubes"
   ]
  },
  {
   "cell_type": "code",
   "execution_count": 121,
   "metadata": {
    "collapsed": false
   },
   "outputs": [],
   "source": [
    "b_cubes = db.from_sequence(pcl)"
   ]
  },
  {
   "cell_type": "code",
   "execution_count": 122,
   "metadata": {
    "collapsed": false
   },
   "outputs": [
    {
     "data": {
      "text/plain": [
       "dask.bag<from_se..., npartitions=116>"
      ]
     },
     "execution_count": 122,
     "metadata": {},
     "output_type": "execute_result"
    }
   ],
   "source": [
    "b_cubes"
   ]
  },
  {
   "cell_type": "code",
   "execution_count": 132,
   "metadata": {
    "collapsed": false
   },
   "outputs": [],
   "source": [
    "grouped_cubes = b_cubes.groupby(lambda x: x.name())"
   ]
  },
  {
   "cell_type": "code",
   "execution_count": 133,
   "metadata": {
    "collapsed": false
   },
   "outputs": [
    {
     "name": "stderr",
     "output_type": "stream",
     "text": [
      "distributed.utils - ERROR - ('take-d6dbef9ea7b37ee0e5b385b5c097d053', 0)\n",
      "Traceback (most recent call last):\n",
      "  File \"/opt/conda/lib/python3.5/site-packages/distributed/client.py\", line 893, in _gather\n",
      "    st = self.futures[key]\n",
      "KeyError: \"('take-d6dbef9ea7b37ee0e5b385b5c097d053', 0)\"\n",
      "\n",
      "During handling of the above exception, another exception occurred:\n",
      "\n",
      "Traceback (most recent call last):\n",
      "  File \"/opt/conda/lib/python3.5/site-packages/distributed/utils.py\", line 149, in f\n",
      "    result[0] = yield gen.maybe_future(func(*args, **kwargs))\n",
      "  File \"/opt/conda/lib/python3.5/site-packages/tornado/gen.py\", line 1015, in run\n",
      "    value = future.result()\n",
      "  File \"/opt/conda/lib/python3.5/site-packages/tornado/concurrent.py\", line 237, in result\n",
      "    raise_exc_info(self._exc_info)\n",
      "  File \"<string>\", line 3, in raise_exc_info\n",
      "  File \"/opt/conda/lib/python3.5/site-packages/tornado/gen.py\", line 1021, in run\n",
      "    yielded = self.gen.throw(*exc_info)\n",
      "  File \"/opt/conda/lib/python3.5/site-packages/distributed/client.py\", line 900, in _gather\n",
      "    None)\n",
      "  File \"/opt/conda/lib/python3.5/site-packages/six.py\", line 686, in reraise\n",
      "    raise value\n",
      "concurrent.futures._base.CancelledError: ('take-d6dbef9ea7b37ee0e5b385b5c097d053', 0)\n"
     ]
    },
    {
     "ename": "KeyboardInterrupt",
     "evalue": "",
     "output_type": "error",
     "traceback": [
      "\u001b[0;31m---------------------------------------------------------------------------\u001b[0m",
      "\u001b[0;31mKeyboardInterrupt\u001b[0m                         Traceback (most recent call last)",
      "\u001b[0;32m<ipython-input-133-e70f90eca2e2>\u001b[0m in \u001b[0;36m<module>\u001b[0;34m()\u001b[0m\n\u001b[0;32m----> 1\u001b[0;31m \u001b[0mgrouped_cubes\u001b[0m\u001b[0;34m.\u001b[0m\u001b[0mtake\u001b[0m\u001b[0;34m(\u001b[0m\u001b[0;36m1\u001b[0m\u001b[0;34m)\u001b[0m\u001b[0;34m\u001b[0m\u001b[0m\n\u001b[0m",
      "\u001b[0;32m/opt/conda/lib/python3.5/site-packages/dask/bag/core.py\u001b[0m in \u001b[0;36mtake\u001b[0;34m(self, k, npartitions, compute)\u001b[0m\n\u001b[1;32m    975\u001b[0m \u001b[0;34m\u001b[0m\u001b[0m\n\u001b[1;32m    976\u001b[0m         \u001b[0;32mif\u001b[0m \u001b[0mcompute\u001b[0m\u001b[0;34m:\u001b[0m\u001b[0;34m\u001b[0m\u001b[0m\n\u001b[0;32m--> 977\u001b[0;31m             \u001b[0;32mreturn\u001b[0m \u001b[0mtuple\u001b[0m\u001b[0;34m(\u001b[0m\u001b[0mb\u001b[0m\u001b[0;34m.\u001b[0m\u001b[0mcompute\u001b[0m\u001b[0;34m(\u001b[0m\u001b[0;34m)\u001b[0m\u001b[0;34m)\u001b[0m\u001b[0;34m\u001b[0m\u001b[0m\n\u001b[0m\u001b[1;32m    978\u001b[0m         \u001b[0;32melse\u001b[0m\u001b[0;34m:\u001b[0m\u001b[0;34m\u001b[0m\u001b[0m\n\u001b[1;32m    979\u001b[0m             \u001b[0;32mreturn\u001b[0m \u001b[0mb\u001b[0m\u001b[0;34m\u001b[0m\u001b[0m\n",
      "\u001b[0;32m/opt/conda/lib/python3.5/site-packages/dask/base.py\u001b[0m in \u001b[0;36mcompute\u001b[0;34m(self, **kwargs)\u001b[0m\n\u001b[1;32m     77\u001b[0m             \u001b[0mExtra\u001b[0m \u001b[0mkeywords\u001b[0m \u001b[0mto\u001b[0m \u001b[0mforward\u001b[0m \u001b[0mto\u001b[0m \u001b[0mthe\u001b[0m \u001b[0mscheduler\u001b[0m\u001b[0;31m \u001b[0m\u001b[0;31m`\u001b[0m\u001b[0;31m`\u001b[0m\u001b[0mget\u001b[0m\u001b[0;31m`\u001b[0m\u001b[0;31m`\u001b[0m \u001b[0mfunction\u001b[0m\u001b[0;34m.\u001b[0m\u001b[0;34m\u001b[0m\u001b[0m\n\u001b[1;32m     78\u001b[0m         \"\"\"\n\u001b[0;32m---> 79\u001b[0;31m         \u001b[0;32mreturn\u001b[0m \u001b[0mcompute\u001b[0m\u001b[0;34m(\u001b[0m\u001b[0mself\u001b[0m\u001b[0;34m,\u001b[0m \u001b[0;34m**\u001b[0m\u001b[0mkwargs\u001b[0m\u001b[0;34m)\u001b[0m\u001b[0;34m[\u001b[0m\u001b[0;36m0\u001b[0m\u001b[0;34m]\u001b[0m\u001b[0;34m\u001b[0m\u001b[0m\n\u001b[0m\u001b[1;32m     80\u001b[0m \u001b[0;34m\u001b[0m\u001b[0m\n\u001b[1;32m     81\u001b[0m     \u001b[0;34m@\u001b[0m\u001b[0mclassmethod\u001b[0m\u001b[0;34m\u001b[0m\u001b[0m\n",
      "\u001b[0;32m/opt/conda/lib/python3.5/site-packages/dask/base.py\u001b[0m in \u001b[0;36mcompute\u001b[0;34m(*args, **kwargs)\u001b[0m\n\u001b[1;32m    177\u001b[0m         \u001b[0mdsk\u001b[0m \u001b[0;34m=\u001b[0m \u001b[0mmerge\u001b[0m\u001b[0;34m(\u001b[0m\u001b[0mvar\u001b[0m\u001b[0;34m.\u001b[0m\u001b[0mdask\u001b[0m \u001b[0;32mfor\u001b[0m \u001b[0mvar\u001b[0m \u001b[0;32min\u001b[0m \u001b[0mvariables\u001b[0m\u001b[0;34m)\u001b[0m\u001b[0;34m\u001b[0m\u001b[0m\n\u001b[1;32m    178\u001b[0m     \u001b[0mkeys\u001b[0m \u001b[0;34m=\u001b[0m \u001b[0;34m[\u001b[0m\u001b[0mvar\u001b[0m\u001b[0;34m.\u001b[0m\u001b[0m_keys\u001b[0m\u001b[0;34m(\u001b[0m\u001b[0;34m)\u001b[0m \u001b[0;32mfor\u001b[0m \u001b[0mvar\u001b[0m \u001b[0;32min\u001b[0m \u001b[0mvariables\u001b[0m\u001b[0;34m]\u001b[0m\u001b[0;34m\u001b[0m\u001b[0m\n\u001b[0;32m--> 179\u001b[0;31m     \u001b[0mresults\u001b[0m \u001b[0;34m=\u001b[0m \u001b[0mget\u001b[0m\u001b[0;34m(\u001b[0m\u001b[0mdsk\u001b[0m\u001b[0;34m,\u001b[0m \u001b[0mkeys\u001b[0m\u001b[0;34m,\u001b[0m \u001b[0;34m**\u001b[0m\u001b[0mkwargs\u001b[0m\u001b[0;34m)\u001b[0m\u001b[0;34m\u001b[0m\u001b[0m\n\u001b[0m\u001b[1;32m    180\u001b[0m \u001b[0;34m\u001b[0m\u001b[0m\n\u001b[1;32m    181\u001b[0m     \u001b[0mresults_iter\u001b[0m \u001b[0;34m=\u001b[0m \u001b[0miter\u001b[0m\u001b[0;34m(\u001b[0m\u001b[0mresults\u001b[0m\u001b[0;34m)\u001b[0m\u001b[0;34m\u001b[0m\u001b[0m\n",
      "\u001b[0;32m/opt/conda/lib/python3.5/site-packages/distributed/client.py\u001b[0m in \u001b[0;36mget\u001b[0;34m(self, dsk, keys, restrictions, loose_restrictions, resources, **kwargs)\u001b[0m\n\u001b[1;32m   1433\u001b[0m \u001b[0;34m\u001b[0m\u001b[0m\n\u001b[1;32m   1434\u001b[0m         \u001b[0;32mtry\u001b[0m\u001b[0;34m:\u001b[0m\u001b[0;34m\u001b[0m\u001b[0m\n\u001b[0;32m-> 1435\u001b[0;31m             \u001b[0mresults\u001b[0m \u001b[0;34m=\u001b[0m \u001b[0mself\u001b[0m\u001b[0;34m.\u001b[0m\u001b[0mgather\u001b[0m\u001b[0;34m(\u001b[0m\u001b[0mfutures\u001b[0m\u001b[0;34m)\u001b[0m\u001b[0;34m\u001b[0m\u001b[0m\n\u001b[0m\u001b[1;32m   1436\u001b[0m         \u001b[0;32mexcept\u001b[0m \u001b[0;34m(\u001b[0m\u001b[0mKeyboardInterrupt\u001b[0m\u001b[0;34m,\u001b[0m \u001b[0mException\u001b[0m\u001b[0;34m)\u001b[0m \u001b[0;32mas\u001b[0m \u001b[0me\u001b[0m\u001b[0;34m:\u001b[0m\u001b[0;34m\u001b[0m\u001b[0m\n\u001b[1;32m   1437\u001b[0m             \u001b[0;32mfor\u001b[0m \u001b[0mf\u001b[0m \u001b[0;32min\u001b[0m \u001b[0mfutures\u001b[0m\u001b[0;34m.\u001b[0m\u001b[0mvalues\u001b[0m\u001b[0;34m(\u001b[0m\u001b[0;34m)\u001b[0m\u001b[0;34m:\u001b[0m\u001b[0;34m\u001b[0m\u001b[0m\n",
      "\u001b[0;32m/opt/conda/lib/python3.5/site-packages/distributed/client.py\u001b[0m in \u001b[0;36mgather\u001b[0;34m(self, futures, errors, maxsize)\u001b[0m\n\u001b[1;32m    976\u001b[0m             \u001b[0;32mreturn\u001b[0m \u001b[0;34m(\u001b[0m\u001b[0mself\u001b[0m\u001b[0;34m.\u001b[0m\u001b[0mgather\u001b[0m\u001b[0;34m(\u001b[0m\u001b[0mf\u001b[0m\u001b[0;34m,\u001b[0m \u001b[0merrors\u001b[0m\u001b[0;34m=\u001b[0m\u001b[0merrors\u001b[0m\u001b[0;34m)\u001b[0m \u001b[0;32mfor\u001b[0m \u001b[0mf\u001b[0m \u001b[0;32min\u001b[0m \u001b[0mfutures\u001b[0m\u001b[0;34m)\u001b[0m\u001b[0;34m\u001b[0m\u001b[0m\n\u001b[1;32m    977\u001b[0m         \u001b[0;32melse\u001b[0m\u001b[0;34m:\u001b[0m\u001b[0;34m\u001b[0m\u001b[0m\n\u001b[0;32m--> 978\u001b[0;31m             \u001b[0;32mreturn\u001b[0m \u001b[0msync\u001b[0m\u001b[0;34m(\u001b[0m\u001b[0mself\u001b[0m\u001b[0;34m.\u001b[0m\u001b[0mloop\u001b[0m\u001b[0;34m,\u001b[0m \u001b[0mself\u001b[0m\u001b[0;34m.\u001b[0m\u001b[0m_gather\u001b[0m\u001b[0;34m,\u001b[0m \u001b[0mfutures\u001b[0m\u001b[0;34m,\u001b[0m \u001b[0merrors\u001b[0m\u001b[0;34m=\u001b[0m\u001b[0merrors\u001b[0m\u001b[0;34m)\u001b[0m\u001b[0;34m\u001b[0m\u001b[0m\n\u001b[0m\u001b[1;32m    979\u001b[0m \u001b[0;34m\u001b[0m\u001b[0m\n\u001b[1;32m    980\u001b[0m     \u001b[0;34m@\u001b[0m\u001b[0mgen\u001b[0m\u001b[0;34m.\u001b[0m\u001b[0mcoroutine\u001b[0m\u001b[0;34m\u001b[0m\u001b[0m\n",
      "\u001b[0;32m/opt/conda/lib/python3.5/site-packages/distributed/utils.py\u001b[0m in \u001b[0;36msync\u001b[0;34m(loop, func, *args, **kwargs)\u001b[0m\n\u001b[1;32m    159\u001b[0m     \u001b[0ma\u001b[0m \u001b[0;34m=\u001b[0m \u001b[0mloop\u001b[0m\u001b[0;34m.\u001b[0m\u001b[0madd_callback\u001b[0m\u001b[0;34m(\u001b[0m\u001b[0mf\u001b[0m\u001b[0;34m)\u001b[0m\u001b[0;34m\u001b[0m\u001b[0m\n\u001b[1;32m    160\u001b[0m     \u001b[0;32mwhile\u001b[0m \u001b[0;32mnot\u001b[0m \u001b[0me\u001b[0m\u001b[0;34m.\u001b[0m\u001b[0mis_set\u001b[0m\u001b[0;34m(\u001b[0m\u001b[0;34m)\u001b[0m\u001b[0;34m:\u001b[0m\u001b[0;34m\u001b[0m\u001b[0m\n\u001b[0;32m--> 161\u001b[0;31m         \u001b[0me\u001b[0m\u001b[0;34m.\u001b[0m\u001b[0mwait\u001b[0m\u001b[0;34m(\u001b[0m\u001b[0;36m1000000\u001b[0m\u001b[0;34m)\u001b[0m\u001b[0;34m\u001b[0m\u001b[0m\n\u001b[0m\u001b[1;32m    162\u001b[0m     \u001b[0;32mif\u001b[0m \u001b[0merror\u001b[0m\u001b[0;34m[\u001b[0m\u001b[0;36m0\u001b[0m\u001b[0;34m]\u001b[0m\u001b[0;34m:\u001b[0m\u001b[0;34m\u001b[0m\u001b[0m\n\u001b[1;32m    163\u001b[0m         \u001b[0msix\u001b[0m\u001b[0;34m.\u001b[0m\u001b[0mreraise\u001b[0m\u001b[0;34m(\u001b[0m\u001b[0mtype\u001b[0m\u001b[0;34m(\u001b[0m\u001b[0merror\u001b[0m\u001b[0;34m[\u001b[0m\u001b[0;36m0\u001b[0m\u001b[0;34m]\u001b[0m\u001b[0;34m)\u001b[0m\u001b[0;34m,\u001b[0m \u001b[0merror\u001b[0m\u001b[0;34m[\u001b[0m\u001b[0;36m0\u001b[0m\u001b[0;34m]\u001b[0m\u001b[0;34m,\u001b[0m \u001b[0mtraceback\u001b[0m\u001b[0;34m[\u001b[0m\u001b[0;36m0\u001b[0m\u001b[0;34m]\u001b[0m\u001b[0;34m)\u001b[0m\u001b[0;34m\u001b[0m\u001b[0m\n",
      "\u001b[0;32m/opt/conda/lib/python3.5/threading.py\u001b[0m in \u001b[0;36mwait\u001b[0;34m(self, timeout)\u001b[0m\n\u001b[1;32m    547\u001b[0m             \u001b[0msignaled\u001b[0m \u001b[0;34m=\u001b[0m \u001b[0mself\u001b[0m\u001b[0;34m.\u001b[0m\u001b[0m_flag\u001b[0m\u001b[0;34m\u001b[0m\u001b[0m\n\u001b[1;32m    548\u001b[0m             \u001b[0;32mif\u001b[0m \u001b[0;32mnot\u001b[0m \u001b[0msignaled\u001b[0m\u001b[0;34m:\u001b[0m\u001b[0;34m\u001b[0m\u001b[0m\n\u001b[0;32m--> 549\u001b[0;31m                 \u001b[0msignaled\u001b[0m \u001b[0;34m=\u001b[0m \u001b[0mself\u001b[0m\u001b[0;34m.\u001b[0m\u001b[0m_cond\u001b[0m\u001b[0;34m.\u001b[0m\u001b[0mwait\u001b[0m\u001b[0;34m(\u001b[0m\u001b[0mtimeout\u001b[0m\u001b[0;34m)\u001b[0m\u001b[0;34m\u001b[0m\u001b[0m\n\u001b[0m\u001b[1;32m    550\u001b[0m             \u001b[0;32mreturn\u001b[0m \u001b[0msignaled\u001b[0m\u001b[0;34m\u001b[0m\u001b[0m\n\u001b[1;32m    551\u001b[0m \u001b[0;34m\u001b[0m\u001b[0m\n",
      "\u001b[0;32m/opt/conda/lib/python3.5/threading.py\u001b[0m in \u001b[0;36mwait\u001b[0;34m(self, timeout)\u001b[0m\n\u001b[1;32m    295\u001b[0m             \u001b[0;32melse\u001b[0m\u001b[0;34m:\u001b[0m\u001b[0;34m\u001b[0m\u001b[0m\n\u001b[1;32m    296\u001b[0m                 \u001b[0;32mif\u001b[0m \u001b[0mtimeout\u001b[0m \u001b[0;34m>\u001b[0m \u001b[0;36m0\u001b[0m\u001b[0;34m:\u001b[0m\u001b[0;34m\u001b[0m\u001b[0m\n\u001b[0;32m--> 297\u001b[0;31m                     \u001b[0mgotit\u001b[0m \u001b[0;34m=\u001b[0m \u001b[0mwaiter\u001b[0m\u001b[0;34m.\u001b[0m\u001b[0macquire\u001b[0m\u001b[0;34m(\u001b[0m\u001b[0;32mTrue\u001b[0m\u001b[0;34m,\u001b[0m \u001b[0mtimeout\u001b[0m\u001b[0;34m)\u001b[0m\u001b[0;34m\u001b[0m\u001b[0m\n\u001b[0m\u001b[1;32m    298\u001b[0m                 \u001b[0;32melse\u001b[0m\u001b[0;34m:\u001b[0m\u001b[0;34m\u001b[0m\u001b[0m\n\u001b[1;32m    299\u001b[0m                     \u001b[0mgotit\u001b[0m \u001b[0;34m=\u001b[0m \u001b[0mwaiter\u001b[0m\u001b[0;34m.\u001b[0m\u001b[0macquire\u001b[0m\u001b[0;34m(\u001b[0m\u001b[0;32mFalse\u001b[0m\u001b[0;34m)\u001b[0m\u001b[0;34m\u001b[0m\u001b[0m\n",
      "\u001b[0;31mKeyboardInterrupt\u001b[0m: "
     ]
    }
   ],
   "source": [
    "grouped_cubes.take(1)"
   ]
  },
  {
   "cell_type": "code",
   "execution_count": 134,
   "metadata": {
    "collapsed": true
   },
   "outputs": [],
   "source": [
    "b = db.from_sequence(range(10))"
   ]
  },
  {
   "cell_type": "code",
   "execution_count": 135,
   "metadata": {
    "collapsed": false
   },
   "outputs": [
    {
     "data": {
      "text/plain": [
       "dask.bag<from_se..., npartitions=10>"
      ]
     },
     "execution_count": 135,
     "metadata": {},
     "output_type": "execute_result"
    }
   ],
   "source": [
    "b"
   ]
  },
  {
   "cell_type": "code",
   "execution_count": 150,
   "metadata": {
    "collapsed": false
   },
   "outputs": [
    {
     "name": "stderr",
     "output_type": "stream",
     "text": [
      "distributed.utils - ERROR - ('foldby-b-a2454c281b16eeae5ab95fc641463ab6', 0)\n",
      "Traceback (most recent call last):\n",
      "  File \"/opt/conda/lib/python3.5/site-packages/distributed/client.py\", line 893, in _gather\n",
      "    st = self.futures[key]\n",
      "KeyError: \"('foldby-b-a2454c281b16eeae5ab95fc641463ab6', 0)\"\n",
      "\n",
      "During handling of the above exception, another exception occurred:\n",
      "\n",
      "Traceback (most recent call last):\n",
      "  File \"/opt/conda/lib/python3.5/site-packages/distributed/utils.py\", line 149, in f\n",
      "    result[0] = yield gen.maybe_future(func(*args, **kwargs))\n",
      "  File \"/opt/conda/lib/python3.5/site-packages/tornado/gen.py\", line 1015, in run\n",
      "    value = future.result()\n",
      "  File \"/opt/conda/lib/python3.5/site-packages/tornado/concurrent.py\", line 237, in result\n",
      "    raise_exc_info(self._exc_info)\n",
      "  File \"<string>\", line 3, in raise_exc_info\n",
      "  File \"/opt/conda/lib/python3.5/site-packages/tornado/gen.py\", line 1021, in run\n",
      "    yielded = self.gen.throw(*exc_info)\n",
      "  File \"/opt/conda/lib/python3.5/site-packages/distributed/client.py\", line 900, in _gather\n",
      "    None)\n",
      "  File \"/opt/conda/lib/python3.5/site-packages/six.py\", line 686, in reraise\n",
      "    raise value\n",
      "concurrent.futures._base.CancelledError: ('foldby-b-a2454c281b16eeae5ab95fc641463ab6', 0)\n"
     ]
    },
    {
     "ename": "KeyboardInterrupt",
     "evalue": "",
     "output_type": "error",
     "traceback": [
      "\u001b[0;31m---------------------------------------------------------------------------\u001b[0m",
      "\u001b[0;31mKeyboardInterrupt\u001b[0m                         Traceback (most recent call last)",
      "\u001b[0;32m<ipython-input-150-3f37d0f2be0d>\u001b[0m in \u001b[0;36m<module>\u001b[0;34m()\u001b[0m\n\u001b[1;32m      1\u001b[0m \u001b[0miseven\u001b[0m \u001b[0;34m=\u001b[0m \u001b[0;32mlambda\u001b[0m \u001b[0mx\u001b[0m\u001b[0;34m:\u001b[0m \u001b[0mx\u001b[0m \u001b[0;34m%\u001b[0m \u001b[0;36m2\u001b[0m \u001b[0;34m==\u001b[0m \u001b[0;36m0\u001b[0m\u001b[0;34m\u001b[0m\u001b[0m\n\u001b[1;32m      2\u001b[0m \u001b[0madd\u001b[0m \u001b[0;34m=\u001b[0m \u001b[0;32mlambda\u001b[0m \u001b[0mx\u001b[0m\u001b[0;34m,\u001b[0m \u001b[0my\u001b[0m\u001b[0;34m:\u001b[0m \u001b[0mx\u001b[0m \u001b[0;34m+\u001b[0m \u001b[0my\u001b[0m\u001b[0;34m\u001b[0m\u001b[0m\n\u001b[0;32m----> 3\u001b[0;31m \u001b[0mdict\u001b[0m\u001b[0;34m(\u001b[0m\u001b[0mb\u001b[0m\u001b[0;34m.\u001b[0m\u001b[0mfoldby\u001b[0m\u001b[0;34m(\u001b[0m\u001b[0miseven\u001b[0m\u001b[0;34m,\u001b[0m \u001b[0madd\u001b[0m\u001b[0;34m)\u001b[0m\u001b[0;34m)\u001b[0m\u001b[0;34m\u001b[0m\u001b[0m\n\u001b[0m",
      "\u001b[0;32m/opt/conda/lib/python3.5/site-packages/dask/bag/core.py\u001b[0m in \u001b[0;36m__iter__\u001b[0;34m(self)\u001b[0m\n\u001b[1;32m    998\u001b[0m \u001b[0;34m\u001b[0m\u001b[0m\n\u001b[1;32m    999\u001b[0m     \u001b[0;32mdef\u001b[0m \u001b[0m__iter__\u001b[0m\u001b[0;34m(\u001b[0m\u001b[0mself\u001b[0m\u001b[0;34m)\u001b[0m\u001b[0;34m:\u001b[0m\u001b[0;34m\u001b[0m\u001b[0m\n\u001b[0;32m-> 1000\u001b[0;31m         \u001b[0;32mreturn\u001b[0m \u001b[0miter\u001b[0m\u001b[0;34m(\u001b[0m\u001b[0mself\u001b[0m\u001b[0;34m.\u001b[0m\u001b[0mcompute\u001b[0m\u001b[0;34m(\u001b[0m\u001b[0;34m)\u001b[0m\u001b[0;34m)\u001b[0m\u001b[0;34m\u001b[0m\u001b[0m\n\u001b[0m\u001b[1;32m   1001\u001b[0m \u001b[0;34m\u001b[0m\u001b[0m\n\u001b[1;32m   1002\u001b[0m     def groupby(self, grouper, method=None, npartitions=None, blocksize=2**20,\n",
      "\u001b[0;32m/opt/conda/lib/python3.5/site-packages/dask/base.py\u001b[0m in \u001b[0;36mcompute\u001b[0;34m(self, **kwargs)\u001b[0m\n\u001b[1;32m     77\u001b[0m             \u001b[0mExtra\u001b[0m \u001b[0mkeywords\u001b[0m \u001b[0mto\u001b[0m \u001b[0mforward\u001b[0m \u001b[0mto\u001b[0m \u001b[0mthe\u001b[0m \u001b[0mscheduler\u001b[0m\u001b[0;31m \u001b[0m\u001b[0;31m`\u001b[0m\u001b[0;31m`\u001b[0m\u001b[0mget\u001b[0m\u001b[0;31m`\u001b[0m\u001b[0;31m`\u001b[0m \u001b[0mfunction\u001b[0m\u001b[0;34m.\u001b[0m\u001b[0;34m\u001b[0m\u001b[0m\n\u001b[1;32m     78\u001b[0m         \"\"\"\n\u001b[0;32m---> 79\u001b[0;31m         \u001b[0;32mreturn\u001b[0m \u001b[0mcompute\u001b[0m\u001b[0;34m(\u001b[0m\u001b[0mself\u001b[0m\u001b[0;34m,\u001b[0m \u001b[0;34m**\u001b[0m\u001b[0mkwargs\u001b[0m\u001b[0;34m)\u001b[0m\u001b[0;34m[\u001b[0m\u001b[0;36m0\u001b[0m\u001b[0;34m]\u001b[0m\u001b[0;34m\u001b[0m\u001b[0m\n\u001b[0m\u001b[1;32m     80\u001b[0m \u001b[0;34m\u001b[0m\u001b[0m\n\u001b[1;32m     81\u001b[0m     \u001b[0;34m@\u001b[0m\u001b[0mclassmethod\u001b[0m\u001b[0;34m\u001b[0m\u001b[0m\n",
      "\u001b[0;32m/opt/conda/lib/python3.5/site-packages/dask/base.py\u001b[0m in \u001b[0;36mcompute\u001b[0;34m(*args, **kwargs)\u001b[0m\n\u001b[1;32m    177\u001b[0m         \u001b[0mdsk\u001b[0m \u001b[0;34m=\u001b[0m \u001b[0mmerge\u001b[0m\u001b[0;34m(\u001b[0m\u001b[0mvar\u001b[0m\u001b[0;34m.\u001b[0m\u001b[0mdask\u001b[0m \u001b[0;32mfor\u001b[0m \u001b[0mvar\u001b[0m \u001b[0;32min\u001b[0m \u001b[0mvariables\u001b[0m\u001b[0;34m)\u001b[0m\u001b[0;34m\u001b[0m\u001b[0m\n\u001b[1;32m    178\u001b[0m     \u001b[0mkeys\u001b[0m \u001b[0;34m=\u001b[0m \u001b[0;34m[\u001b[0m\u001b[0mvar\u001b[0m\u001b[0;34m.\u001b[0m\u001b[0m_keys\u001b[0m\u001b[0;34m(\u001b[0m\u001b[0;34m)\u001b[0m \u001b[0;32mfor\u001b[0m \u001b[0mvar\u001b[0m \u001b[0;32min\u001b[0m \u001b[0mvariables\u001b[0m\u001b[0;34m]\u001b[0m\u001b[0;34m\u001b[0m\u001b[0m\n\u001b[0;32m--> 179\u001b[0;31m     \u001b[0mresults\u001b[0m \u001b[0;34m=\u001b[0m \u001b[0mget\u001b[0m\u001b[0;34m(\u001b[0m\u001b[0mdsk\u001b[0m\u001b[0;34m,\u001b[0m \u001b[0mkeys\u001b[0m\u001b[0;34m,\u001b[0m \u001b[0;34m**\u001b[0m\u001b[0mkwargs\u001b[0m\u001b[0;34m)\u001b[0m\u001b[0;34m\u001b[0m\u001b[0m\n\u001b[0m\u001b[1;32m    180\u001b[0m \u001b[0;34m\u001b[0m\u001b[0m\n\u001b[1;32m    181\u001b[0m     \u001b[0mresults_iter\u001b[0m \u001b[0;34m=\u001b[0m \u001b[0miter\u001b[0m\u001b[0;34m(\u001b[0m\u001b[0mresults\u001b[0m\u001b[0;34m)\u001b[0m\u001b[0;34m\u001b[0m\u001b[0m\n",
      "\u001b[0;32m/opt/conda/lib/python3.5/site-packages/distributed/client.py\u001b[0m in \u001b[0;36mget\u001b[0;34m(self, dsk, keys, restrictions, loose_restrictions, resources, **kwargs)\u001b[0m\n\u001b[1;32m   1433\u001b[0m \u001b[0;34m\u001b[0m\u001b[0m\n\u001b[1;32m   1434\u001b[0m         \u001b[0;32mtry\u001b[0m\u001b[0;34m:\u001b[0m\u001b[0;34m\u001b[0m\u001b[0m\n\u001b[0;32m-> 1435\u001b[0;31m             \u001b[0mresults\u001b[0m \u001b[0;34m=\u001b[0m \u001b[0mself\u001b[0m\u001b[0;34m.\u001b[0m\u001b[0mgather\u001b[0m\u001b[0;34m(\u001b[0m\u001b[0mfutures\u001b[0m\u001b[0;34m)\u001b[0m\u001b[0;34m\u001b[0m\u001b[0m\n\u001b[0m\u001b[1;32m   1436\u001b[0m         \u001b[0;32mexcept\u001b[0m \u001b[0;34m(\u001b[0m\u001b[0mKeyboardInterrupt\u001b[0m\u001b[0;34m,\u001b[0m \u001b[0mException\u001b[0m\u001b[0;34m)\u001b[0m \u001b[0;32mas\u001b[0m \u001b[0me\u001b[0m\u001b[0;34m:\u001b[0m\u001b[0;34m\u001b[0m\u001b[0m\n\u001b[1;32m   1437\u001b[0m             \u001b[0;32mfor\u001b[0m \u001b[0mf\u001b[0m \u001b[0;32min\u001b[0m \u001b[0mfutures\u001b[0m\u001b[0;34m.\u001b[0m\u001b[0mvalues\u001b[0m\u001b[0;34m(\u001b[0m\u001b[0;34m)\u001b[0m\u001b[0;34m:\u001b[0m\u001b[0;34m\u001b[0m\u001b[0m\n",
      "\u001b[0;32m/opt/conda/lib/python3.5/site-packages/distributed/client.py\u001b[0m in \u001b[0;36mgather\u001b[0;34m(self, futures, errors, maxsize)\u001b[0m\n\u001b[1;32m    976\u001b[0m             \u001b[0;32mreturn\u001b[0m \u001b[0;34m(\u001b[0m\u001b[0mself\u001b[0m\u001b[0;34m.\u001b[0m\u001b[0mgather\u001b[0m\u001b[0;34m(\u001b[0m\u001b[0mf\u001b[0m\u001b[0;34m,\u001b[0m \u001b[0merrors\u001b[0m\u001b[0;34m=\u001b[0m\u001b[0merrors\u001b[0m\u001b[0;34m)\u001b[0m \u001b[0;32mfor\u001b[0m \u001b[0mf\u001b[0m \u001b[0;32min\u001b[0m \u001b[0mfutures\u001b[0m\u001b[0;34m)\u001b[0m\u001b[0;34m\u001b[0m\u001b[0m\n\u001b[1;32m    977\u001b[0m         \u001b[0;32melse\u001b[0m\u001b[0;34m:\u001b[0m\u001b[0;34m\u001b[0m\u001b[0m\n\u001b[0;32m--> 978\u001b[0;31m             \u001b[0;32mreturn\u001b[0m \u001b[0msync\u001b[0m\u001b[0;34m(\u001b[0m\u001b[0mself\u001b[0m\u001b[0;34m.\u001b[0m\u001b[0mloop\u001b[0m\u001b[0;34m,\u001b[0m \u001b[0mself\u001b[0m\u001b[0;34m.\u001b[0m\u001b[0m_gather\u001b[0m\u001b[0;34m,\u001b[0m \u001b[0mfutures\u001b[0m\u001b[0;34m,\u001b[0m \u001b[0merrors\u001b[0m\u001b[0;34m=\u001b[0m\u001b[0merrors\u001b[0m\u001b[0;34m)\u001b[0m\u001b[0;34m\u001b[0m\u001b[0m\n\u001b[0m\u001b[1;32m    979\u001b[0m \u001b[0;34m\u001b[0m\u001b[0m\n\u001b[1;32m    980\u001b[0m     \u001b[0;34m@\u001b[0m\u001b[0mgen\u001b[0m\u001b[0;34m.\u001b[0m\u001b[0mcoroutine\u001b[0m\u001b[0;34m\u001b[0m\u001b[0m\n",
      "\u001b[0;32m/opt/conda/lib/python3.5/site-packages/distributed/utils.py\u001b[0m in \u001b[0;36msync\u001b[0;34m(loop, func, *args, **kwargs)\u001b[0m\n\u001b[1;32m    159\u001b[0m     \u001b[0ma\u001b[0m \u001b[0;34m=\u001b[0m \u001b[0mloop\u001b[0m\u001b[0;34m.\u001b[0m\u001b[0madd_callback\u001b[0m\u001b[0;34m(\u001b[0m\u001b[0mf\u001b[0m\u001b[0;34m)\u001b[0m\u001b[0;34m\u001b[0m\u001b[0m\n\u001b[1;32m    160\u001b[0m     \u001b[0;32mwhile\u001b[0m \u001b[0;32mnot\u001b[0m \u001b[0me\u001b[0m\u001b[0;34m.\u001b[0m\u001b[0mis_set\u001b[0m\u001b[0;34m(\u001b[0m\u001b[0;34m)\u001b[0m\u001b[0;34m:\u001b[0m\u001b[0;34m\u001b[0m\u001b[0m\n\u001b[0;32m--> 161\u001b[0;31m         \u001b[0me\u001b[0m\u001b[0;34m.\u001b[0m\u001b[0mwait\u001b[0m\u001b[0;34m(\u001b[0m\u001b[0;36m1000000\u001b[0m\u001b[0;34m)\u001b[0m\u001b[0;34m\u001b[0m\u001b[0m\n\u001b[0m\u001b[1;32m    162\u001b[0m     \u001b[0;32mif\u001b[0m \u001b[0merror\u001b[0m\u001b[0;34m[\u001b[0m\u001b[0;36m0\u001b[0m\u001b[0;34m]\u001b[0m\u001b[0;34m:\u001b[0m\u001b[0;34m\u001b[0m\u001b[0m\n\u001b[1;32m    163\u001b[0m         \u001b[0msix\u001b[0m\u001b[0;34m.\u001b[0m\u001b[0mreraise\u001b[0m\u001b[0;34m(\u001b[0m\u001b[0mtype\u001b[0m\u001b[0;34m(\u001b[0m\u001b[0merror\u001b[0m\u001b[0;34m[\u001b[0m\u001b[0;36m0\u001b[0m\u001b[0;34m]\u001b[0m\u001b[0;34m)\u001b[0m\u001b[0;34m,\u001b[0m \u001b[0merror\u001b[0m\u001b[0;34m[\u001b[0m\u001b[0;36m0\u001b[0m\u001b[0;34m]\u001b[0m\u001b[0;34m,\u001b[0m \u001b[0mtraceback\u001b[0m\u001b[0;34m[\u001b[0m\u001b[0;36m0\u001b[0m\u001b[0;34m]\u001b[0m\u001b[0;34m)\u001b[0m\u001b[0;34m\u001b[0m\u001b[0m\n",
      "\u001b[0;32m/opt/conda/lib/python3.5/threading.py\u001b[0m in \u001b[0;36mwait\u001b[0;34m(self, timeout)\u001b[0m\n\u001b[1;32m    547\u001b[0m             \u001b[0msignaled\u001b[0m \u001b[0;34m=\u001b[0m \u001b[0mself\u001b[0m\u001b[0;34m.\u001b[0m\u001b[0m_flag\u001b[0m\u001b[0;34m\u001b[0m\u001b[0m\n\u001b[1;32m    548\u001b[0m             \u001b[0;32mif\u001b[0m \u001b[0;32mnot\u001b[0m \u001b[0msignaled\u001b[0m\u001b[0;34m:\u001b[0m\u001b[0;34m\u001b[0m\u001b[0m\n\u001b[0;32m--> 549\u001b[0;31m                 \u001b[0msignaled\u001b[0m \u001b[0;34m=\u001b[0m \u001b[0mself\u001b[0m\u001b[0;34m.\u001b[0m\u001b[0m_cond\u001b[0m\u001b[0;34m.\u001b[0m\u001b[0mwait\u001b[0m\u001b[0;34m(\u001b[0m\u001b[0mtimeout\u001b[0m\u001b[0;34m)\u001b[0m\u001b[0;34m\u001b[0m\u001b[0m\n\u001b[0m\u001b[1;32m    550\u001b[0m             \u001b[0;32mreturn\u001b[0m \u001b[0msignaled\u001b[0m\u001b[0;34m\u001b[0m\u001b[0m\n\u001b[1;32m    551\u001b[0m \u001b[0;34m\u001b[0m\u001b[0m\n",
      "\u001b[0;32m/opt/conda/lib/python3.5/threading.py\u001b[0m in \u001b[0;36mwait\u001b[0;34m(self, timeout)\u001b[0m\n\u001b[1;32m    295\u001b[0m             \u001b[0;32melse\u001b[0m\u001b[0;34m:\u001b[0m\u001b[0;34m\u001b[0m\u001b[0m\n\u001b[1;32m    296\u001b[0m                 \u001b[0;32mif\u001b[0m \u001b[0mtimeout\u001b[0m \u001b[0;34m>\u001b[0m \u001b[0;36m0\u001b[0m\u001b[0;34m:\u001b[0m\u001b[0;34m\u001b[0m\u001b[0m\n\u001b[0;32m--> 297\u001b[0;31m                     \u001b[0mgotit\u001b[0m \u001b[0;34m=\u001b[0m \u001b[0mwaiter\u001b[0m\u001b[0;34m.\u001b[0m\u001b[0macquire\u001b[0m\u001b[0;34m(\u001b[0m\u001b[0;32mTrue\u001b[0m\u001b[0;34m,\u001b[0m \u001b[0mtimeout\u001b[0m\u001b[0;34m)\u001b[0m\u001b[0;34m\u001b[0m\u001b[0m\n\u001b[0m\u001b[1;32m    298\u001b[0m                 \u001b[0;32melse\u001b[0m\u001b[0;34m:\u001b[0m\u001b[0;34m\u001b[0m\u001b[0m\n\u001b[1;32m    299\u001b[0m                     \u001b[0mgotit\u001b[0m \u001b[0;34m=\u001b[0m \u001b[0mwaiter\u001b[0m\u001b[0;34m.\u001b[0m\u001b[0macquire\u001b[0m\u001b[0;34m(\u001b[0m\u001b[0;32mFalse\u001b[0m\u001b[0;34m)\u001b[0m\u001b[0;34m\u001b[0m\u001b[0m\n",
      "\u001b[0;31mKeyboardInterrupt\u001b[0m: "
     ]
    }
   ],
   "source": [
    "iseven = lambda x: x % 2 == 0\n",
    "add = lambda x, y: x + y\n",
    "dict(b.foldby(iseven, add)) "
   ]
  },
  {
   "cell_type": "code",
   "execution_count": 147,
   "metadata": {
    "collapsed": false
   },
   "outputs": [
    {
     "name": "stderr",
     "output_type": "stream",
     "text": [
      "distributed.utils - ERROR - ('groupby-collect-4c48099f637655e61cfe3e6251a8b537', 4)\n",
      "Traceback (most recent call last):\n",
      "  File \"/opt/conda/lib/python3.5/site-packages/distributed/client.py\", line 893, in _gather\n",
      "    st = self.futures[key]\n",
      "KeyError: \"('groupby-collect-4c48099f637655e61cfe3e6251a8b537', 4)\"\n",
      "\n",
      "During handling of the above exception, another exception occurred:\n",
      "\n",
      "Traceback (most recent call last):\n",
      "  File \"/opt/conda/lib/python3.5/site-packages/distributed/utils.py\", line 149, in f\n",
      "    result[0] = yield gen.maybe_future(func(*args, **kwargs))\n",
      "  File \"/opt/conda/lib/python3.5/site-packages/tornado/gen.py\", line 1015, in run\n",
      "    value = future.result()\n",
      "  File \"/opt/conda/lib/python3.5/site-packages/tornado/concurrent.py\", line 237, in result\n",
      "    raise_exc_info(self._exc_info)\n",
      "  File \"<string>\", line 3, in raise_exc_info\n",
      "  File \"/opt/conda/lib/python3.5/site-packages/tornado/gen.py\", line 1021, in run\n",
      "    yielded = self.gen.throw(*exc_info)\n",
      "  File \"/opt/conda/lib/python3.5/site-packages/distributed/client.py\", line 900, in _gather\n",
      "    None)\n",
      "  File \"/opt/conda/lib/python3.5/site-packages/six.py\", line 686, in reraise\n",
      "    raise value\n",
      "concurrent.futures._base.CancelledError: ('groupby-collect-4c48099f637655e61cfe3e6251a8b537', 4)\n"
     ]
    },
    {
     "ename": "KeyboardInterrupt",
     "evalue": "",
     "output_type": "error",
     "traceback": [
      "\u001b[0;31m---------------------------------------------------------------------------\u001b[0m",
      "\u001b[0;31mKeyboardInterrupt\u001b[0m                         Traceback (most recent call last)",
      "\u001b[0;32m<ipython-input-147-4eac634402aa>\u001b[0m in \u001b[0;36m<module>\u001b[0;34m()\u001b[0m\n\u001b[0;32m----> 1\u001b[0;31m \u001b[0mdict\u001b[0m\u001b[0;34m(\u001b[0m\u001b[0mb\u001b[0m\u001b[0;34m.\u001b[0m\u001b[0mgroupby\u001b[0m\u001b[0;34m(\u001b[0m\u001b[0miseven\u001b[0m\u001b[0;34m,\u001b[0m \u001b[0mmethod\u001b[0m \u001b[0;34m=\u001b[0m \u001b[0;34m'disk'\u001b[0m\u001b[0;34m,\u001b[0m \u001b[0mmax_branch\u001b[0m \u001b[0;34m=\u001b[0m \u001b[0;36m3\u001b[0m\u001b[0;34m)\u001b[0m\u001b[0;34m)\u001b[0m\u001b[0;34m\u001b[0m\u001b[0m\n\u001b[0m",
      "\u001b[0;32m/opt/conda/lib/python3.5/site-packages/dask/bag/core.py\u001b[0m in \u001b[0;36m__iter__\u001b[0;34m(self)\u001b[0m\n\u001b[1;32m    998\u001b[0m \u001b[0;34m\u001b[0m\u001b[0m\n\u001b[1;32m    999\u001b[0m     \u001b[0;32mdef\u001b[0m \u001b[0m__iter__\u001b[0m\u001b[0;34m(\u001b[0m\u001b[0mself\u001b[0m\u001b[0;34m)\u001b[0m\u001b[0;34m:\u001b[0m\u001b[0;34m\u001b[0m\u001b[0m\n\u001b[0;32m-> 1000\u001b[0;31m         \u001b[0;32mreturn\u001b[0m \u001b[0miter\u001b[0m\u001b[0;34m(\u001b[0m\u001b[0mself\u001b[0m\u001b[0;34m.\u001b[0m\u001b[0mcompute\u001b[0m\u001b[0;34m(\u001b[0m\u001b[0;34m)\u001b[0m\u001b[0;34m)\u001b[0m\u001b[0;34m\u001b[0m\u001b[0m\n\u001b[0m\u001b[1;32m   1001\u001b[0m \u001b[0;34m\u001b[0m\u001b[0m\n\u001b[1;32m   1002\u001b[0m     def groupby(self, grouper, method=None, npartitions=None, blocksize=2**20,\n",
      "\u001b[0;32m/opt/conda/lib/python3.5/site-packages/dask/base.py\u001b[0m in \u001b[0;36mcompute\u001b[0;34m(self, **kwargs)\u001b[0m\n\u001b[1;32m     77\u001b[0m             \u001b[0mExtra\u001b[0m \u001b[0mkeywords\u001b[0m \u001b[0mto\u001b[0m \u001b[0mforward\u001b[0m \u001b[0mto\u001b[0m \u001b[0mthe\u001b[0m \u001b[0mscheduler\u001b[0m\u001b[0;31m \u001b[0m\u001b[0;31m`\u001b[0m\u001b[0;31m`\u001b[0m\u001b[0mget\u001b[0m\u001b[0;31m`\u001b[0m\u001b[0;31m`\u001b[0m \u001b[0mfunction\u001b[0m\u001b[0;34m.\u001b[0m\u001b[0;34m\u001b[0m\u001b[0m\n\u001b[1;32m     78\u001b[0m         \"\"\"\n\u001b[0;32m---> 79\u001b[0;31m         \u001b[0;32mreturn\u001b[0m \u001b[0mcompute\u001b[0m\u001b[0;34m(\u001b[0m\u001b[0mself\u001b[0m\u001b[0;34m,\u001b[0m \u001b[0;34m**\u001b[0m\u001b[0mkwargs\u001b[0m\u001b[0;34m)\u001b[0m\u001b[0;34m[\u001b[0m\u001b[0;36m0\u001b[0m\u001b[0;34m]\u001b[0m\u001b[0;34m\u001b[0m\u001b[0m\n\u001b[0m\u001b[1;32m     80\u001b[0m \u001b[0;34m\u001b[0m\u001b[0m\n\u001b[1;32m     81\u001b[0m     \u001b[0;34m@\u001b[0m\u001b[0mclassmethod\u001b[0m\u001b[0;34m\u001b[0m\u001b[0m\n",
      "\u001b[0;32m/opt/conda/lib/python3.5/site-packages/dask/base.py\u001b[0m in \u001b[0;36mcompute\u001b[0;34m(*args, **kwargs)\u001b[0m\n\u001b[1;32m    177\u001b[0m         \u001b[0mdsk\u001b[0m \u001b[0;34m=\u001b[0m \u001b[0mmerge\u001b[0m\u001b[0;34m(\u001b[0m\u001b[0mvar\u001b[0m\u001b[0;34m.\u001b[0m\u001b[0mdask\u001b[0m \u001b[0;32mfor\u001b[0m \u001b[0mvar\u001b[0m \u001b[0;32min\u001b[0m \u001b[0mvariables\u001b[0m\u001b[0;34m)\u001b[0m\u001b[0;34m\u001b[0m\u001b[0m\n\u001b[1;32m    178\u001b[0m     \u001b[0mkeys\u001b[0m \u001b[0;34m=\u001b[0m \u001b[0;34m[\u001b[0m\u001b[0mvar\u001b[0m\u001b[0;34m.\u001b[0m\u001b[0m_keys\u001b[0m\u001b[0;34m(\u001b[0m\u001b[0;34m)\u001b[0m \u001b[0;32mfor\u001b[0m \u001b[0mvar\u001b[0m \u001b[0;32min\u001b[0m \u001b[0mvariables\u001b[0m\u001b[0;34m]\u001b[0m\u001b[0;34m\u001b[0m\u001b[0m\n\u001b[0;32m--> 179\u001b[0;31m     \u001b[0mresults\u001b[0m \u001b[0;34m=\u001b[0m \u001b[0mget\u001b[0m\u001b[0;34m(\u001b[0m\u001b[0mdsk\u001b[0m\u001b[0;34m,\u001b[0m \u001b[0mkeys\u001b[0m\u001b[0;34m,\u001b[0m \u001b[0;34m**\u001b[0m\u001b[0mkwargs\u001b[0m\u001b[0;34m)\u001b[0m\u001b[0;34m\u001b[0m\u001b[0m\n\u001b[0m\u001b[1;32m    180\u001b[0m \u001b[0;34m\u001b[0m\u001b[0m\n\u001b[1;32m    181\u001b[0m     \u001b[0mresults_iter\u001b[0m \u001b[0;34m=\u001b[0m \u001b[0miter\u001b[0m\u001b[0;34m(\u001b[0m\u001b[0mresults\u001b[0m\u001b[0;34m)\u001b[0m\u001b[0;34m\u001b[0m\u001b[0m\n",
      "\u001b[0;32m/opt/conda/lib/python3.5/site-packages/distributed/client.py\u001b[0m in \u001b[0;36mget\u001b[0;34m(self, dsk, keys, restrictions, loose_restrictions, resources, **kwargs)\u001b[0m\n\u001b[1;32m   1433\u001b[0m \u001b[0;34m\u001b[0m\u001b[0m\n\u001b[1;32m   1434\u001b[0m         \u001b[0;32mtry\u001b[0m\u001b[0;34m:\u001b[0m\u001b[0;34m\u001b[0m\u001b[0m\n\u001b[0;32m-> 1435\u001b[0;31m             \u001b[0mresults\u001b[0m \u001b[0;34m=\u001b[0m \u001b[0mself\u001b[0m\u001b[0;34m.\u001b[0m\u001b[0mgather\u001b[0m\u001b[0;34m(\u001b[0m\u001b[0mfutures\u001b[0m\u001b[0;34m)\u001b[0m\u001b[0;34m\u001b[0m\u001b[0m\n\u001b[0m\u001b[1;32m   1436\u001b[0m         \u001b[0;32mexcept\u001b[0m \u001b[0;34m(\u001b[0m\u001b[0mKeyboardInterrupt\u001b[0m\u001b[0;34m,\u001b[0m \u001b[0mException\u001b[0m\u001b[0;34m)\u001b[0m \u001b[0;32mas\u001b[0m \u001b[0me\u001b[0m\u001b[0;34m:\u001b[0m\u001b[0;34m\u001b[0m\u001b[0m\n\u001b[1;32m   1437\u001b[0m             \u001b[0;32mfor\u001b[0m \u001b[0mf\u001b[0m \u001b[0;32min\u001b[0m \u001b[0mfutures\u001b[0m\u001b[0;34m.\u001b[0m\u001b[0mvalues\u001b[0m\u001b[0;34m(\u001b[0m\u001b[0;34m)\u001b[0m\u001b[0;34m:\u001b[0m\u001b[0;34m\u001b[0m\u001b[0m\n",
      "\u001b[0;32m/opt/conda/lib/python3.5/site-packages/distributed/client.py\u001b[0m in \u001b[0;36mgather\u001b[0;34m(self, futures, errors, maxsize)\u001b[0m\n\u001b[1;32m    976\u001b[0m             \u001b[0;32mreturn\u001b[0m \u001b[0;34m(\u001b[0m\u001b[0mself\u001b[0m\u001b[0;34m.\u001b[0m\u001b[0mgather\u001b[0m\u001b[0;34m(\u001b[0m\u001b[0mf\u001b[0m\u001b[0;34m,\u001b[0m \u001b[0merrors\u001b[0m\u001b[0;34m=\u001b[0m\u001b[0merrors\u001b[0m\u001b[0;34m)\u001b[0m \u001b[0;32mfor\u001b[0m \u001b[0mf\u001b[0m \u001b[0;32min\u001b[0m \u001b[0mfutures\u001b[0m\u001b[0;34m)\u001b[0m\u001b[0;34m\u001b[0m\u001b[0m\n\u001b[1;32m    977\u001b[0m         \u001b[0;32melse\u001b[0m\u001b[0;34m:\u001b[0m\u001b[0;34m\u001b[0m\u001b[0m\n\u001b[0;32m--> 978\u001b[0;31m             \u001b[0;32mreturn\u001b[0m \u001b[0msync\u001b[0m\u001b[0;34m(\u001b[0m\u001b[0mself\u001b[0m\u001b[0;34m.\u001b[0m\u001b[0mloop\u001b[0m\u001b[0;34m,\u001b[0m \u001b[0mself\u001b[0m\u001b[0;34m.\u001b[0m\u001b[0m_gather\u001b[0m\u001b[0;34m,\u001b[0m \u001b[0mfutures\u001b[0m\u001b[0;34m,\u001b[0m \u001b[0merrors\u001b[0m\u001b[0;34m=\u001b[0m\u001b[0merrors\u001b[0m\u001b[0;34m)\u001b[0m\u001b[0;34m\u001b[0m\u001b[0m\n\u001b[0m\u001b[1;32m    979\u001b[0m \u001b[0;34m\u001b[0m\u001b[0m\n\u001b[1;32m    980\u001b[0m     \u001b[0;34m@\u001b[0m\u001b[0mgen\u001b[0m\u001b[0;34m.\u001b[0m\u001b[0mcoroutine\u001b[0m\u001b[0;34m\u001b[0m\u001b[0m\n",
      "\u001b[0;32m/opt/conda/lib/python3.5/site-packages/distributed/utils.py\u001b[0m in \u001b[0;36msync\u001b[0;34m(loop, func, *args, **kwargs)\u001b[0m\n\u001b[1;32m    159\u001b[0m     \u001b[0ma\u001b[0m \u001b[0;34m=\u001b[0m \u001b[0mloop\u001b[0m\u001b[0;34m.\u001b[0m\u001b[0madd_callback\u001b[0m\u001b[0;34m(\u001b[0m\u001b[0mf\u001b[0m\u001b[0;34m)\u001b[0m\u001b[0;34m\u001b[0m\u001b[0m\n\u001b[1;32m    160\u001b[0m     \u001b[0;32mwhile\u001b[0m \u001b[0;32mnot\u001b[0m \u001b[0me\u001b[0m\u001b[0;34m.\u001b[0m\u001b[0mis_set\u001b[0m\u001b[0;34m(\u001b[0m\u001b[0;34m)\u001b[0m\u001b[0;34m:\u001b[0m\u001b[0;34m\u001b[0m\u001b[0m\n\u001b[0;32m--> 161\u001b[0;31m         \u001b[0me\u001b[0m\u001b[0;34m.\u001b[0m\u001b[0mwait\u001b[0m\u001b[0;34m(\u001b[0m\u001b[0;36m1000000\u001b[0m\u001b[0;34m)\u001b[0m\u001b[0;34m\u001b[0m\u001b[0m\n\u001b[0m\u001b[1;32m    162\u001b[0m     \u001b[0;32mif\u001b[0m \u001b[0merror\u001b[0m\u001b[0;34m[\u001b[0m\u001b[0;36m0\u001b[0m\u001b[0;34m]\u001b[0m\u001b[0;34m:\u001b[0m\u001b[0;34m\u001b[0m\u001b[0m\n\u001b[1;32m    163\u001b[0m         \u001b[0msix\u001b[0m\u001b[0;34m.\u001b[0m\u001b[0mreraise\u001b[0m\u001b[0;34m(\u001b[0m\u001b[0mtype\u001b[0m\u001b[0;34m(\u001b[0m\u001b[0merror\u001b[0m\u001b[0;34m[\u001b[0m\u001b[0;36m0\u001b[0m\u001b[0;34m]\u001b[0m\u001b[0;34m)\u001b[0m\u001b[0;34m,\u001b[0m \u001b[0merror\u001b[0m\u001b[0;34m[\u001b[0m\u001b[0;36m0\u001b[0m\u001b[0;34m]\u001b[0m\u001b[0;34m,\u001b[0m \u001b[0mtraceback\u001b[0m\u001b[0;34m[\u001b[0m\u001b[0;36m0\u001b[0m\u001b[0;34m]\u001b[0m\u001b[0;34m)\u001b[0m\u001b[0;34m\u001b[0m\u001b[0m\n",
      "\u001b[0;32m/opt/conda/lib/python3.5/threading.py\u001b[0m in \u001b[0;36mwait\u001b[0;34m(self, timeout)\u001b[0m\n\u001b[1;32m    547\u001b[0m             \u001b[0msignaled\u001b[0m \u001b[0;34m=\u001b[0m \u001b[0mself\u001b[0m\u001b[0;34m.\u001b[0m\u001b[0m_flag\u001b[0m\u001b[0;34m\u001b[0m\u001b[0m\n\u001b[1;32m    548\u001b[0m             \u001b[0;32mif\u001b[0m \u001b[0;32mnot\u001b[0m \u001b[0msignaled\u001b[0m\u001b[0;34m:\u001b[0m\u001b[0;34m\u001b[0m\u001b[0m\n\u001b[0;32m--> 549\u001b[0;31m                 \u001b[0msignaled\u001b[0m \u001b[0;34m=\u001b[0m \u001b[0mself\u001b[0m\u001b[0;34m.\u001b[0m\u001b[0m_cond\u001b[0m\u001b[0;34m.\u001b[0m\u001b[0mwait\u001b[0m\u001b[0;34m(\u001b[0m\u001b[0mtimeout\u001b[0m\u001b[0;34m)\u001b[0m\u001b[0;34m\u001b[0m\u001b[0m\n\u001b[0m\u001b[1;32m    550\u001b[0m             \u001b[0;32mreturn\u001b[0m \u001b[0msignaled\u001b[0m\u001b[0;34m\u001b[0m\u001b[0m\n\u001b[1;32m    551\u001b[0m \u001b[0;34m\u001b[0m\u001b[0m\n",
      "\u001b[0;32m/opt/conda/lib/python3.5/threading.py\u001b[0m in \u001b[0;36mwait\u001b[0;34m(self, timeout)\u001b[0m\n\u001b[1;32m    295\u001b[0m             \u001b[0;32melse\u001b[0m\u001b[0;34m:\u001b[0m\u001b[0;34m\u001b[0m\u001b[0m\n\u001b[1;32m    296\u001b[0m                 \u001b[0;32mif\u001b[0m \u001b[0mtimeout\u001b[0m \u001b[0;34m>\u001b[0m \u001b[0;36m0\u001b[0m\u001b[0;34m:\u001b[0m\u001b[0;34m\u001b[0m\u001b[0m\n\u001b[0;32m--> 297\u001b[0;31m                     \u001b[0mgotit\u001b[0m \u001b[0;34m=\u001b[0m \u001b[0mwaiter\u001b[0m\u001b[0;34m.\u001b[0m\u001b[0macquire\u001b[0m\u001b[0;34m(\u001b[0m\u001b[0;32mTrue\u001b[0m\u001b[0;34m,\u001b[0m \u001b[0mtimeout\u001b[0m\u001b[0;34m)\u001b[0m\u001b[0;34m\u001b[0m\u001b[0m\n\u001b[0m\u001b[1;32m    298\u001b[0m                 \u001b[0;32melse\u001b[0m\u001b[0;34m:\u001b[0m\u001b[0;34m\u001b[0m\u001b[0m\n\u001b[1;32m    299\u001b[0m                     \u001b[0mgotit\u001b[0m \u001b[0;34m=\u001b[0m \u001b[0mwaiter\u001b[0m\u001b[0;34m.\u001b[0m\u001b[0macquire\u001b[0m\u001b[0;34m(\u001b[0m\u001b[0;32mFalse\u001b[0m\u001b[0;34m)\u001b[0m\u001b[0;34m\u001b[0m\u001b[0m\n",
      "\u001b[0;31mKeyboardInterrupt\u001b[0m: "
     ]
    }
   ],
   "source": [
    "dict(b.groupby(iseven, method = 'disk', max_branch = 3))"
   ]
  },
  {
   "cell_type": "code",
   "execution_count": 148,
   "metadata": {
    "collapsed": false
   },
   "outputs": [
    {
     "data": {
      "text/plain": [
       "<Client: scheduler=\"172.31.18.5:8786\" processes=10 cores=10>"
      ]
     },
     "execution_count": 148,
     "metadata": {},
     "output_type": "execute_result"
    }
   ],
   "source": [
    "c.restart()"
   ]
  },
  {
   "cell_type": "code",
   "execution_count": null,
   "metadata": {
    "collapsed": true
   },
   "outputs": [],
   "source": []
  }
 ],
 "metadata": {
  "kernelspec": {
   "display_name": "Python 3",
   "language": "python",
   "name": "python3"
  },
  "language_info": {
   "codemirror_mode": {
    "name": "ipython",
    "version": 3
   },
   "file_extension": ".py",
   "mimetype": "text/x-python",
   "name": "python",
   "nbconvert_exporter": "python",
   "pygments_lexer": "ipython3",
   "version": "3.5.2"
  }
 },
 "nbformat": 4,
 "nbformat_minor": 2
}
