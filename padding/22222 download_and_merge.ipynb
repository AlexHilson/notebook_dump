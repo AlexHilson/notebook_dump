{
 "cells": [
  {
   "cell_type": "code",
   "execution_count": 9,
   "metadata": {
    "collapsed": false
   },
   "outputs": [],
   "source": [
    "import iris\n",
    "iris.FUTURE.netcdf_promote = True\n",
    "iris.FUTURE.netcdf_no_unlimited = True"
   ]
  },
  {
   "cell_type": "code",
   "execution_count": 12,
   "metadata": {
    "collapsed": false
   },
   "outputs": [
    {
     "data": {
      "text/plain": [
       "<Client: scheduler=\"172.31.20.215:8786\" processes=20 cores=40>"
      ]
     },
     "execution_count": 12,
     "metadata": {},
     "output_type": "execute_result"
    }
   ],
   "source": [
    "from distributed import Client\n",
    "c = Client('172.31.20.215:8786')\n",
    "c"
   ]
  },
  {
   "cell_type": "code",
   "execution_count": 13,
   "metadata": {
    "collapsed": false
   },
   "outputs": [
    {
     "data": {
      "text/plain": [
       "'prods_op_mogreps-g_20160101_06'"
      ]
     },
     "execution_count": 13,
     "metadata": {},
     "output_type": "execute_result"
    }
   ],
   "source": [
    "month = '01'\n",
    "day = '01'\n",
    "run = '06'\n",
    "prefix = 'prods_op_mogreps-g_2016{}{}_{}'.format(month, day, run)\n",
    "prefix"
   ]
  },
  {
   "cell_type": "code",
   "execution_count": 14,
   "metadata": {
    "collapsed": false
   },
   "outputs": [],
   "source": [
    "from boto.s3.connection import S3Connection\n",
    "import os\n",
    "\n",
    "os.environ['S3_USE_SIGV4'] = 'True'"
   ]
  },
  {
   "cell_type": "code",
   "execution_count": 15,
   "metadata": {
    "collapsed": false
   },
   "outputs": [],
   "source": [
    "import re"
   ]
  },
  {
   "cell_type": "code",
   "execution_count": 18,
   "metadata": {
    "collapsed": false
   },
   "outputs": [],
   "source": [
    "import iris\n",
    "import os\n",
    "\n",
    "from iris.cube import CubeList\n",
    "from dask import delayed\n",
    "import dask.bag as db\n",
    "import boto\n",
    "import glob\n",
    "import numpy as np\n",
    "from itertools import groupby\n",
    "from collections import defaultdict\n",
    "from tempfile import NamedTemporaryFile\n",
    "\n",
    "def load_cubes(address):\n",
    "    def metadata(cube, field, filename):\n",
    "        if not cube.coords('realization'):\n",
    "            realization = np.array([filename.split('_')[-2]], dtype='int32')\n",
    "            realization_coord = iris.coords.AuxCoord(realization, standard_name='realization', var_name='realization')\n",
    "            cube.add_aux_coord(realization_coord)\n",
    "        # the '0' member has no permutations and is labelled differently\n",
    "        # for the sake of easier manipulation we're going to normalise the labels.\n",
    "        cube.coord('time').var_name = 'time'\n",
    "        cube.coord('forecast_period').var_name = 'forecast_period'\n",
    "        if re.search('_\\d$', cube.var_name):\n",
    "            cube.var_name = cube.var_name[:-2]\n",
    "        if type(cube.coord('forecast_period')) == iris.coords.AuxCoord:\n",
    "            new_coord = iris.coords.DimCoord.from_coord(cube.coord('forecast_period'))\n",
    "            cube.replace_coord(new_coord)\n",
    "        \n",
    "    return iris.load_raw(address, callback=metadata)\n",
    "\n",
    "\n",
    "def download(local_path, key):\n",
    "    f_name = '{}{}'.format(local_path, key.name)\n",
    "    key.get_contents_to_filename(f_name)\n",
    "    return f_name\n",
    "\n",
    "def wrangle_cubes(cubes):\n",
    "    groups = defaultdict(list)\n",
    "\n",
    "    for key, group in groupby(cubes, key = lambda x: x.name()):\n",
    "        groups[key].extend(iris.cube.CubeList(group))\n",
    "    \n",
    "    def process(cubes):\n",
    "        shapes = defaultdict(list)\n",
    "        for key, group in groupby(cubes, key = lambda x: x.shape):\n",
    "            shapes[key].extend(list(group))\n",
    "        for key, val in shapes.items():\n",
    "            if len(val) == 1:\n",
    "                if(key[1:] in shapes.keys()):\n",
    "                    indx = cubes.index(val[0])\n",
    "                    cube = cubes.pop(indx)\n",
    "                    cubes.extend(list(cube.slices_over(0)))\n",
    "        return iris.cube.CubeList(cubes).merge()\n",
    "    \n",
    "    results = {}\n",
    "    for key, group in groups.items():\n",
    "        result = process(group)\n",
    "        results[key] = result\n",
    "        \n",
    "    return results\n",
    "\n",
    "def write_and_upload(results_bucket, param, cubes, model, run_date, run_time):\n",
    "    tmp = NamedTemporaryFile()\n",
    "    iris.fileformats.netcdf.save(cubes, tmp.name, netcdf_format=\"NETCDF4\", zlib=True, complevel=1)\n",
    "    \n",
    "    # temperature/<date>_<time>_<mogreps-g>_<param>.nc\n",
    "    key_name = '{}/{}_{}_{}_{}.nc'.format(param, run_date, run_time, model, param)\n",
    "    \n",
    "    conn = S3Connection(host='s3.eu-west-2.amazonaws.com')\n",
    "    bucket = conn.get_bucket(results_bucket)\n",
    "    key = boto.s3.key.Key(bucket)\n",
    "    key.key = key_name\n",
    "    key.set_contents_from_filename(tmp.name)\n",
    "    \n",
    "    tmp.close()\n",
    "\n",
    "\n",
    "@delayed\n",
    "def process_model_run(bucket, model, run_date, run_time):\n",
    "    prefix = 'prods_op_{}_{}_{}'.format(model, run_date, run_time)\n",
    "    local_path = '/tmp/{}/'.format(prefix)\n",
    "    try:\n",
    "        os.mkdir(local_path)\n",
    "    except FileExistsError:\n",
    "        for nc_f in glob.glob(\"/tmp/{}/*.nc\".format(prefix)):\n",
    "            os.remove(nc_f)\n",
    "    conn = S3Connection(host='s3.eu-west-2.amazonaws.com')\n",
    "    bucket = conn.get_bucket(bucket)\n",
    "    keys = iter(bucket.list(prefix=prefix))\n",
    "    for key in keys:\n",
    "        download(local_path, key)\n",
    "    cubes = load_cubes('{}*'.format(local_path))\n",
    "    results = wrangle_cubes(cubes)\n",
    "    for param, cubes in results.items():\n",
    "        write_and_upload('mogreps-g-sample2', param, cubes, model, run_date, run_time)\n",
    "    for nc_f in glob.glob(\"/tmp/{}/*.nc\".format(prefix)):\n",
    "            os.remove(nc_f)\n",
    "    return True\n"
   ]
  },
  {
   "cell_type": "markdown",
   "metadata": {},
   "source": [
    "One Model"
   ]
  },
  {
   "cell_type": "code",
   "execution_count": 19,
   "metadata": {
    "collapsed": false
   },
   "outputs": [
    {
     "name": "stdout",
     "output_type": "stream",
     "text": [
      "[Delayed('process_model_run-ba5795b0-621b-43f8-bdf4-a43c1dff83c4'), Delayed('process_model_run-a69758e3-4589-48ab-9981-6f767389ea21'), Delayed('process_model_run-a37002f3-6e59-434f-a196-1d283c2c9cd0'), Delayed('process_model_run-7eb87285-6997-4cc2-b734-889642a26d71'), Delayed('process_model_run-8dc83b4f-3136-46ff-be72-3021b07f5f61'), Delayed('process_model_run-2ea958ab-a901-4593-95b0-387eae41f404'), Delayed('process_model_run-53a73481-f1a0-4cdf-a570-ba8664fad122'), Delayed('process_model_run-67688529-3d16-4b2a-9fe6-7d923af3e8db'), Delayed('process_model_run-c1920084-fdb0-4115-b3d3-dacaa13b6735'), Delayed('process_model_run-83a626ea-2eb7-4e36-abb9-73cdbb22f77d'), Delayed('process_model_run-128fa514-b007-4393-8d94-7ac188749b98'), Delayed('process_model_run-a399bb71-f884-44d4-8e7c-e8e135d0f2b2'), Delayed('process_model_run-3b058099-cdb1-4ef6-a5b2-4397eae82496'), Delayed('process_model_run-3dedf945-d23f-4a2c-8d54-5d3b4da44c52'), Delayed('process_model_run-dd53d1c9-37c2-4065-a3ee-e917b9648386'), Delayed('process_model_run-01bbb8b2-61df-4e95-947b-bcb73350ab51'), Delayed('process_model_run-cfaf16bd-1ee2-453b-9c47-f11d5bc712a2'), Delayed('process_model_run-f1145b77-833c-4bce-9547-cebd1dc90e60'), Delayed('process_model_run-392c500f-3dc5-4129-850e-51afc88ab7ba'), Delayed('process_model_run-7c4eb52c-5db9-4001-8bea-d98f0fd35145')]\n"
     ]
    }
   ],
   "source": [
    "from itertools import product\n",
    "\n",
    "run_dates = ['20160101', '20160102', '20160103', '20160104', '20160105']\n",
    "run_times = ['00', '06', '12', '18']\n",
    "bucket = 'mogreps-g'\n",
    "model = 'mogreps-g'\n",
    "\n",
    "combos = (product(run_dates, run_times))\n",
    "computations = list(map(lambda x: process_model_run(bucket, model, x[0], x[1]), combos))\n",
    "print(computations)"
   ]
  },
  {
   "cell_type": "code",
   "execution_count": 21,
   "metadata": {
    "collapsed": false
   },
   "outputs": [
    {
     "data": {
      "text/plain": [
       "[<Future: status: pending, key: finalize-a931923d3a676cae43943e6528cef760>,\n",
       " <Future: status: pending, key: finalize-31ca94c7609597f3323f7e596a77c2ba>,\n",
       " <Future: status: pending, key: finalize-fc4aa614721e5f517ffcaa8fd6af7fa2>,\n",
       " <Future: status: pending, key: finalize-c33fa4ca43977247a13c0ef2e4c16e53>,\n",
       " <Future: status: pending, key: finalize-32816cd3cc82a68b36b576bea0da9770>,\n",
       " <Future: status: pending, key: finalize-eb8b55080fcbd1abefc3da1048752ce3>,\n",
       " <Future: status: pending, key: finalize-5a94071cbed3d1d7d7f65e64b3ce260e>,\n",
       " <Future: status: pending, key: finalize-770cf230180c9ea0924d6431ee8a3444>,\n",
       " <Future: status: pending, key: finalize-b6406773f97bbb5b6b7148c41338e69c>,\n",
       " <Future: status: pending, key: finalize-c3373da50b5e41f474621d22c3d70dde>,\n",
       " <Future: status: pending, key: finalize-0bcc9a022472441210f3518d4e140500>,\n",
       " <Future: status: pending, key: finalize-82f11e116c8847adf7f6ce6fa706d853>,\n",
       " <Future: status: pending, key: finalize-e55cd7258217cb7bb8c7c141208563a9>,\n",
       " <Future: status: pending, key: finalize-16ca73e3e522e3672a2bb511a68327f6>,\n",
       " <Future: status: pending, key: finalize-e8d814f01755b0fd6d54e27777f97d3f>,\n",
       " <Future: status: pending, key: finalize-65ee15d63579a257af1a6c68cb9c61a3>,\n",
       " <Future: status: pending, key: finalize-3e0c2b43538199ddf6e76b3e244779ef>,\n",
       " <Future: status: pending, key: finalize-111a068cd40f5cc98566c77110abf12c>,\n",
       " <Future: status: pending, key: finalize-fc35769724f1ae32bfdf03cd78af6bd1>,\n",
       " <Future: status: pending, key: finalize-6dc3638ac6fb006885d577f1745cf932>]"
      ]
     },
     "execution_count": 21,
     "metadata": {},
     "output_type": "execute_result"
    }
   ],
   "source": [
    "c.compute(computations)"
   ]
  },
  {
   "cell_type": "markdown",
   "metadata": {},
   "source": [
    "Many models"
   ]
  },
  {
   "cell_type": "code",
   "execution_count": null,
   "metadata": {
    "collapsed": true
   },
   "outputs": [],
   "source": [
    "bucket = 'mogreps-g'\n",
    "model = 'mogreps-g'\n",
    "run_date = '20160101'\n",
    "run_time = '06'\n",
    "x = process_model_run(bucket, model, run_date, run_time)"
   ]
  },
  {
   "cell_type": "code",
   "execution_count": null,
   "metadata": {
    "collapsed": false
   },
   "outputs": [
    {
     "name": "stdout",
     "output_type": "stream",
     "text": [
      "CPU times: user 0 ns, sys: 0 ns, total: 0 ns\n",
      "Wall time: 5.25 µs\n"
     ]
    }
   ],
   "source": [
    "%time\n",
    "x.compute()"
   ]
  },
  {
   "cell_type": "code",
   "execution_count": 102,
   "metadata": {
    "collapsed": false
   },
   "outputs": [
    {
     "data": {
      "text/plain": [
       "dict_keys(['high_type_cloud_area_fraction', 'wet_bulb_potential_temperature', 'wet_bulb_freezing_level_altitude', 'x_wind', 'visibility_in_air', 'air_pressure_at_sea_level', 'medium_type_cloud_area_fraction', 'geopotential_height', 'surface_downward_northward_stress', 'y_wind', 'low_type_cloud_area_fraction', 'wind_speed_of_gust', 'stratiform_rainfall_amount', 'stratiform_snowfall_amount', 'air_temperature', 'relative_humidity', 'surface_downward_eastward_stress', 'dew_point_temperature', 'fog_area_fraction'])"
      ]
     },
     "execution_count": 102,
     "metadata": {},
     "output_type": "execute_result"
    }
   ],
   "source": [
    "cubes.keys()"
   ]
  },
  {
   "cell_type": "code",
   "execution_count": 106,
   "metadata": {
    "collapsed": false
   },
   "outputs": [
    {
     "name": "stdout",
     "output_type": "stream",
     "text": [
      "high_type_cloud_area_fraction\n",
      "0: high_type_cloud_area_fraction / (1) (realization: 12; time: 58; latitude: 600; longitude: 800)\n",
      "\n",
      "\n",
      "wet_bulb_potential_temperature\n",
      "0: wet_bulb_potential_temperature / (K) (realization: 12; time: 59; pressure: 3; latitude: 600; longitude: 800)\n",
      "\n",
      "\n",
      "wet_bulb_freezing_level_altitude\n",
      "0: wet_bulb_freezing_level_altitude / (m) (realization: 12; time: 58; latitude: 600; longitude: 800)\n",
      "\n",
      "\n",
      "x_wind\n",
      "0: x_wind / (m s-1)                    (realization: 12; time: 58; latitude: 601; longitude: 800)\n",
      "1: x_wind / (m s-1)                    (realization: 12; time: 15; pressure: 16; latitude: 601; longitude: 800)\n",
      "2: x_wind / (m s-1)                    (realization: 12; time: 59; latitude: 600; longitude: 800)\n",
      "3: x_wind / (m s-1)                    (realization: 12; time: 44; pressure: 9; latitude: 601; longitude: 800)\n",
      "\n",
      "\n",
      "visibility_in_air\n",
      "0: visibility_in_air / (m)             (realization: 12; time: 58; latitude: 600; longitude: 800)\n",
      "\n",
      "\n",
      "air_pressure_at_sea_level\n",
      "0: air_pressure_at_sea_level / (Pa)    (realization: 12; time: 59; latitude: 600; longitude: 800)\n",
      "\n",
      "\n",
      "medium_type_cloud_area_fraction\n",
      "0: medium_type_cloud_area_fraction / (1) (realization: 12; time: 58; latitude: 600; longitude: 800)\n",
      "\n",
      "\n",
      "geopotential_height\n",
      "0: geopotential_height / (m)           (realization: 12; time: 15; pressure: 9; latitude: 600; longitude: 800)\n",
      "1: geopotential_height / (m)           (realization: 12; time: 44; pressure: 9; latitude: 600; longitude: 800)\n",
      "\n",
      "\n",
      "surface_downward_northward_stress\n",
      "0: surface_downward_northward_stress / (Pa) (realization: 12; time: 58; latitude: 601; longitude: 800)\n",
      "\n",
      "\n",
      "y_wind\n",
      "0: y_wind / (m s-1)                    (realization: 12; time: 58; latitude: 601; longitude: 800)\n",
      "1: y_wind / (m s-1)                    (realization: 12; time: 59; latitude: 601; longitude: 800)\n",
      "2: y_wind / (m s-1)                    (realization: 12; time: 15; pressure: 16; latitude: 601; longitude: 800)\n",
      "3: y_wind / (m s-1)                    (realization: 12; time: 44; pressure: 9; latitude: 601; longitude: 800)\n",
      "\n",
      "\n",
      "low_type_cloud_area_fraction\n",
      "0: low_type_cloud_area_fraction / (1)  (realization: 12; time: 58; latitude: 600; longitude: 800)\n",
      "\n",
      "\n",
      "wind_speed_of_gust\n",
      "0: wind_speed_of_gust / (m s-1)        (realization: 12; time: 58; latitude: 600; longitude: 800)\n",
      "1: wind_speed_of_gust / (m s-1)        (realization: 12; forecast_period: 58; latitude: 600; longitude: 800)\n",
      "\n",
      "\n",
      "stratiform_rainfall_amount\n",
      "0: stratiform_rainfall_amount / (kg m-2) (realization: 12; forecast_period: 58; latitude: 600; longitude: 800)\n",
      "\n",
      "\n",
      "stratiform_snowfall_amount\n",
      "0: stratiform_snowfall_amount / (kg m-2) (realization: 12; forecast_period: 58; latitude: 600; longitude: 800)\n",
      "\n",
      "\n",
      "air_temperature\n",
      "0: air_temperature / (K)               (realization: 12; time: 58; latitude: 600; longitude: 800)\n",
      "1: air_temperature / (K)               (realization: 12; forecast_period: 58; latitude: 600; longitude: 800)\n",
      "2: air_temperature / (K)               (realization: 12; forecast_period: 58; latitude: 600; longitude: 800)\n",
      "3: air_temperature / (K)               (realization: 12; time: 15; pressure: 16; latitude: 600; longitude: 800)\n",
      "4: air_temperature / (K)               (realization: 12; time: 44; pressure: 9; latitude: 600; longitude: 800)\n",
      "\n",
      "\n",
      "relative_humidity\n",
      "0: relative_humidity / (%)             (realization: 12; time: 58; latitude: 600; longitude: 800)\n",
      "1: relative_humidity / (%)             (realization: 12; time: 15; pressure: 16; latitude: 600; longitude: 800)\n",
      "2: relative_humidity / (%)             (realization: 12; time: 44; pressure: 9; latitude: 600; longitude: 800)\n",
      "\n",
      "\n",
      "surface_downward_eastward_stress\n",
      "0: surface_downward_eastward_stress / (Pa) (realization: 12; time: 58; latitude: 600; longitude: 800)\n",
      "\n",
      "\n",
      "dew_point_temperature\n",
      "0: dew_point_temperature / (K)         (realization: 12; time: 58; latitude: 600; longitude: 800)\n",
      "\n",
      "\n",
      "fog_area_fraction\n",
      "0: fog_area_fraction / (1)             (realization: 12; time: 58; latitude: 600; longitude: 800)\n",
      "\n",
      "\n"
     ]
    }
   ],
   "source": [
    "for key, value in cubes.items():\n",
    "    print(key)\n",
    "    print(value)\n",
    "    print('\\n')"
   ]
  },
  {
   "cell_type": "code",
   "execution_count": 117,
   "metadata": {
    "collapsed": false
   },
   "outputs": [
    {
     "name": "stdout",
     "output_type": "stream",
     "text": [
      "696\n"
     ]
    }
   ],
   "source": [
    "print(len(list(cubes['fog_area_fraction'][0].slices_over(['realization', 'time']))))"
   ]
  },
  {
   "cell_type": "code",
   "execution_count": null,
   "metadata": {
    "collapsed": true
   },
   "outputs": [],
   "source": []
  }
 ],
 "metadata": {
  "kernelspec": {
   "display_name": "Python 3",
   "language": "python",
   "name": "python3"
  },
  "language_info": {
   "codemirror_mode": {
    "name": "ipython",
    "version": 3
   },
   "file_extension": ".py",
   "mimetype": "text/x-python",
   "name": "python",
   "nbconvert_exporter": "python",
   "pygments_lexer": "ipython3",
   "version": "3.5.2"
  }
 },
 "nbformat": 4,
 "nbformat_minor": 2
}
