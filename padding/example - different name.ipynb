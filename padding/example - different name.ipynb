{
 "cells": [
  {
   "cell_type": "code",
   "execution_count": 34,
   "metadata": {
    "collapsed": true
   },
   "outputs": [],
   "source": [
    "import iris"
   ]
  },
  {
   "cell_type": "code",
   "execution_count": 35,
   "metadata": {
    "collapsed": false
   },
   "outputs": [
    {
     "name": "stderr",
     "output_type": "stream",
     "text": [
      "/opt/conda/lib/python3.5/site-packages/iris/fileformats/cf.py:1140: IrisDeprecation: NetCDF default loading behaviour currently does not expose variables which define reference surfaces for dimensionless vertical coordinates as independent Cubes. This behaviour is deprecated in favour of automatic promotion to Cubes. To switch to the new behaviour, set iris.FUTURE.netcdf_promote to True.\n",
      "  warn_deprecated(msg)\n"
     ]
    },
    {
     "data": {
      "text/plain": [
       "[<iris 'Cube' of visibility_in_air / (m) (latitude: 600; longitude: 800)>,\n",
       "<iris 'Cube' of visibility_in_air / (m) (latitude: 600; longitude: 800)>,\n",
       "<iris 'Cube' of visibility_in_air / (m) (latitude: 600; longitude: 800)>,\n",
       "<iris 'Cube' of visibility_in_air / (m) (latitude: 600; longitude: 800)>]"
      ]
     },
     "execution_count": 35,
     "metadata": {},
     "output_type": "execute_result"
    }
   ],
   "source": [
    "cubes = iris.load_raw('./*.nc', 'visibility_in_air')\n",
    "cubes"
   ]
  },
  {
   "cell_type": "code",
   "execution_count": 36,
   "metadata": {
    "collapsed": false
   },
   "outputs": [
    {
     "name": "stdout",
     "output_type": "stream",
     "text": [
      "DimCoord(array([ 3.]), standard_name='forecast_period', units=Unit('hours'), var_name='forecast_period_0')\n",
      "DimCoord(array([ 6.]), standard_name='forecast_period', units=Unit('hours'), var_name='forecast_period')\n",
      "DimCoord(array([ 9.]), standard_name='forecast_period', units=Unit('hours'), var_name='forecast_period')\n",
      "DimCoord(array([ 12.]), standard_name='forecast_period', units=Unit('hours'), var_name='forecast_period')\n"
     ]
    }
   ],
   "source": [
    "for c in cubes:\n",
    "    print(c.coord('forecast_period'))"
   ]
  },
  {
   "cell_type": "code",
   "execution_count": 42,
   "metadata": {
    "collapsed": false
   },
   "outputs": [],
   "source": [
    "cubes[0].coord('forecast_period').var_name = 'forecast_period'\n",
    "cubes[0].coord('time').var_name = 'time'"
   ]
  },
  {
   "cell_type": "code",
   "execution_count": 43,
   "metadata": {
    "collapsed": false
   },
   "outputs": [
    {
     "name": "stdout",
     "output_type": "stream",
     "text": [
      "DimCoord(array([ 3.]), standard_name='forecast_period', units=Unit('hours'), var_name='forecast_period')\n",
      "DimCoord(array([ 6.]), standard_name='forecast_period', units=Unit('hours'), var_name='forecast_period')\n",
      "DimCoord(array([ 9.]), standard_name='forecast_period', units=Unit('hours'), var_name='forecast_period')\n",
      "DimCoord(array([ 12.]), standard_name='forecast_period', units=Unit('hours'), var_name='forecast_period')\n"
     ]
    }
   ],
   "source": [
    "for c in cubes:\n",
    "    print(c.coord('forecast_period'))"
   ]
  },
  {
   "cell_type": "code",
   "execution_count": 44,
   "metadata": {
    "collapsed": false
   },
   "outputs": [
    {
     "data": {
      "text/plain": [
       "<iris 'Cube' of visibility_in_air / (m) (time: 4; latitude: 600; longitude: 800)>"
      ]
     },
     "execution_count": 44,
     "metadata": {},
     "output_type": "execute_result"
    }
   ],
   "source": [
    "cubes.merge_cube()"
   ]
  },
  {
   "cell_type": "code",
   "execution_count": null,
   "metadata": {
    "collapsed": true
   },
   "outputs": [],
   "source": []
  }
 ],
 "metadata": {
  "kernelspec": {
   "display_name": "Python 3",
   "language": "python",
   "name": "python3"
  },
  "language_info": {
   "codemirror_mode": {
    "name": "ipython",
    "version": 3
   },
   "file_extension": ".py",
   "mimetype": "text/x-python",
   "name": "python",
   "nbconvert_exporter": "python",
   "pygments_lexer": "ipython3",
   "version": "3.5.2"
  }
 },
 "nbformat": 4,
 "nbformat_minor": 2
}
