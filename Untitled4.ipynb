{
 "cells": [
  {
   "cell_type": "code",
   "execution_count": 3,
   "metadata": {
    "collapsed": false
   },
   "outputs": [],
   "source": [
    "!s3fs mogreps-g-sample2 /usr/local/share/notebooks/data/mogreps-g2 -o endpoint=eu-west-2 -o public_bucket=1"
   ]
  },
  {
   "cell_type": "code",
   "execution_count": 4,
   "metadata": {
    "collapsed": false
   },
   "outputs": [
    {
     "data": {
      "text/plain": [
       "['air_pressure_at_sea_level',\n",
       " 'air_temperature',\n",
       " 'dew_point_temperature',\n",
       " 'fog_area_fraction',\n",
       " 'geopotential_height',\n",
       " 'high_type_cloud_area_fraction',\n",
       " 'low_type_cloud_area_fraction',\n",
       " 'medium_type_cloud_area_fraction',\n",
       " 'relative_humidity',\n",
       " 'stratiform_rainfall_amount',\n",
       " 'stratiform_snowfall_amount',\n",
       " 'surface_downward_eastward_stress',\n",
       " 'surface_downward_northward_stress',\n",
       " 'visibility_in_air',\n",
       " 'wet_bulb_freezing_level_altitude',\n",
       " 'wet_bulb_potential_temperature',\n",
       " 'wind_speed_of_gust',\n",
       " 'x_wind',\n",
       " 'y_wind']"
      ]
     },
     "execution_count": 4,
     "metadata": {},
     "output_type": "execute_result"
    }
   ],
   "source": [
    "!!ls ./data/mogreps-g2"
   ]
  },
  {
   "cell_type": "code",
   "execution_count": 6,
   "metadata": {
    "collapsed": false
   },
   "outputs": [
    {
     "data": {
      "text/plain": [
       "['total 12G',\n",
       " 'd--------- 1 root root    0 Jan  1  1970 .',\n",
       " 'drwx------ 1 root root    0 Jan  1  1970 ..',\n",
       " '---------- 1 root root 593M May 18 12:04 20160101_00_mogreps-g_visibility_in_air.nc',\n",
       " '---------- 1 root root 593M May 18 11:34 20160101_06_mogreps-g_visibility_in_air.nc',\n",
       " '---------- 1 root root 593M May 18 11:44 20160101_12_mogreps-g_visibility_in_air.nc',\n",
       " '---------- 1 root root 594M May 18 12:55 20160101_18_mogreps-g_visibility_in_air.nc',\n",
       " '---------- 1 root root 592M May 18 12:22 20160102_00_mogreps-g_visibility_in_air.nc',\n",
       " '---------- 1 root root 592M May 18 12:41 20160102_06_mogreps-g_visibility_in_air.nc',\n",
       " '---------- 1 root root 593M May 18 13:05 20160102_12_mogreps-g_visibility_in_air.nc',\n",
       " '---------- 1 root root 592M May 18 12:41 20160102_18_mogreps-g_visibility_in_air.nc',\n",
       " '---------- 1 root root 593M May 18 12:22 20160103_00_mogreps-g_visibility_in_air.nc',\n",
       " '---------- 1 root root 592M May 18 11:59 20160103_06_mogreps-g_visibility_in_air.nc',\n",
       " '---------- 1 root root 592M May 18 13:02 20160103_12_mogreps-g_visibility_in_air.nc',\n",
       " '---------- 1 root root 592M May 18 12:34 20160103_18_mogreps-g_visibility_in_air.nc',\n",
       " '---------- 1 root root 591M May 18 11:43 20160104_00_mogreps-g_visibility_in_air.nc',\n",
       " '---------- 1 root root 590M May 18 12:52 20160104_06_mogreps-g_visibility_in_air.nc',\n",
       " '---------- 1 root root 591M May 18 12:29 20160104_12_mogreps-g_visibility_in_air.nc',\n",
       " '---------- 1 root root 591M May 18 12:29 20160104_18_mogreps-g_visibility_in_air.nc',\n",
       " '---------- 1 root root 593M May 18 11:43 20160105_00_mogreps-g_visibility_in_air.nc',\n",
       " '---------- 1 root root 590M May 18 12:54 20160105_06_mogreps-g_visibility_in_air.nc',\n",
       " '---------- 1 root root 590M May 18 12:21 20160105_12_mogreps-g_visibility_in_air.nc',\n",
       " '---------- 1 root root 590M May 18 12:36 20160105_18_mogreps-g_visibility_in_air.nc']"
      ]
     },
     "execution_count": 6,
     "metadata": {},
     "output_type": "execute_result"
    }
   ],
   "source": [
    "!!ls -lah ./data/mogreps-g2/visibility_in_air"
   ]
  },
  {
   "cell_type": "code",
   "execution_count": 9,
   "metadata": {
    "collapsed": false
   },
   "outputs": [
    {
     "name": "stderr",
     "output_type": "stream",
     "text": [
      "/opt/conda/lib/python3.5/site-packages/iris/fileformats/cf.py:1140: IrisDeprecation: NetCDF default loading behaviour currently does not expose variables which define reference surfaces for dimensionless vertical coordinates as independent Cubes. This behaviour is deprecated in favour of automatic promotion to Cubes. To switch to the new behaviour, set iris.FUTURE.netcdf_promote to True.\n",
      "  warn_deprecated(msg)\n"
     ]
    },
    {
     "name": "stdout",
     "output_type": "stream",
     "text": [
      "CPU times: user 24 ms, sys: 4 ms, total: 28 ms\n",
      "Wall time: 3.99 s\n"
     ]
    }
   ],
   "source": [
    "%%time\n",
    "import iris\n",
    "cubes = iris.load('./data/mogreps-g2/visibility_in_air/20160104_00_mogreps-g_visibility_in_air.nc')\n",
    "cubes"
   ]
  },
  {
   "cell_type": "code",
   "execution_count": 10,
   "metadata": {
    "collapsed": false
   },
   "outputs": [
    {
     "data": {
      "text/plain": [
       "[<iris 'Cube' of visibility_in_air / (m) (realization: 12; time: 58; latitude: 600; longitude: 800)>]"
      ]
     },
     "execution_count": 10,
     "metadata": {},
     "output_type": "execute_result"
    }
   ],
   "source": [
    "cubes"
   ]
  },
  {
   "cell_type": "code",
   "execution_count": 11,
   "metadata": {
    "collapsed": true
   },
   "outputs": [],
   "source": [
    "cube = cubes[0]"
   ]
  },
  {
   "cell_type": "code",
   "execution_count": 12,
   "metadata": {
    "collapsed": false
   },
   "outputs": [
    {
     "data": {
      "text/plain": [
       "<iris 'Cube' of visibility_in_air / (m) (realization: 12; time: 58; latitude: 600; longitude: 800)>"
      ]
     },
     "execution_count": 12,
     "metadata": {},
     "output_type": "execute_result"
    }
   ],
   "source": [
    "cube"
   ]
  },
  {
   "cell_type": "code",
   "execution_count": 17,
   "metadata": {
    "collapsed": false
   },
   "outputs": [],
   "source": [
    "\n",
    "smol_cube = cube[0][0]"
   ]
  },
  {
   "cell_type": "code",
   "execution_count": 19,
   "metadata": {
    "collapsed": false
   },
   "outputs": [
    {
     "name": "stdout",
     "output_type": "stream",
     "text": [
      "CPU times: user 132 ms, sys: 36 ms, total: 168 ms\n",
      "Wall time: 3.49 s\n"
     ]
    },
    {
     "data": {
      "text/plain": [
       "array([[ 24206.,  24171.,  24115., ...,  24233.,  24201.,  24195.],\n",
       "       [ 13303.,  13263.,  13493., ...,  13242.,  13119.,  13122.],\n",
       "       [ 17237.,  17147.,  17381., ...,  17215.,  17479.,  17541.],\n",
       "       ..., \n",
       "       [ 23725.,  23697.,  23669., ...,  23813.,  23789.,  23759.],\n",
       "       [ 23254.,  23234.,  23214., ...,  23306.,  23290.,  23270.],\n",
       "       [ 22513.,  22504.,  22500., ...,  22530.,  22523.,  22518.]], dtype=float32)"
      ]
     },
     "execution_count": 19,
     "metadata": {},
     "output_type": "execute_result"
    }
   ],
   "source": [
    "%%time\n",
    "smol_cube.data"
   ]
  },
  {
   "cell_type": "code",
   "execution_count": null,
   "metadata": {
    "collapsed": true
   },
   "outputs": [],
   "source": []
  }
 ],
 "metadata": {
  "kernelspec": {
   "display_name": "Python 3",
   "language": "python",
   "name": "python3"
  },
  "language_info": {
   "codemirror_mode": {
    "name": "ipython",
    "version": 3
   },
   "file_extension": ".py",
   "mimetype": "text/x-python",
   "name": "python",
   "nbconvert_exporter": "python",
   "pygments_lexer": "ipython3",
   "version": "3.5.2"
  }
 },
 "nbformat": 4,
 "nbformat_minor": 2
}
