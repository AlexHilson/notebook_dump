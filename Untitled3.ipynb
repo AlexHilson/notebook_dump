{
 "cells": [
  {
   "cell_type": "code",
   "execution_count": 3,
   "metadata": {
    "collapsed": false
   },
   "outputs": [
    {
     "data": {
      "text/plain": [
       "['total 198M',\n",
       " 'drwxr-xr-x 9 root   root    4.0K May  2 17:51 .',\n",
       " 'drwxrwsr-x 9 root   staff    108 Feb  8 17:35 ..',\n",
       " 'drwxr-xr-x 2 root   root    4.0K May  2 17:49 .ipynb_checkpoints',\n",
       " 'drwxr-xr-x 5 root   root    4.0K Apr 24 11:13 Example Notebooks',\n",
       " '-rw-r--r-- 1 root   root     30K May  2 12:52 Untitled.ipynb',\n",
       " '-rw-r--r-- 1 root   root     32K Apr 18 15:25 Untitled1.ipynb',\n",
       " '-rw-r--r-- 1 root   root     14K May  2 17:50 Untitled2.ipynb',\n",
       " '-rw-r--r-- 1 root   root    2.4K May  2 17:51 Untitled3.ipynb',\n",
       " '-rw-r--r-- 1 root   root       0 May  2 17:50 bathy.nc',\n",
       " 'drwxr-xr-x 3 root   root    4.0K May  2 09:51 dask',\n",
       " 'drwxr-xr-x 5 root   root    4.0K Apr 18 12:25 data',\n",
       " '-rw-r--r-- 1 root   root     27K May  2 15:35 medium_analysis_example.ipynb',\n",
       " '-rw-r--r-- 1 root   root     51M May  2 14:56 multi_param.nc',\n",
       " '-rw-r--r-- 1 root   root    8.7K Apr 26 09:23 mydask.png',\n",
       " 'drwxrwxrwx 1 nobody nogroup    0 May  2 15:18 ncic',\n",
       " 'drwxrwxrwx 1 root   root       0 Jan  1  1970 ncic2',\n",
       " 'drwxr-xr-x 3 root   root    4.0K May  2 12:20 padding',\n",
       " '-rw-r--r-- 1 root   root    833K Apr 27 12:47 padding.ipynb',\n",
       " '-rw-r--r-- 1 root   root    147M May  2 14:55 single_param.nc',\n",
       " '-rw-r--r-- 1 root   root    177K May  2 12:53 small_analysis_example.ipynb']"
      ]
     },
     "execution_count": 3,
     "metadata": {},
     "output_type": "execute_result"
    }
   ],
   "source": [
    "!!ls -lah"
   ]
  },
  {
   "cell_type": "code",
   "execution_count": null,
   "metadata": {
    "collapsed": true
   },
   "outputs": [],
   "source": []
  }
 ],
 "metadata": {
  "kernelspec": {
   "display_name": "Python 3",
   "language": "python",
   "name": "python3"
  },
  "language_info": {
   "codemirror_mode": {
    "name": "ipython",
    "version": 3
   },
   "file_extension": ".py",
   "mimetype": "text/x-python",
   "name": "python",
   "nbconvert_exporter": "python",
   "pygments_lexer": "ipython3",
   "version": "3.5.2"
  }
 },
 "nbformat": 4,
 "nbformat_minor": 2
}
